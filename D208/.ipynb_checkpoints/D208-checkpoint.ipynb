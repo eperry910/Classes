{
 "cells": [
  {
   "cell_type": "markdown",
   "metadata": {},
   "source": [
    "## D208 Predictive Modeling PA\n",
    "##### Submitted By Edwin Perry\n",
    "### Table of Contents\n",
    "<ol>\n",
    "    <li><a href=\"#A\">Research Question</a></li>\n",
    "    <li><a href=\"#B\">Describing Dataset</a></li>\n",
    "    <li><a href=\"#C\">Univariate Analysis</a></li>\n",
    "    <li><a href=\"#D\">Bivariate Analysis</a></li>\n",
    "    <li><a href=\"#E\">Summary</a></li>\n",
    "    <li><a href=\"#F\">Web Sources</a></li>\n",
    "    <li><a href=\"#G\">Sources</a></li>\n",
    "</ol>"
   ]
  },
  {
   "cell_type": "markdown",
   "metadata": {},
   "source": [
    "<a id=\"A\"></a>\n",
    "#### A: Research Question\n",
    "##### 1. Providing the question\n",
    "The research question I elected to examine is as follows: \"What factors are most closely associated with a customer leaving the business within the most recent month?\" This knowledge would be essential for the business, as understanding the customers' reasons for discontinuing the service can help the business take actions in the future to retain customers for longer periods of times. As acquiring customers costs money, retaining customers is essential for the business to maximize profits.\n",
    "\n",
    "\n",
    "##### 2. Goals of Analysis\n",
    "The goals for this analysis is to use a multiple regression model to determine which factors in the telecommunications dataset (independent/explanatory variables) correlate to customers leaving the business (the dependent/target variable). If the analysis can identify these factors, customers can be retained over longer periods of time, thus reducing the necessity of acquiring new customers or allowing for a higher number of concurrent customers, resulting in higher profitability for the business.\n",
    "\n",
    "<a id=\"B\"></a>\n",
    "#### B: Method Justification:\n",
    "##### 1: Assumptions of a Multiple Logistic Regression Model\n",
    "There are multiple assumptions made when one uses a multiple logistic regression model for data analysis. \n",
    "<ol>\n",
    "    <li>The first of these assumptions is that the dependent variable can be classified as binary. If there are more than two possible values for the dependent variable, then logistic regression is not sufficient to answer the research question</li>\n",
    "    <li>Another assumption to be made would be that the independent variables are independent of each other. If the independent variables interacted with each other, then that obscures the impact on the dependent variable. This is a phenomenon referred to as multicollinearity</li>\n",
    "    <li>A multiple logistic regression model also assumes that each data point (each row in the csv file) are independent of each other. If they interacted with each other, then the primary cause of the dependent variable is obscured, with some level of correlation being caused instead by the interaction between data points, rather than some observed variable.</li>\n",
    "    <li>Furthermore, multiple logistic regression models assume that the model has access to a sufficiently large sample size. Otherwise, factors that are not related may show a false relationship, due to mere coincedence.</li>\n",
    "</ol>\n",
    "\n",
    "##### 2: Benefits of Python\n",
    "\n",
    "The programming language I will be using for this analysis will be Python. There are a number of benefits to using Python for this analysis:\n",
    "<ol>\n",
    "    <li>Python's simple, easy to understand syntax will make the steps of this analysis easy to develop and understand</li>\n",
    "    <li>Python has a number of libraries designed specifically for this type of data analysis, such as sklearn, Pandas, NumPy, and SciPy</li>\n",
    "    <li>Python's Jupyter Notebooks makes displaying the data, separated out into sections with explanations, incredibly easy</li>    \n",
    "</ol>\n",
    "For these reasons, I have decided that Python would be an ideal tool for this data analysis\n",
    "\n",
    "##### 3: Explanation/Justification of Multiple Logistic Regression as a Technique\n",
    "\n",
    "Multiple logistic regression is a method used in data analysis to analyze the impact of multiple different independent variables on one dependent variable with two possible values. This corresponds well to the research question. The dataset contains many different explanatory variables that can be tested to find their impact on the dependent variable, and the dependent variable contains only two possibilities: either the customer has cancelled service within the past month or they havent. As such, multiple logistic regression is the best method to answer the research question\n",
    "\n",
    "<a id=\"C\"></a>\n",
    "#### C: Data Preparation\n",
    "##### 1: Goals and Steps\n",
    "\n",
    "There are a number of issues within the existing dataset. One such existing issue is that zip code is stored as a float, rather than a string. This leads to the loss of leading zeroes in the data. Furthermore, many entries are stored as string data types when they have binary values. This leads to a reduction in efficiency and the utilization of more time/resources in analyzing, when they could be stored as booleans. Finally, outliers exist within the dataset, which may mislead when engaging in data analysis. The steps of the data preperation/cleaning will be as follows\n",
    "<ol>\n",
    "    <li>Remove columns unnecessary to answering the research question</li>\n",
    "    <li>Convert columns that can be to booleans</li>\n",
    "    <li>Remove any duplicated customer ID's in the dataset, to ensure no customer is double counted</li>\n",
    "    <li>Remove any entries without an entry in a column that is categorical</li>\n",
    "    <li>For any entry missing values in a quantitative column, replace the missing value with the median value of the column</li>\n",
    "    <li>Filter out any entries that have a z-score in a quantitative column more than 3 or less than -3</li>\n",
    "</ol>\n",
    "\n",
    "The goal of this data cleaning would be to have a dataset with no outliers in any quantitative fields, no null values in any fields, no unnecessary columns, and all data being formatted correctly and in the most efficient manner\n",
    "\n",
    "##### 2: Dependent and Independent Variables\n",
    "\n",
    "All of the variables are summarized and explained below:\n",
    "\n",
    "<b>Children</b>\n",
    "\n",
    "The number of children the customer has, stored as an integer. This will be useful in determining whether those with larger sized families are likely to remain as long-term customers.\n"
   ]
  },
  {
   "cell_type": "code",
   "execution_count": 1,
   "metadata": {},
   "outputs": [
    {
     "name": "stdout",
     "output_type": "stream",
     "text": [
      "\u001b[1;31merror\u001b[0m: \u001b[1mexternally-managed-environment\u001b[0m\n",
      "\n",
      "\u001b[31m×\u001b[0m This environment is externally managed\n",
      "\u001b[31m╰─>\u001b[0m To install Python packages system-wide, try 'pacman -S\n",
      "\u001b[31m   \u001b[0m python-xyz', where xyz is the package you are trying to\n",
      "\u001b[31m   \u001b[0m install.\n",
      "\u001b[31m   \u001b[0m \n",
      "\u001b[31m   \u001b[0m If you wish to install a non-Arch-packaged Python package,\n",
      "\u001b[31m   \u001b[0m create a virtual environment using 'python -m venv path/to/venv'.\n",
      "\u001b[31m   \u001b[0m Then use path/to/venv/bin/python and path/to/venv/bin/pip.\n",
      "\u001b[31m   \u001b[0m \n",
      "\u001b[31m   \u001b[0m If you wish to install a non-Arch packaged Python application,\n",
      "\u001b[31m   \u001b[0m it may be easiest to use 'pipx install xyz', which will manage a\n",
      "\u001b[31m   \u001b[0m virtual environment for you. Make sure you have python-pipx\n",
      "\u001b[31m   \u001b[0m installed via pacman.\n",
      "\n",
      "\u001b[1;35mnote\u001b[0m: If you believe this is a mistake, please contact your Python installation or OS distribution provider. You can override this, at the risk of breaking your Python installation or OS, by passing --break-system-packages.\n",
      "\u001b[1;36mhint\u001b[0m: See PEP 668 for the detailed specification.\n"
     ]
    }
   ],
   "source": [
    "!pip install plotnine"
   ]
  },
  {
   "cell_type": "code",
   "execution_count": 1,
   "metadata": {},
   "outputs": [
    {
     "ename": "ModuleNotFoundError",
     "evalue": "No module named 'plotnine'",
     "output_type": "error",
     "traceback": [
      "\u001b[0;31m---------------------------------------------------------------------------\u001b[0m",
      "\u001b[0;31mModuleNotFoundError\u001b[0m                       Traceback (most recent call last)",
      "Cell \u001b[0;32mIn[1], line 6\u001b[0m\n\u001b[1;32m      4\u001b[0m \u001b[38;5;28;01mfrom\u001b[39;00m \u001b[38;5;21;01mscipy\u001b[39;00m \u001b[38;5;28;01mimport\u001b[39;00m stats\n\u001b[1;32m      5\u001b[0m \u001b[38;5;28;01mimport\u001b[39;00m \u001b[38;5;21;01mmatplotlib\u001b[39;00m\u001b[38;5;21;01m.\u001b[39;00m\u001b[38;5;21;01mpyplot\u001b[39;00m \u001b[38;5;28;01mas\u001b[39;00m \u001b[38;5;21;01mplt\u001b[39;00m\n\u001b[0;32m----> 6\u001b[0m \u001b[38;5;28;01mimport\u001b[39;00m \u001b[38;5;21;01mplotnine\u001b[39;00m \u001b[38;5;28;01mas\u001b[39;00m \u001b[38;5;21;01mp9\u001b[39;00m\n\u001b[1;32m      7\u001b[0m \u001b[38;5;28;01mimport\u001b[39;00m \u001b[38;5;21;01mseaborn\u001b[39;00m \u001b[38;5;28;01mas\u001b[39;00m \u001b[38;5;21;01msns\u001b[39;00m\n\u001b[1;32m      8\u001b[0m \u001b[38;5;28;01mimport\u001b[39;00m \u001b[38;5;21;01mstatsmodels\u001b[39;00m\u001b[38;5;21;01m.\u001b[39;00m\u001b[38;5;21;01mapi\u001b[39;00m \u001b[38;5;28;01mas\u001b[39;00m \u001b[38;5;21;01msm\u001b[39;00m\n",
      "\u001b[0;31mModuleNotFoundError\u001b[0m: No module named 'plotnine'"
     ]
    }
   ],
   "source": [
    "import pandas as pd\n",
    "from pandas.api.types import CategoricalDtype\n",
    "import numpy as np\n",
    "from scipy import stats\n",
    "import matplotlib.pyplot as plt\n",
    "import plotnine as p9\n",
    "import seaborn as sns\n",
    "import statsmodels.api as sm\n",
    "from statsmodels.stats.outliers_influence import variance_inflation_factor\n",
    "from sklearn import preprocessing\n",
    "from sklearn.linear_model import LogisticRegression\n",
    "from sklearn.model_selection import train_test_split\n",
    "from sklearn.metrics import confusion_matrix"
   ]
  },
  {
   "cell_type": "code",
   "execution_count": null,
   "metadata": {},
   "outputs": [],
   "source": [
    "data = pd.read_csv(\"/home/edwinp/Downloads/d9rkejv84kd9rk30fi2l/churn_clean.csv\")\n",
    "pd.set_option(\"display.max_columns\", None)"
   ]
  },
  {
   "cell_type": "code",
   "execution_count": null,
   "metadata": {},
   "outputs": [],
   "source": [
    "data.Children.value_counts().sort_index()"
   ]
  },
  {
   "cell_type": "markdown",
   "metadata": {},
   "source": [
    "<b>Income</b>\n",
    "\n",
    "The annual income of the customer, as reported at sign up. Stored as a float data type. Used as an independent variable"
   ]
  },
  {
   "cell_type": "code",
   "execution_count": null,
   "metadata": {},
   "outputs": [],
   "source": [
    "data.Income.describe()"
   ]
  },
  {
   "cell_type": "markdown",
   "metadata": {},
   "source": [
    "<b>Area</b>\n",
    "\n",
    "The residential area type that the customer lives in. Can be classified as rural, urban, or suburban. Stored as a string data type. Used as an independent variable"
   ]
  },
  {
   "cell_type": "code",
   "execution_count": null,
   "metadata": {},
   "outputs": [],
   "source": [
    "data.Area.value_counts().sort_index()"
   ]
  },
  {
   "cell_type": "markdown",
   "metadata": {},
   "source": [
    "<b>Age</b>\n",
    "\n",
    "The age of the customer as reported at sign up. Stored as an integer. Used as an independent variable"
   ]
  },
  {
   "cell_type": "code",
   "execution_count": null,
   "metadata": {},
   "outputs": [],
   "source": [
    "data.Age.describe()"
   ]
  },
  {
   "cell_type": "markdown",
   "metadata": {},
   "source": [
    "<b>Outage</b>\n",
    "\n",
    "The number of seconds each week a person experiences an outage on average. Stored as a float. This will used as an independent variable"
   ]
  },
  {
   "cell_type": "code",
   "execution_count": null,
   "metadata": {},
   "outputs": [],
   "source": [
    "data.Outage_sec_perweek.describe()"
   ]
  },
  {
   "cell_type": "markdown",
   "metadata": {},
   "source": [
    "<b>Contract</b>\n",
    "\n",
    "The contract term of the customer, with the options being Month-to-month, One year, and Two year. Stored as a string. This will be used as an independent variable"
   ]
  },
  {
   "cell_type": "code",
   "execution_count": null,
   "metadata": {},
   "outputs": [],
   "source": [
    "data.Contract.value_counts().sort_index()"
   ]
  },
  {
   "cell_type": "markdown",
   "metadata": {},
   "source": [
    "<b>Monthly Charge</b>\n",
    "\n",
    "The amount, in dollars, that the customer is charged each month. Stored as a float data type. This is an independent variable"
   ]
  },
  {
   "cell_type": "code",
   "execution_count": null,
   "metadata": {},
   "outputs": [],
   "source": [
    "data.MonthlyCharge.describe()"
   ]
  },
  {
   "cell_type": "markdown",
   "metadata": {},
   "source": [
    "<b>Marital</b>\n",
    "\n",
    "Marital status of the customer, as reported at sign-up. Stored as a string data type, with 5 possible values: Divorced, Married, Never Married, Separated, and Widowed. Used as an independent variable"
   ]
  },
  {
   "cell_type": "code",
   "execution_count": null,
   "metadata": {},
   "outputs": [],
   "source": [
    "data.Marital.value_counts().sort_index()"
   ]
  },
  {
   "cell_type": "markdown",
   "metadata": {},
   "source": [
    "<b>Gender</b>\n",
    "\n",
    "The gender of the customer, as reported at sign-up. Stored as a string containing 3 possible values: Female, Male, and Nonbinary. Used as an independent variable to determine if gender may influence the churn of the customer."
   ]
  },
  {
   "cell_type": "code",
   "execution_count": null,
   "metadata": {},
   "outputs": [],
   "source": [
    "data.Gender.value_counts().sort_index()"
   ]
  },
  {
   "cell_type": "markdown",
   "metadata": {},
   "source": [
    "<b>Techie</b>\n",
    "\n",
    "Whether or not the customer describes themselves as technically inclined, reported at sign-up. Can have two possible values: Yes and No. Currently stored as a string, but will be converted to boolean. An independent varibale to determine whether technological inclination is possibly associated with the customer churn"
   ]
  },
  {
   "cell_type": "code",
   "execution_count": null,
   "metadata": {},
   "outputs": [],
   "source": [
    "data.Techie.value_counts().sort_index()"
   ]
  },
  {
   "cell_type": "markdown",
   "metadata": {},
   "source": [
    "<b>Tenure</b>\n",
    "\n",
    "The number of months the customer has stayed with the provider. Stored as a float. Used as an independent variable potentially associated with churn"
   ]
  },
  {
   "cell_type": "code",
   "execution_count": null,
   "metadata": {},
   "outputs": [],
   "source": [
    "data.Tenure.describe()"
   ]
  },
  {
   "cell_type": "code",
   "execution_count": null,
   "metadata": {},
   "outputs": [],
   "source": [
    "data.Bandwidth_GB_Year.describe()"
   ]
  },
  {
   "cell_type": "code",
   "execution_count": null,
   "metadata": {},
   "outputs": [],
   "source": [
    "data.PaymentMethod.value_counts()"
   ]
  },
  {
   "cell_type": "code",
   "execution_count": null,
   "metadata": {},
   "outputs": [],
   "source": [
    "data.Churn.value_counts()"
   ]
  },
  {
   "cell_type": "code",
   "execution_count": null,
   "metadata": {},
   "outputs": [],
   "source": [
    "data['Income'].fillna(data['Income'].median(), inplace=True)\n",
    "data[\"Tenure\"].fillna(data[\"Tenure\"].median(), inplace=True)\n",
    "data[\"MonthlyCharge\"].fillna(data[\"MonthlyCharge\"].median(), inplace=True)\n",
    "data[\"Outage_sec_perweek\"].fillna(data[\"Outage_sec_perweek\"].median(), inplace=True)\n",
    "data[\"Age\"].fillna(data[\"Age\"].median(), inplace=True)\n",
    "data[\"Children\"].fillna(data[\"Children\"].median(), inplace=True)\n",
    "data.dropna(how='any',inplace=True)\n",
    "data.drop_duplicates(subset=['Customer_id'])\n",
    "zscores = stats.zscore(data['Income'])\n",
    "data['IncomeZScore'] = zscores\n",
    "zscores = stats.zscore(data['Tenure'])\n",
    "data['TenureZScore'] = zscores\n",
    "zscores = stats.zscore(data['MonthlyCharge'])\n",
    "data['MonthlyChargeZScore'] = zscores\n",
    "zscores = stats.zscore(data['Outage_sec_perweek'])\n",
    "data['Outage_sec_perweekZScore'] = zscores\n",
    "zscores = stats.zscore(data['Age'])\n",
    "data['AgeZScore'] = zscores\n",
    "zscores = stats.zscore(data['Children'])\n",
    "data['ChildrenZScore'] = zscores\n",
    "data = data.query(\"(IncomeZScore < 3 & IncomeZScore > -3) & (TenureZScore < 3 & TenureZScore > -3) & (MonthlyChargeZScore < 3 & MonthlyChargeZScore > -3) & (Outage_sec_perweekZScore < 3 & Outage_sec_perweekZScore > -3) & (AgeZScore < 3 & AgeZScore > -3) & (ChildrenZScore < 3 & ChildrenZScore > -3)\")\n",
    "\n",
    "data = data.drop([\"IncomeZScore\", 'TenureZScore', 'MonthlyChargeZScore', 'Outage_sec_perweekZScore', 'AgeZScore', 'ChildrenZScore', 'CaseOrder', 'Customer_id', 'Interaction', 'UID', 'City', 'State', 'County', 'Zip', 'Lat', 'Lng', 'TimeZone', 'Job', 'Port_modem', 'Tablet', 'InternetService', 'Phone', 'Multiple', 'OnlineSecurity', 'OnlineBackup', 'DeviceProtection', 'TechSupport', 'StreamingTV', 'StreamingMovies', 'Email', 'Contacts', 'Yearly_equip_failure', 'Population', 'PaperlessBilling', 'Item1', 'Item2', 'Item3', 'Item4', 'Item5', 'Item6', 'Item7', 'Item8'], axis=1)\n",
    "data.info()"
   ]
  },
  {
   "cell_type": "code",
   "execution_count": null,
   "metadata": {},
   "outputs": [],
   "source": [
    "display(data.head())"
   ]
  },
  {
   "cell_type": "markdown",
   "metadata": {},
   "source": [
    "##### 3: Univariate and Bivariate Statistics"
   ]
  },
  {
   "cell_type": "code",
   "execution_count": null,
   "metadata": {},
   "outputs": [],
   "source": [
    "plt.figure(figsize= [15,5])\n",
    "plt.title(\"Distribution of Customer Tenure\")\n",
    "churn = data[\"Churn\"].value_counts()\n",
    "plt.pie(churn, labels=churn.index, autopct='%1.1f%%')"
   ]
  },
  {
   "cell_type": "code",
   "execution_count": null,
   "metadata": {},
   "outputs": [],
   "source": [
    "plt.figure(figsize=[15,5])\n",
    "plt.suptitle(\"Investigation of Income\")\n",
    "plt.subplot(1,2,1)\n",
    "plt.title(\"Distribution of Income Level\")\n",
    "bins = np.arange(0,275000,10000)\n",
    "plt.hist(data=data, x=\"Income\", bins=bins)\n",
    "plt.xlabel(\"Income\")\n",
    "plt.ylabel(\"Number of Customers\")\n",
    "plt.subplot(1,2,2)\n",
    "plt.title(\"Income Level vs Tenure\")\n",
    "sns.violinplot(data=data, x=\"Income\", y=\"Churn\", orient=\"h\")\n",
    "plt.xlabel(\"Income\")\n",
    "plt.ylabel(\"Tenure\")"
   ]
  },
  {
   "cell_type": "code",
   "execution_count": null,
   "metadata": {},
   "outputs": [],
   "source": [
    "plt.figure(figsize=[15,5])\n",
    "plt.suptitle(\"Investigation of Yearly Bandwidth (GB)\")\n",
    "plt.subplot(1,2,1)\n",
    "plt.title(\"Distribution of Yearly Bandwidth (GB)\")\n",
    "bins = np.arange(100,7500,100)\n",
    "plt.hist(data=data, x=\"Bandwidth_GB_Year\", bins=bins)\n",
    "plt.xlabel(\"Yearly Bandwidth (GB)\")\n",
    "plt.ylabel(\"Number of Customers\")\n",
    "plt.subplot(1,2,2)\n",
    "plt.title(\"Yearly Bandwidth (GB) vs Tenure\")\n",
    "sns.violinplot(data=data, x=\"Bandwidth_GB_Year\", y=\"Churn\", orient=\"h\")\n",
    "plt.xlabel(\"Yearly Bandwidth (GB)\")\n",
    "plt.ylabel(\"Tenure\")"
   ]
  },
  {
   "cell_type": "code",
   "execution_count": null,
   "metadata": {},
   "outputs": [],
   "source": [
    "plt.figure(figsize=[15,5])\n",
    "plt.suptitle(\"Investigation of Monthly Charge\")\n",
    "plt.subplot(1,2,1)\n",
    "plt.title(\"Distribution of Monthly Charge Level\")\n",
    "bins = np.arange(50,300,10)\n",
    "plt.hist(data=data, x=\"MonthlyCharge\", bins=bins)\n",
    "plt.xlabel(\"Monthly Charge\")\n",
    "plt.ylabel(\"Number of Customers\")\n",
    "plt.subplot(1,2,2)\n",
    "plt.title(\"Monthly Charge vs Tenure\")\n",
    "sns.violinplot(data=data, x=\"MonthlyCharge\", y=\"Churn\", orient = \"h\")\n",
    "plt.xlabel(\"Monthly Charge\")\n",
    "plt.ylabel(\"Tenure\")"
   ]
  },
  {
   "cell_type": "code",
   "execution_count": null,
   "metadata": {},
   "outputs": [],
   "source": [
    "plt.figure(figsize=[15,5])\n",
    "plt.suptitle(\"Investigation of Age\")\n",
    "plt.subplot(1,2,1)\n",
    "plt.title(\"Distribution of Age\")\n",
    "bins = np.arange(15,90,1)\n",
    "plt.hist(data=data, x=\"Age\", bins=bins)\n",
    "plt.xlabel(\"Age\")\n",
    "plt.ylabel(\"Number of Customers\")\n",
    "plt.subplot(1,2,2)\n",
    "plt.title(\"Age vs Tenure\")\n",
    "sns.violinplot(data=data, x=\"Age\", y=\"Churn\", orient = \"h\")"
   ]
  },
  {
   "cell_type": "code",
   "execution_count": null,
   "metadata": {},
   "outputs": [],
   "source": [
    "plt.figure(figsize=[15,5])\n",
    "plt.suptitle(\"Investigation of Outage Seconds Per Week\")\n",
    "plt.subplot(1,2,1)\n",
    "plt.title(\"Distribution of Outage Seconds Per Week\")\n",
    "bins = np.arange(0,25,1)\n",
    "plt.hist(data=data, x=\"Outage_sec_perweek\", bins=bins)\n",
    "plt.xlabel(\"Outage Seconds Per Week\")\n",
    "plt.ylabel(\"Number of Customers\")\n",
    "plt.subplot(1,2,2)\n",
    "plt.title(\"Outage Seconds Per Week vs Tenure\")\n",
    "sns.violinplot(data=data, x=\"Outage_sec_perweek\", y=\"Churn\", orient = \"h\")"
   ]
  },
  {
   "cell_type": "code",
   "execution_count": null,
   "metadata": {},
   "outputs": [],
   "source": [
    "plt.figure(figsize=[15,5])\n",
    "plt.suptitle(\"Investigation of Children\")\n",
    "plt.subplot(1,2,1)\n",
    "plt.title(\"Distribution of Children\")\n",
    "bins = np.arange(0,10,1)\n",
    "plt.hist(data=data, x=\"Children\", bins=bins)\n",
    "plt.xlabel(\"Children\")\n",
    "plt.ylabel(\"Number of Customers\")\n",
    "plt.subplot(1,2,2)\n",
    "plt.title(\"Children vs Tenure\")\n",
    "sns.countplot(data=data, x=\"Children\", hue=\"Churn\")"
   ]
  },
  {
   "cell_type": "code",
   "execution_count": null,
   "metadata": {},
   "outputs": [],
   "source": [
    "plt.figure(figsize=[15,5])\n",
    "plt.suptitle(\"Investigation into Marital Status\")\n",
    "plt.subplot(1,2,1)\n",
    "plt.title(\"Distribution of Marital Status\")\n",
    "marital_status = data[\"Marital\"].value_counts()\n",
    "plt.pie(marital_status, labels=marital_status.index, autopct='%1.1f%%')\n",
    "plt.subplot(1,2,2)\n",
    "plt.title(\"Relationship of Marital Status and Tenure\")\n",
    "sns.countplot(data = data, x=\"Marital\", hue=\"Churn\")\n",
    "plt.xlabel(\"Marital Status\")\n",
    "plt.ylabel(\"Tenure\")"
   ]
  },
  {
   "cell_type": "code",
   "execution_count": null,
   "metadata": {},
   "outputs": [],
   "source": [
    "plt.figure(figsize=[20,5])\n",
    "plt.suptitle(\"Investigation into Payment Methods\")\n",
    "plt.subplot(1,2,1)\n",
    "plt.title(\"Distribution of Payment Methods\")\n",
    "payment_method = data[\"PaymentMethod\"].value_counts()\n",
    "plt.pie(payment_method, labels=payment_method.index, autopct='%1.1f%%')\n",
    "plt.subplot(1,2,2)\n",
    "plt.title(\"Relationship of Payment Methods and Tenure\")\n",
    "sns.countplot(data = data, x=\"PaymentMethod\", hue=\"Churn\")\n",
    "plt.xlabel(\"Payment Method\")\n",
    "plt.ylabel(\"Tenure\")"
   ]
  },
  {
   "cell_type": "code",
   "execution_count": null,
   "metadata": {},
   "outputs": [],
   "source": [
    "plt.figure(figsize=[15,5])\n",
    "plt.suptitle(\"Investigation into Residential Areas\")\n",
    "plt.subplot(1,2,1)\n",
    "plt.title(\"Distribution of Area Types\")\n",
    "area_type = data[\"Area\"].value_counts()\n",
    "plt.pie(area_type, labels=area_type.index, autopct='%1.1f%%')\n",
    "plt.subplot(1,2,2)\n",
    "plt.title(\"Relationship of Area Type and Tenure\")\n",
    "sns.countplot(data = data, x=\"Area\", hue=\"Churn\")\n",
    "plt.xlabel(\"Area Type\")\n",
    "plt.ylabel(\"Tenure\")"
   ]
  },
  {
   "cell_type": "code",
   "execution_count": null,
   "metadata": {},
   "outputs": [],
   "source": [
    "plt.figure(figsize=[15,5])\n",
    "plt.suptitle(\"Investigation into Contract Types\")\n",
    "plt.subplot(1,2,1)\n",
    "plt.title(\"Distribution of Contract Types\")\n",
    "contract_type = data[\"Contract\"].value_counts()\n",
    "plt.pie(contract_type, labels=contract_type.index, autopct='%1.1f%%')\n",
    "plt.subplot(1,2,2)\n",
    "plt.title(\"Relationship of Contract Type and Tenure\")\n",
    "sns.countplot(data = data, x=\"Contract\", hue=\"Churn\")\n",
    "plt.xlabel(\"Contract Type\")\n",
    "plt.ylabel(\"Tenure\")"
   ]
  },
  {
   "cell_type": "code",
   "execution_count": null,
   "metadata": {},
   "outputs": [],
   "source": [
    "plt.figure(figsize=[15,5])\n",
    "plt.suptitle(\"Investigation into Gender\")\n",
    "plt.subplot(1,2,1)\n",
    "plt.title(\"Distribution of Gender\")\n",
    "client_gender = data[\"Gender\"].value_counts()\n",
    "plt.pie(client_gender, labels=client_gender.index, autopct='%1.1f%%')\n",
    "plt.subplot(1,2,2)\n",
    "plt.title(\"Relationship of Gender and Tenure\")\n",
    "sns.countplot(data = data, x=\"Gender\", hue=\"Churn\")\n",
    "plt.xlabel(\"Gender\")\n",
    "plt.ylabel(\"Tenure\")"
   ]
  },
  {
   "cell_type": "code",
   "execution_count": null,
   "metadata": {
    "scrolled": true
   },
   "outputs": [],
   "source": [
    "plt.figure(figsize=[15,5])\n",
    "plt.suptitle(\"Investigation into Technical Inclination\")\n",
    "plt.subplot(1,2,1)\n",
    "plt.title(\"Distribution of Technical Inclination\")\n",
    "client_tech = data[\"Techie\"].value_counts()\n",
    "plt.pie(client_tech, labels=client_tech.index, autopct='%1.1f%%')\n",
    "plt.subplot(1,2,2)\n",
    "plt.title(\"Relationship of Technical Inclination and Tenure\")\n",
    "sns.countplot(data = data, x=\"Techie\", hue=\"Churn\")\n",
    "plt.xlabel(\"Technical Inclination\")\n",
    "plt.ylabel(\"Tenure\")"
   ]
  },
  {
   "cell_type": "markdown",
   "metadata": {},
   "source": [
    "##### 4: Data transformation goals\n",
    "All columns containing categorical data still require data transformation. Techie is a column that only needs the data type to be converted, from the string values to 1 or 0. For all other categorical data, though, they need to be split into multiple columns that provide the information as to what the entry is. To take one example, the contract column will be converted into a yearcontract column, a twoyearcontract column, and a month_to_month column, each of which containing only 0 and 1 as values, for true and false"
   ]
  },
  {
   "cell_type": "code",
   "execution_count": null,
   "metadata": {},
   "outputs": [],
   "source": [
    "data[\"Techie\"] = data[\"Techie\"].apply(lambda x: 0 if x == \"Yes\" else 1)\n",
    "data['Area'] = data['Area'].astype(\"category\")\n",
    "data['Marital'] = data.Marital.astype('category')\n",
    "data.Gender = data.Gender.astype('category')\n",
    "data.Contract = data.Contract.astype('category')\n",
    "data.PaymentMethod = data.PaymentMethod.astype('category')\n",
    "data = pd.get_dummies(data, columns=['Gender', 'Area', 'Marital', 'Contract', 'PaymentMethod', 'Techie'], dtype=int)\n",
    "data[\"Churn\"] = data[\"Churn\"].apply(lambda x: 0 if x == \"Yes\" else 1)\n",
    "\n",
    "print(data.info())"
   ]
  },
  {
   "cell_type": "markdown",
   "metadata": {},
   "source": [
    "##### 5: CSV Export\n",
    "See attached csv for the cleaned and transformed data"
   ]
  },
  {
   "cell_type": "code",
   "execution_count": null,
   "metadata": {},
   "outputs": [],
   "source": [
    "data.to_csv('./D208CleanedData.csv')"
   ]
  },
  {
   "cell_type": "code",
   "execution_count": null,
   "metadata": {},
   "outputs": [],
   "source": [
    "data.info()"
   ]
  },
  {
   "cell_type": "markdown",
   "metadata": {},
   "source": [
    "<h4>D: Initial and Reduced Logistic Regression Model</h4>\n",
    "<h5>1: Initial Multiple Logistic Regression Model</h5>"
   ]
  },
  {
   "cell_type": "code",
   "execution_count": null,
   "metadata": {
    "scrolled": true
   },
   "outputs": [],
   "source": [
    "x = data[['Gender_Male', 'Gender_Female', 'Gender_Nonbinary', 'Area_Urban', 'Area_Suburban', 'Area_Rural', 'Marital_Divorced', 'Marital_Widowed', 'Marital_Separated', 'Marital_Never Married', 'Marital_Married', 'Contract_One year', 'Contract_Two Year', 'Contract_Month-to-month', 'PaymentMethod_Electronic Check', 'PaymentMethod_Credit Card (automatic)', 'PaymentMethod_Bank Transfer(automatic)', 'PaymentMethod_Mailed Check','Techie_0', 'Techie_1',  'Children', 'Age', 'Income', 'Outage_sec_perweek', 'MonthlyCharge', 'Bandwidth_GB_Year']]\n",
    "vif = pd.DataFrame()\n",
    "vif[\"Factor\"] = x.columns\n",
    "vif[\"vif\"] = [variance_inflation_factor(x.values, i) for i in range(len(x.columns))]\n",
    "print(vif)"
   ]
  },
  {
   "cell_type": "code",
   "execution_count": null,
   "metadata": {},
   "outputs": [],
   "source": [
    "x = data[['Gender_Male', 'Gender_Female', 'Area_Urban', 'Area_Suburban',  'Marital_Divorced', 'Marital_Widowed', 'Marital_Separated', 'Marital_Never Married', 'Contract_Two Year', 'Contract_Month-to-month', 'PaymentMethod_Electronic Check', 'PaymentMethod_Bank Transfer(automatic)', 'PaymentMethod_Mailed Check','Techie_0', 'Children', 'Age', 'Income', 'Outage_sec_perweek', 'MonthlyCharge', 'Bandwidth_GB_Year']]\n",
    "vif = pd.DataFrame()\n",
    "vif[\"Factor\"] = x.columns\n",
    "vif[\"vif\"] = [variance_inflation_factor(x.values, i) for i in range(len(x.columns))]\n",
    "print(vif)"
   ]
  },
  {
   "cell_type": "code",
   "execution_count": null,
   "metadata": {},
   "outputs": [],
   "source": [
    "y = data['Churn']\n",
    "x = data[['Gender_Male', 'Gender_Female', 'Area_Urban', 'Area_Suburban',  'Marital_Divorced', 'Marital_Widowed', 'Marital_Separated', 'Marital_Never Married', 'Contract_Two Year', 'Contract_Month-to-month', 'PaymentMethod_Electronic Check', 'PaymentMethod_Bank Transfer(automatic)', 'PaymentMethod_Mailed Check','Techie_0', 'Children', 'Age', 'Income', 'Outage_sec_perweek', 'MonthlyCharge', 'Bandwidth_GB_Year']]\n",
    "x = sm.add_constant(x)\n",
    "model = sm.Logit(y, x).fit()\n",
    "print(model.summary())"
   ]
  },
  {
   "cell_type": "markdown",
   "metadata": {},
   "source": [
    "##### 2: Justifying a Statistically Based Feature Selection Procedure\n",
    "We previously establish, multicolinearity can cause issues, so a reduction in the features is justified to ensure that multicollinearity is not impacting this model. Therefore, we will be using backward stepwise elimination to remove the variable with the highest p-value over a threshold of 0.05. This will be repeated until every variable has a p-value of <0.05"
   ]
  },
  {
   "cell_type": "code",
   "execution_count": null,
   "metadata": {},
   "outputs": [],
   "source": [
    "y = data.Churn\n",
    "x = data[['Gender_Male', 'Gender_Female', 'Area_Urban', 'Area_Suburban',  'Marital_Divorced', 'Marital_Widowed', 'Marital_Separated', 'Marital_Never Married', 'Contract_Two Year', 'Contract_Month-to-month', 'PaymentMethod_Electronic Check', 'PaymentMethod_Bank Transfer(automatic)', 'PaymentMethod_Mailed Check','Techie_0', 'Children', 'Age', 'Income', 'Outage_sec_perweek', 'MonthlyCharge', 'Bandwidth_GB_Year']].assign(const=1)\n",
    "model = sm.Logit(y, x)\n",
    "results = model.fit()\n",
    "print(results.summary())"
   ]
  },
  {
   "cell_type": "code",
   "execution_count": null,
   "metadata": {},
   "outputs": [],
   "source": [
    "y = data.Churn\n",
    "x = data[['Gender_Male', 'Gender_Female', 'Area_Urban', 'Area_Suburban',  'Marital_Divorced', 'Marital_Widowed', 'Marital_Separated', 'Marital_Never Married', 'Contract_Two Year', 'Contract_Month-to-month', 'PaymentMethod_Electronic Check', 'PaymentMethod_Bank Transfer(automatic)', 'Techie_0', 'Children', 'Age', 'Income', 'Outage_sec_perweek', 'MonthlyCharge', 'Bandwidth_GB_Year']].assign(const=1)\n",
    "model = sm.Logit(y, x)\n",
    "results = model.fit()\n",
    "print(results.summary())"
   ]
  },
  {
   "cell_type": "code",
   "execution_count": null,
   "metadata": {},
   "outputs": [],
   "source": [
    "y = data.Churn\n",
    "x = data[['Gender_Male', 'Gender_Female', 'Area_Urban', 'Marital_Divorced', 'Marital_Widowed', 'Marital_Separated', 'Marital_Never Married', 'Contract_Two Year', 'Contract_Month-to-month', 'PaymentMethod_Electronic Check', 'PaymentMethod_Bank Transfer(automatic)', 'Techie_0', 'Children', 'Age', 'Income', 'Outage_sec_perweek', 'MonthlyCharge', 'Bandwidth_GB_Year']].assign(const=1)\n",
    "model = sm.Logit(y, x)\n",
    "results = model.fit()\n",
    "print(results.summary())"
   ]
  },
  {
   "cell_type": "code",
   "execution_count": null,
   "metadata": {},
   "outputs": [],
   "source": [
    "y = data.Churn\n",
    "x = data[['Gender_Male', 'Gender_Female', 'Area_Urban', 'Marital_Divorced', 'Marital_Widowed', 'Marital_Separated', 'Contract_Two Year', 'Contract_Month-to-month', 'PaymentMethod_Electronic Check', 'PaymentMethod_Bank Transfer(automatic)', 'Techie_0', 'Children', 'Age', 'Income', 'Outage_sec_perweek', 'MonthlyCharge', 'Bandwidth_GB_Year']].assign(const=1)\n",
    "model = sm.Logit(y, x)\n",
    "results = model.fit()\n",
    "print(results.summary())"
   ]
  },
  {
   "cell_type": "code",
   "execution_count": null,
   "metadata": {},
   "outputs": [],
   "source": [
    "y = data.Churn\n",
    "x = data[['Gender_Male', 'Gender_Female', 'Area_Urban', 'Marital_Divorced', 'Marital_Widowed', 'Marital_Separated', 'Contract_Two Year', 'Contract_Month-to-month', 'PaymentMethod_Electronic Check', 'PaymentMethod_Bank Transfer(automatic)', 'Techie_0', 'Children', 'Age', 'Income', 'MonthlyCharge', 'Bandwidth_GB_Year']].assign(const=1)\n",
    "model = sm.Logit(y, x)\n",
    "results = model.fit()\n",
    "print(results.summary())"
   ]
  },
  {
   "cell_type": "code",
   "execution_count": null,
   "metadata": {},
   "outputs": [],
   "source": [
    "y = data.Churn\n",
    "x = data[['Gender_Male', 'Gender_Female', 'Marital_Divorced', 'Marital_Widowed', 'Marital_Separated', 'Contract_Two Year', 'Contract_Month-to-month', 'PaymentMethod_Electronic Check', 'PaymentMethod_Bank Transfer(automatic)', 'Techie_0', 'Children', 'Age', 'Income', 'MonthlyCharge', 'Bandwidth_GB_Year']].assign(const=1)\n",
    "model = sm.Logit(y, x)\n",
    "results = model.fit()\n",
    "print(results.summary())"
   ]
  },
  {
   "cell_type": "code",
   "execution_count": null,
   "metadata": {},
   "outputs": [],
   "source": [
    "y = data.Churn\n",
    "x = data[['Gender_Male', 'Gender_Female', 'Marital_Widowed', 'Marital_Separated', 'Contract_Two Year', 'Contract_Month-to-month', 'PaymentMethod_Electronic Check', 'PaymentMethod_Bank Transfer(automatic)', 'Techie_0', 'Children', 'Age', 'Income', 'MonthlyCharge', 'Bandwidth_GB_Year']].assign(const=1)\n",
    "model = sm.Logit(y, x)\n",
    "results = model.fit()\n",
    "print(results.summary())"
   ]
  },
  {
   "cell_type": "code",
   "execution_count": null,
   "metadata": {},
   "outputs": [],
   "source": [
    "y = data.Churn\n",
    "x = data[['Gender_Male', 'Marital_Widowed', 'Marital_Separated', 'Contract_Two Year', 'Contract_Month-to-month', 'PaymentMethod_Electronic Check', 'PaymentMethod_Bank Transfer(automatic)', 'Techie_0', 'Children', 'Age', 'Income', 'MonthlyCharge', 'Bandwidth_GB_Year']].assign(const=1)\n",
    "model = sm.Logit(y, x)\n",
    "results = model.fit()\n",
    "print(results.summary())"
   ]
  },
  {
   "cell_type": "code",
   "execution_count": null,
   "metadata": {},
   "outputs": [],
   "source": [
    "y = data.Churn\n",
    "x = data[['Gender_Male', 'Marital_Widowed', 'Marital_Separated',  'Contract_Month-to-month', 'PaymentMethod_Electronic Check', 'PaymentMethod_Bank Transfer(automatic)', 'Techie_0', 'Children', 'Age', 'Income', 'MonthlyCharge', 'Bandwidth_GB_Year']].assign(const=1)\n",
    "model = sm.Logit(y, x)\n",
    "results = model.fit()\n",
    "print(results.summary())"
   ]
  },
  {
   "cell_type": "code",
   "execution_count": null,
   "metadata": {},
   "outputs": [],
   "source": [
    "y = data.Churn\n",
    "x = data[['Gender_Male', 'Marital_Widowed', 'Marital_Separated',  'Contract_Month-to-month', 'PaymentMethod_Electronic Check', 'Techie_0', 'Children', 'Age', 'Income', 'MonthlyCharge', 'Bandwidth_GB_Year']].assign(const=1)\n",
    "model = sm.Logit(y, x)\n",
    "results = model.fit()\n",
    "print(results.summary())"
   ]
  },
  {
   "cell_type": "code",
   "execution_count": null,
   "metadata": {},
   "outputs": [],
   "source": [
    "y = data.Churn\n",
    "x = data[['Gender_Male', 'Marital_Widowed', 'Marital_Separated',  'Contract_Month-to-month', 'PaymentMethod_Electronic Check', 'Techie_0', 'Children', 'Age', 'MonthlyCharge', 'Bandwidth_GB_Year']].assign(const=1)\n",
    "model = sm.Logit(y, x)\n",
    "results = model.fit()\n",
    "print(results.summary())"
   ]
  },
  {
   "cell_type": "code",
   "execution_count": null,
   "metadata": {},
   "outputs": [],
   "source": [
    "y = data.Churn\n",
    "x = data[['Gender_Male', 'Marital_Widowed', 'Contract_Month-to-month', 'PaymentMethod_Electronic Check', 'Techie_0', 'Children', 'Age', 'MonthlyCharge', 'Bandwidth_GB_Year']].assign(const=1)\n",
    "model = sm.Logit(y, x)\n",
    "results = model.fit()\n",
    "print(results.summary())"
   ]
  },
  {
   "cell_type": "code",
   "execution_count": null,
   "metadata": {},
   "outputs": [],
   "source": [
    "y = data.Churn\n",
    "x = data[['Gender_Male', 'Marital_Widowed', 'Contract_Month-to-month', 'PaymentMethod_Electronic Check', 'Techie_0', 'Children','MonthlyCharge', 'Bandwidth_GB_Year']].assign(const=1)\n",
    "model = sm.Logit(y, x)\n",
    "results = model.fit()\n",
    "print(results.summary())"
   ]
  },
  {
   "cell_type": "code",
   "execution_count": null,
   "metadata": {},
   "outputs": [],
   "source": [
    "y = data.Churn\n",
    "x = data[['Gender_Male', 'Contract_Month-to-month', 'PaymentMethod_Electronic Check', 'Techie_0', 'Children','MonthlyCharge', 'Bandwidth_GB_Year']].assign(const=1)\n",
    "model = sm.Logit(y, x)\n",
    "results = model.fit()\n",
    "print(results.summary())"
   ]
  },
  {
   "cell_type": "code",
   "execution_count": null,
   "metadata": {},
   "outputs": [],
   "source": [
    "y = data.Churn\n",
    "x = data[['Gender_Male', 'Contract_Month-to-month', 'PaymentMethod_Electronic Check', 'Techie_0', 'MonthlyCharge', 'Bandwidth_GB_Year']].assign(const=1)\n",
    "model = sm.Logit(y, x)\n",
    "results = model.fit()\n",
    "print(results.summary())"
   ]
  },
  {
   "cell_type": "markdown",
   "metadata": {},
   "source": [
    "This last model is our final model for the logistic regression, as all p-values have fallen to 0, beneath the threshold of 0.05.This model is slightly improved, as can be seen from the change in the pseudo R-squ value from 0.4874 to 0.4856\n",
    "##### 3: Reduced Logistic Regression Model\n",
    "A large number of our variables were removed. The variables were as follows:\n",
    "<ul>\n",
    "    <li>Area</li>\n",
    "    <li>Marital</li>\n",
    "    <li>Outage_sec_perweek</li>\n",
    "    <li>Income</li>\n",
    "    <li>Age</li>\n",
    "    <li>Children</li>\n",
    "</ul>\n",
    "The remaining independent variables are as follows:\n",
    "<ul>\n",
    "    <li>Gender_Male</li>\n",
    "    <li>Contract_Month_to_month</li>\n",
    "    <li>PaymentMethod_Electronic Check</li>\n",
    "    <li>Techie</li>\n",
    "    <li>MonthlyCharge</li>\n",
    "    <li>Bandwidth_GB_Year</li>\n",
    "</ul>\n",
    "All of these influence the only dependent variable of Churn"
   ]
  },
  {
   "cell_type": "code",
   "execution_count": null,
   "metadata": {
    "scrolled": true
   },
   "outputs": [],
   "source": [
    "data = data[['Churn', 'Gender_Male', 'Contract_Month-to-month', 'PaymentMethod_Electronic Check', 'Techie_0', 'MonthlyCharge', 'Bandwidth_GB_Year']] \n",
    "y = data.Churn\n",
    "x = data[['Gender_Male', 'Contract_Month-to-month', 'PaymentMethod_Electronic Check', 'Techie_0', 'MonthlyCharge', 'Bandwidth_GB_Year']].assign(const=1)\n",
    "model = sm.Logit(y, x)\n",
    "results = model.fit()\n",
    "print(results.summary())"
   ]
  },
  {
   "cell_type": "markdown",
   "metadata": {},
   "source": [
    "###### <a id=\"E\"></a>\n",
    "#### E: Analyzing Dataset\n",
    "##### 1: Explanation of Data Analysis Procedure\n",
    "The initial multiple logistic regression model had a large number of variables, the majority of which having no value to the model itself. After the variables with p-values above 0.05 were removed, the model reduced the overall number of dependent in it from 26 to 6. With these, we see a correlation with the churn without needing to worry about the multicolinearity of the variables influencing or biasing the results"
   ]
  },
  {
   "cell_type": "markdown",
   "metadata": {},
   "source": [
    "##### 2: Output and Calculations"
   ]
  },
  {
   "cell_type": "code",
   "execution_count": null,
   "metadata": {
    "scrolled": true
   },
   "outputs": [],
   "source": [
    "sns.violinplot(x='MonthlyCharge', y=\"Churn\", data=data, orient = \"h\")"
   ]
  },
  {
   "cell_type": "code",
   "execution_count": null,
   "metadata": {},
   "outputs": [],
   "source": [
    "sns.violinplot(x='Bandwidth_GB_Year', y=\"Churn\", orient=\"h\", data=data)"
   ]
  },
  {
   "cell_type": "code",
   "execution_count": null,
   "metadata": {},
   "outputs": [],
   "source": [
    "plt.title(\"Relationship of Techie and Churn\")\n",
    "sns.countplot(data = data, x=\"Techie_0\", hue=\"Churn\")\n",
    "plt.xlabel(\"Techie\")\n",
    "plt.ylabel(\"Count\")"
   ]
  },
  {
   "cell_type": "code",
   "execution_count": null,
   "metadata": {},
   "outputs": [],
   "source": [
    "plt.title(\"Relationship of Payment Method and Churn\")\n",
    "sns.countplot(data = data, x='PaymentMethod_Electronic Check', hue=\"Churn\")\n",
    "plt.xlabel(\"Payment Method\")\n",
    "plt.ylabel(\"Count\")"
   ]
  },
  {
   "cell_type": "code",
   "execution_count": null,
   "metadata": {},
   "outputs": [],
   "source": [
    "plt.title(\"Relationship of Contract and Churn\")\n",
    "sns.countplot(data = data, x='Contract_Month-to-month', hue=\"Churn\")\n",
    "plt.xlabel(\"Month-to-month\")\n",
    "plt.ylabel(\"Count\")"
   ]
  },
  {
   "cell_type": "code",
   "execution_count": null,
   "metadata": {},
   "outputs": [],
   "source": [
    "plt.title(\"Relationship of Gender and Churn\")\n",
    "sns.countplot(data = data, x='Gender_Male', hue=\"Churn\")\n",
    "plt.xlabel(\"Male\")\n",
    "plt.ylabel(\"Count\")"
   ]
  },
  {
   "cell_type": "markdown",
   "metadata": {},
   "source": [
    "A copy of the code used, without markdown cells or visualizations, can be found below"
   ]
  },
  {
   "cell_type": "code",
   "execution_count": null,
   "metadata": {
    "scrolled": true
   },
   "outputs": [],
   "source": [
    "import pandas as pd\n",
    "from pandas.api.types import CategoricalDtype\n",
    "import numpy as np\n",
    "from scipy import stats\n",
    "import matplotlib.pyplot as plt\n",
    "import plotnine as p9\n",
    "import seaborn as sns\n",
    "import statsmodels.api as sm\n",
    "from statsmodels.stats.outliers_influence import variance_inflation_factor\n",
    "from sklearn import preprocessing\n",
    "from sklearn.linear_model import LogisticRegression\n",
    "from sklearn.model_selection import train_test_split\n",
    "from sklearn.metrics import confusion_matrix\n",
    "\n",
    "data = pd.read_csv(\"/home/edwinp/Downloads/d9rkejv84kd9rk30fi2l/churn_clean.csv\")\n",
    "pd.set_option(\"display.max_columns\", None)\n",
    "\n",
    "data['Income'].fillna(data['Income'].median(), inplace=True)\n",
    "data[\"Tenure\"].fillna(data[\"Tenure\"].median(), inplace=True)\n",
    "data[\"MonthlyCharge\"].fillna(data[\"MonthlyCharge\"].median(), inplace=True)\n",
    "data[\"Outage_sec_perweek\"].fillna(data[\"Outage_sec_perweek\"].median(), inplace=True)\n",
    "data[\"Age\"].fillna(data[\"Age\"].median(), inplace=True)\n",
    "data[\"Children\"].fillna(data[\"Children\"].median(), inplace=True)\n",
    "data.dropna(how='any',inplace=True)\n",
    "data.drop_duplicates(subset=['Customer_id'])\n",
    "zscores = stats.zscore(data['Income'])\n",
    "data['IncomeZScore'] = zscores\n",
    "zscores = stats.zscore(data['Tenure'])\n",
    "data['TenureZScore'] = zscores\n",
    "zscores = stats.zscore(data['MonthlyCharge'])\n",
    "data['MonthlyChargeZScore'] = zscores\n",
    "zscores = stats.zscore(data['Outage_sec_perweek'])\n",
    "data['Outage_sec_perweekZScore'] = zscores\n",
    "zscores = stats.zscore(data['Age'])\n",
    "data['AgeZScore'] = zscores\n",
    "zscores = stats.zscore(data['Children'])\n",
    "data['ChildrenZScore'] = zscores\n",
    "data = data.query(\"(IncomeZScore < 3 & IncomeZScore > -3) & (TenureZScore < 3 & TenureZScore > -3) & (MonthlyChargeZScore < 3 & MonthlyChargeZScore > -3) & (Outage_sec_perweekZScore < 3 & Outage_sec_perweekZScore > -3) & (AgeZScore < 3 & AgeZScore > -3) & (ChildrenZScore < 3 & ChildrenZScore > -3)\")\n",
    "\n",
    "data = data.drop([\"IncomeZScore\", 'TenureZScore', 'MonthlyChargeZScore', 'Outage_sec_perweekZScore', 'AgeZScore', 'ChildrenZScore', 'CaseOrder', 'Customer_id', 'Interaction', 'UID', 'City', 'State', 'County', 'Zip', 'Lat', 'Lng', 'TimeZone', 'Job', 'Port_modem', 'Tablet', 'InternetService', 'Phone', 'Multiple', 'OnlineSecurity', 'OnlineBackup', 'DeviceProtection', 'TechSupport', 'StreamingTV', 'StreamingMovies', 'Email', 'Contacts', 'Yearly_equip_failure', 'Population', 'PaperlessBilling', 'Item1', 'Item2', 'Item3', 'Item4', 'Item5', 'Item6', 'Item7', 'Item8'], axis=1)\n",
    "data.info()\n",
    "\n",
    "display(data.head())\n",
    "\n",
    "plt.figure(figsize= [15,5])\n",
    "plt.title(\"Distribution of Customer Tenure\")\n",
    "churn = data[\"Churn\"].value_counts()\n",
    "plt.pie(churn, labels=churn.index, autopct='%1.1f%%')\n",
    "\n",
    "plt.figure(figsize=[15,5])\n",
    "plt.suptitle(\"Investigation of Income\")\n",
    "plt.subplot(1,2,1)\n",
    "plt.title(\"Distribution of Income Level\")\n",
    "bins = np.arange(0,275000,10000)\n",
    "plt.hist(data=data, x=\"Income\", bins=bins)\n",
    "plt.xlabel(\"Income\")\n",
    "plt.ylabel(\"Number of Customers\")\n",
    "plt.subplot(1,2,2)\n",
    "plt.title(\"Income Level vs Tenure\")\n",
    "sns.violinplot(data=data, x=\"Income\", y=\"Churn\", orient=\"h\")\n",
    "plt.xlabel(\"Income\")\n",
    "plt.ylabel(\"Tenure\")\n",
    "\n",
    "plt.figure(figsize=[15,5])\n",
    "plt.suptitle(\"Investigation of Yearly Bandwidth (GB)\")\n",
    "plt.subplot(1,2,1)\n",
    "plt.title(\"Distribution of Yearly Bandwidth (GB)\")\n",
    "bins = np.arange(100,7500,100)\n",
    "plt.hist(data=data, x=\"Bandwidth_GB_Year\", bins=bins)\n",
    "plt.xlabel(\"Yearly Bandwidth (GB)\")\n",
    "plt.ylabel(\"Number of Customers\")\n",
    "plt.subplot(1,2,2)\n",
    "plt.title(\"Yearly Bandwidth (GB) vs Tenure\")\n",
    "sns.violinplot(data=data, x=\"Bandwidth_GB_Year\", y=\"Churn\", orient=\"h\")\n",
    "plt.xlabel(\"Yearly Bandwidth (GB)\")\n",
    "plt.ylabel(\"Tenure\")\n",
    "\n",
    "plt.figure(figsize=[15,5])\n",
    "plt.suptitle(\"Investigation of Monthly Charge\")\n",
    "plt.subplot(1,2,1)\n",
    "plt.title(\"Distribution of Monthly Charge Level\")\n",
    "bins = np.arange(50,300,10)\n",
    "plt.hist(data=data, x=\"MonthlyCharge\", bins=bins)\n",
    "plt.xlabel(\"Monthly Charge\")\n",
    "plt.ylabel(\"Number of Customers\")\n",
    "plt.subplot(1,2,2)\n",
    "plt.title(\"Monthly Charge vs Tenure\")\n",
    "sns.violinplot(data=data, x=\"MonthlyCharge\", y=\"Churn\", orient = \"h\")\n",
    "plt.xlabel(\"Monthly Charge\")\n",
    "plt.ylabel(\"Tenure\")\n",
    "\n",
    "plt.figure(figsize=[15,5])\n",
    "plt.suptitle(\"Investigation of Age\")\n",
    "plt.subplot(1,2,1)\n",
    "plt.title(\"Distribution of Age\")\n",
    "bins = np.arange(15,90,1)\n",
    "plt.hist(data=data, x=\"Age\", bins=bins)\n",
    "plt.xlabel(\"Age\")\n",
    "plt.ylabel(\"Number of Customers\")\n",
    "plt.subplot(1,2,2)\n",
    "plt.title(\"Age vs Tenure\")\n",
    "sns.violinplot(data=data, x=\"Age\", y=\"Churn\", orient = \"h\")\n",
    "\n",
    "plt.figure(figsize=[15,5])\n",
    "plt.suptitle(\"Investigation of Outage Seconds Per Week\")\n",
    "plt.subplot(1,2,1)\n",
    "plt.title(\"Distribution of Outage Seconds Per Week\")\n",
    "bins = np.arange(0,25,1)\n",
    "plt.hist(data=data, x=\"Outage_sec_perweek\", bins=bins)\n",
    "plt.xlabel(\"Outage Seconds Per Week\")\n",
    "plt.ylabel(\"Number of Customers\")\n",
    "plt.subplot(1,2,2)\n",
    "plt.title(\"Outage Seconds Per Week vs Tenure\")\n",
    "sns.violinplot(data=data, x=\"Outage_sec_perweek\", y=\"Churn\", orient = \"h\")\n",
    "\n",
    "plt.figure(figsize=[15,5])\n",
    "plt.suptitle(\"Investigation of Children\")\n",
    "plt.subplot(1,2,1)\n",
    "plt.title(\"Distribution of Children\")\n",
    "bins = np.arange(0,10,1)\n",
    "plt.hist(data=data, x=\"Children\", bins=bins)\n",
    "plt.xlabel(\"Children\")\n",
    "plt.ylabel(\"Number of Customers\")\n",
    "plt.subplot(1,2,2)\n",
    "plt.title(\"Children vs Tenure\")\n",
    "sns.countplot(data=data, x=\"Children\", hue=\"Churn\")\n",
    "\n",
    "plt.figure(figsize=[15,5])\n",
    "plt.suptitle(\"Investigation into Marital Status\")\n",
    "plt.subplot(1,2,1)\n",
    "plt.title(\"Distribution of Marital Status\")\n",
    "marital_status = data[\"Marital\"].value_counts()\n",
    "plt.pie(marital_status, labels=marital_status.index, autopct='%1.1f%%')\n",
    "plt.subplot(1,2,2)\n",
    "plt.title(\"Relationship of Marital Status and Tenure\")\n",
    "sns.countplot(data = data, x=\"Marital\", hue=\"Churn\")\n",
    "plt.xlabel(\"Marital Status\")\n",
    "plt.ylabel(\"Tenure\")\n",
    "\n",
    "plt.figure(figsize=[20,5])\n",
    "plt.suptitle(\"Investigation into Payment Methods\")\n",
    "plt.subplot(1,2,1)\n",
    "plt.title(\"Distribution of Payment Methods\")\n",
    "payment_method = data[\"PaymentMethod\"].value_counts()\n",
    "plt.pie(payment_method, labels=payment_method.index, autopct='%1.1f%%')\n",
    "plt.subplot(1,2,2)\n",
    "plt.title(\"Relationship of Payment Methods and Tenure\")\n",
    "sns.countplot(data = data, x=\"PaymentMethod\", hue=\"Churn\")\n",
    "plt.xlabel(\"Payment Method\")\n",
    "plt.ylabel(\"Tenure\")\n",
    "\n",
    "plt.figure(figsize=[15,5])\n",
    "plt.suptitle(\"Investigation into Residential Areas\")\n",
    "plt.subplot(1,2,1)\n",
    "plt.title(\"Distribution of Area Types\")\n",
    "area_type = data[\"Area\"].value_counts()\n",
    "plt.pie(area_type, labels=area_type.index, autopct='%1.1f%%')\n",
    "plt.subplot(1,2,2)\n",
    "plt.title(\"Relationship of Area Type and Tenure\")\n",
    "sns.countplot(data = data, x=\"Area\", hue=\"Churn\")\n",
    "plt.xlabel(\"Area Type\")\n",
    "plt.ylabel(\"Tenure\")\n",
    "\n",
    "plt.figure(figsize=[15,5])\n",
    "plt.suptitle(\"Investigation into Contract Types\")\n",
    "plt.subplot(1,2,1)\n",
    "plt.title(\"Distribution of Contract Types\")\n",
    "contract_type = data[\"Contract\"].value_counts()\n",
    "plt.pie(contract_type, labels=contract_type.index, autopct='%1.1f%%')\n",
    "plt.subplot(1,2,2)\n",
    "plt.title(\"Relationship of Contract Type and Tenure\")\n",
    "sns.countplot(data = data, x=\"Contract\", hue=\"Churn\")\n",
    "plt.xlabel(\"Contract Type\")\n",
    "plt.ylabel(\"Tenure\")\n",
    "\n",
    "plt.figure(figsize=[15,5])\n",
    "plt.suptitle(\"Investigation into Gender\")\n",
    "plt.subplot(1,2,1)\n",
    "plt.title(\"Distribution of Gender\")\n",
    "client_gender = data[\"Gender\"].value_counts()\n",
    "plt.pie(client_gender, labels=client_gender.index, autopct='%1.1f%%')\n",
    "plt.subplot(1,2,2)\n",
    "plt.title(\"Relationship of Gender and Tenure\")\n",
    "sns.countplot(data = data, x=\"Gender\", hue=\"Churn\")\n",
    "plt.xlabel(\"Gender\")\n",
    "plt.ylabel(\"Tenure\")\n",
    "\n",
    "plt.figure(figsize=[15,5])\n",
    "plt.suptitle(\"Investigation into Technical Inclination\")\n",
    "plt.subplot(1,2,1)\n",
    "plt.title(\"Distribution of Technical Inclination\")\n",
    "client_tech = data[\"Techie\"].value_counts()\n",
    "plt.pie(client_tech, labels=client_tech.index, autopct='%1.1f%%')\n",
    "plt.subplot(1,2,2)\n",
    "plt.title(\"Relationship of Technical Inclination and Tenure\")\n",
    "sns.countplot(data = data, x=\"Techie\", hue=\"Churn\")\n",
    "plt.xlabel(\"Technical Inclination\")\n",
    "plt.ylabel(\"Tenure\")\n",
    "\n",
    "data[\"Techie\"] = data[\"Techie\"].apply(lambda x: 0 if x == \"Yes\" else 1)\n",
    "data['Area'] = data['Area'].astype(\"category\")\n",
    "data['Marital'] = data.Marital.astype('category')\n",
    "data.Gender = data.Gender.astype('category')\n",
    "data.Contract = data.Contract.astype('category')\n",
    "data.PaymentMethod = data.PaymentMethod.astype('category')\n",
    "data = pd.get_dummies(data, columns=['Gender', 'Area', 'Marital', 'Contract', 'PaymentMethod', 'Techie'], dtype=int)\n",
    "data[\"Churn\"] = data[\"Churn\"].apply(lambda x: 0 if x == \"Yes\" else 1)\n",
    "\n",
    "y = data['Churn']\n",
    "x = data[['Gender_Male', 'Gender_Female', 'Gender_Nonbinary', 'Area_Urban', 'Area_Suburban', 'Area_Rural', 'Marital_Divorced', 'Marital_Widowed', 'Marital_Separated', 'Marital_Never Married', 'Marital_Married', 'Contract_One year', 'Contract_Two Year', 'Contract_Month-to-month', 'PaymentMethod_Electronic Check', 'PaymentMethod_Credit Card (automatic)', 'PaymentMethod_Bank Transfer(automatic)', 'PaymentMethod_Mailed Check','Techie_0', 'Techie_1',  'Children', 'Age', 'Income', 'Outage_sec_perweek', 'MonthlyCharge', 'Bandwidth_GB_Year']]\n",
    "x = sm.add_constant(x)\n",
    "model = sm.Logit(y, x).fit()\n",
    "print(model.summary())\n",
    "\n",
    "x = data[['Gender_Male', 'Gender_Female', 'Gender_Nonbinary', 'Area_Urban', 'Area_Suburban', 'Area_Rural', 'Marital_Divorced', 'Marital_Widowed', 'Marital_Separated', 'Marital_Never Married', 'Marital_Married', 'Contract_One year', 'Contract_Two Year', 'Contract_Month-to-month', 'PaymentMethod_Electronic Check', 'PaymentMethod_Credit Card (automatic)', 'PaymentMethod_Bank Transfer(automatic)', 'PaymentMethod_Mailed Check','Techie_0', 'Techie_1',  'Children', 'Age', 'Income', 'Outage_sec_perweek', 'MonthlyCharge', 'Bandwidth_GB_Year']]\n",
    "vif = pd.DataFrame()\n",
    "vif[\"Factor\"] = x.columns\n",
    "vif[\"vif\"] = [variance_inflation_factor(x.values, i) for i in range(len(x.columns))]\n",
    "print(vif)\n",
    "\n",
    "\n",
    "\n",
    "y = data.Churn\n",
    "x = data[['Gender_Male', 'Gender_Female', 'Area_Urban', 'Area_Suburban',  'Marital_Divorced', 'Marital_Widowed', 'Marital_Separated', 'Marital_Never Married', 'Contract_Two Year', 'Contract_Month-to-month', 'PaymentMethod_Electronic Check', 'PaymentMethod_Bank Transfer(automatic)', 'PaymentMethod_Mailed Check','Techie_0', 'Children', 'Age', 'Income', 'Outage_sec_perweek', 'MonthlyCharge', 'Bandwidth_GB_Year']].assign(const=1)\n",
    "model = sm.Logit(y, x)\n",
    "results = model.fit()\n",
    "print(results.summary())\n",
    "\n",
    "y = data.Churn\n",
    "x = data[['Gender_Male', 'Gender_Female', 'Area_Urban', 'Area_Suburban',  'Marital_Divorced', 'Marital_Widowed', 'Marital_Separated', 'Marital_Never Married', 'Contract_Two Year', 'Contract_Month-to-month', 'PaymentMethod_Electronic Check', 'PaymentMethod_Bank Transfer(automatic)', 'Techie_0', 'Children', 'Age', 'Income', 'Outage_sec_perweek', 'MonthlyCharge', 'Bandwidth_GB_Year']].assign(const=1)\n",
    "model = sm.Logit(y, x)\n",
    "results = model.fit()\n",
    "print(results.summary())\n",
    "\n",
    "y = data.Churn\n",
    "x = data[['Gender_Male', 'Gender_Female', 'Area_Urban', 'Marital_Divorced', 'Marital_Widowed', 'Marital_Separated', 'Marital_Never Married', 'Contract_Two Year', 'Contract_Month-to-month', 'PaymentMethod_Electronic Check', 'PaymentMethod_Bank Transfer(automatic)', 'Techie_0', 'Children', 'Age', 'Income', 'Outage_sec_perweek', 'MonthlyCharge', 'Bandwidth_GB_Year']].assign(const=1)\n",
    "model = sm.Logit(y, x)\n",
    "results = model.fit()\n",
    "print(results.summary())\n",
    "\n",
    "y = data.Churn\n",
    "x = data[['Gender_Male', 'Gender_Female', 'Area_Urban', 'Marital_Divorced', 'Marital_Widowed', 'Marital_Separated', 'Contract_Two Year', 'Contract_Month-to-month', 'PaymentMethod_Electronic Check', 'PaymentMethod_Bank Transfer(automatic)', 'Techie_0', 'Children', 'Age', 'Income', 'Outage_sec_perweek', 'MonthlyCharge', 'Bandwidth_GB_Year']].assign(const=1)\n",
    "model = sm.Logit(y, x)\n",
    "results = model.fit()\n",
    "print(results.summary())\n",
    "\n",
    "y = data.Churn\n",
    "x = data[['Gender_Male', 'Gender_Female', 'Area_Urban', 'Marital_Divorced', 'Marital_Widowed', 'Marital_Separated', 'Contract_Two Year', 'Contract_Month-to-month', 'PaymentMethod_Electronic Check', 'PaymentMethod_Bank Transfer(automatic)', 'Techie_0', 'Children', 'Age', 'Income', 'MonthlyCharge', 'Bandwidth_GB_Year']].assign(const=1)\n",
    "model = sm.Logit(y, x)\n",
    "results = model.fit()\n",
    "print(results.summary())\n",
    "\n",
    "y = data.Churn\n",
    "x = data[['Gender_Male', 'Gender_Female', 'Marital_Divorced', 'Marital_Widowed', 'Marital_Separated', 'Contract_Two Year', 'Contract_Month-to-month', 'PaymentMethod_Electronic Check', 'PaymentMethod_Bank Transfer(automatic)', 'Techie_0', 'Children', 'Age', 'Income', 'MonthlyCharge', 'Bandwidth_GB_Year']].assign(const=1)\n",
    "model = sm.Logit(y, x)\n",
    "results = model.fit()\n",
    "print(results.summary())\n",
    "\n",
    "y = data.Churn\n",
    "x = data[['Gender_Male', 'Gender_Female', 'Marital_Widowed', 'Marital_Separated', 'Contract_Two Year', 'Contract_Month-to-month', 'PaymentMethod_Electronic Check', 'PaymentMethod_Bank Transfer(automatic)', 'Techie_0', 'Children', 'Age', 'Income', 'MonthlyCharge', 'Bandwidth_GB_Year']].assign(const=1)\n",
    "model = sm.Logit(y, x)\n",
    "results = model.fit()\n",
    "print(results.summary())\n",
    "\n",
    "y = data.Churn\n",
    "x = data[['Gender_Male', 'Marital_Widowed', 'Marital_Separated', 'Contract_Two Year', 'Contract_Month-to-month', 'PaymentMethod_Electronic Check', 'PaymentMethod_Bank Transfer(automatic)', 'Techie_0', 'Children', 'Age', 'Income', 'MonthlyCharge', 'Bandwidth_GB_Year']].assign(const=1)\n",
    "model = sm.Logit(y, x)\n",
    "results = model.fit()\n",
    "print(results.summary())\n",
    "\n",
    "y = data.Churn\n",
    "x = data[['Gender_Male', 'Marital_Widowed', 'Marital_Separated',  'Contract_Month-to-month', 'PaymentMethod_Electronic Check', 'PaymentMethod_Bank Transfer(automatic)', 'Techie_0', 'Children', 'Age', 'Income', 'MonthlyCharge', 'Bandwidth_GB_Year']].assign(const=1)\n",
    "model = sm.Logit(y, x)\n",
    "results = model.fit()\n",
    "print(results.summary())\n",
    "\n",
    "y = data.Churn\n",
    "x = data[['Gender_Male', 'Marital_Widowed', 'Marital_Separated',  'Contract_Month-to-month', 'PaymentMethod_Electronic Check', 'Techie_0', 'Children', 'Age', 'Income', 'MonthlyCharge', 'Bandwidth_GB_Year']].assign(const=1)\n",
    "model = sm.Logit(y, x)\n",
    "results = model.fit()\n",
    "print(results.summary())\n",
    "\n",
    "y = data.Churn\n",
    "x = data[['Gender_Male', 'Marital_Widowed', 'Marital_Separated',  'Contract_Month-to-month', 'PaymentMethod_Electronic Check', 'Techie_0', 'Children', 'Age', 'MonthlyCharge', 'Bandwidth_GB_Year']].assign(const=1)\n",
    "model = sm.Logit(y, x)\n",
    "results = model.fit()\n",
    "print(results.summary())\n",
    "\n",
    "y = data.Churn\n",
    "x = data[['Gender_Male', 'Marital_Widowed', 'Contract_Month-to-month', 'PaymentMethod_Electronic Check', 'Techie_0', 'Children', 'Age', 'MonthlyCharge', 'Bandwidth_GB_Year']].assign(const=1)\n",
    "model = sm.Logit(y, x)\n",
    "results = model.fit()\n",
    "print(results.summary())\n",
    "\n",
    "y = data.Churn\n",
    "x = data[['Gender_Male', 'Marital_Widowed', 'Contract_Month-to-month', 'PaymentMethod_Electronic Check', 'Techie_0', 'Children','MonthlyCharge', 'Bandwidth_GB_Year']].assign(const=1)\n",
    "model = sm.Logit(y, x)\n",
    "results = model.fit()\n",
    "print(results.summary())\n",
    "\n",
    "y = data.Churn\n",
    "x = data[['Gender_Male', 'Contract_Month-to-month', 'PaymentMethod_Electronic Check', 'Techie_0', 'Children','MonthlyCharge', 'Bandwidth_GB_Year']].assign(const=1)\n",
    "model = sm.Logit(y, x)\n",
    "results = model.fit()\n",
    "print(results.summary())\n",
    "\n",
    "y = data.Churn\n",
    "x = data[['Gender_Male', 'Contract_Month-to-month', 'PaymentMethod_Electronic Check', 'Techie_0', 'MonthlyCharge', 'Bandwidth_GB_Year']].assign(const=1)\n",
    "model = sm.Logit(y, x)\n",
    "results = model.fit()\n",
    "print(results.summary())"
   ]
  },
  {
   "cell_type": "markdown",
   "metadata": {},
   "source": [
    "This last model is our final model for the logistic regression, as all p-values have fallen to 0, beneath the threshold of 0.05.This model is significantly improved, as can be seen from the change in the pseudo R-squ value from 0.487 to 0.3662\n",
    "##### 3: Reduced Logistic Regression Model\n",
    "A large number of our variables were removed. The variables were as follows:\n",
    "<ul>\n",
    "    <li>Area</li>\n",
    "    <li>Marital</li>\n",
    "    <li>Outage_sec_perweek</li>\n",
    "    <li>Income</li>\n",
    "    <li>Age</li>\n",
    "    <li>Children</li>\n",
    "</ul>\n",
    "The remaining independent variables are as follows:\n",
    "<ul>\n",
    "    <li>Gender_Male</li>\n",
    "    <li>Contract_Month_to_month</li>\n",
    "    <li>PaymentMethod_Electronic Check</li>\n",
    "    <li>Techie</li>\n",
    "    <li>MonthlyCharge</li>\n",
    "    <li>Bandwidth_GB_Year</li>\n",
    "</ul>\n",
    "All of these influence the only dependent variable of Churn"
   ]
  },
  {
   "cell_type": "code",
   "execution_count": null,
   "metadata": {
    "scrolled": true
   },
   "outputs": [],
   "source": [
    "data = data[['Churn', 'Gender_Male', 'Contract_Month-to-month', 'PaymentMethod_Electronic Check', 'Techie_0', 'MonthlyCharge', 'Bandwidth_GB_Year']] \n",
    "y = data.Churn\n",
    "x = data[['Gender_Male', 'Contract_Month-to-month', 'PaymentMethod_Electronic Check', 'Techie_0', 'MonthlyCharge', 'Bandwidth_GB_Year']].assign(const=1)\n",
    "model = sm.Logit(y, x)\n",
    "results = model.fit()\n",
    "print(results.summary())"
   ]
  },
  {
   "cell_type": "code",
   "execution_count": null,
   "metadata": {},
   "outputs": [],
   "source": [
    "print(f'The odds ratio for Gender_Male is {round(np.exp(-0.2861), 4)}')\n",
    "print(f'The odds ratio for Contract_Month-to-month is {round(np.exp(-2.4606), 4)}')\n",
    "print(f'The odds ratio for PaymentMethod_Electronic Check is {round(np.exp(-0.3607), 4)}')\n",
    "print(f'The odds ratio for Techie_0 is {round(np.exp(-0.7659), 4)}')\n",
    "print(f'The odds ratio for MonthlyCharge is {round(np.exp(-0.0416), 4)}')\n",
    "print(f'The odds ratio for Bandwidth_GB_Year is {round(np.exp(-0.0009), 4)}')"
   ]
  },
  {
   "cell_type": "markdown",
   "metadata": {},
   "source": [
    "<a id=\"F\"></a>\n",
    "#### F: Summarizing Findings\n",
    "##### 1: Results of Analysis\n",
    "This multiple regression analysis yielded the following equation:\n",
    "\n",
    "$$\n",
    "ln(p/1-p) = 8.0615 - 2.4606(Contract Month-to-month) - 0.7659(Techie 0) - 0.3607(PaymentMethod Electronic Check) - 0.2861(Gender Male) - 0.0416(MonthlyCharge) + 0.0009(BandwidthGBYear)\n",
    "$$\n",
    "\n",
    "This can be used to conclude the following:\n",
    "\n",
    "<ul>\n",
    "    <li>With everything else constant, a Month-to-month contract results in a 0.0854% increase to the likelihood to stay with the company</li>\n",
    "    <li>With everything else constant, the customer not being a techie results in a 0.7659% increase to the likelihood to stay with the company</li>\n",
    "    <li>With everything else constant, the customer using electronic checks for payment results in a 0.6972% increase to the likelihood to stay with the company</li>\n",
    "    <li>With everything else constant, an increase of one unit to Bandwith_GB_Year will correspond to a 0.9991% increase in likelihood to stay with the company</li>\n",
    "    <li>With everything else constant, an increase of one unit to MonthlyCharge will correspond to a 0.9593% increase in likelihood to stay with the company</li>\n",
    "</ul>\n",
    "The fact that the LLR p-value is 0 indicates that this is a reliable model that can be trusted in the results. As such, this model can be used, to some extent to drive decision making. However, there are still some concerns that ought to be noted:\n",
    "<ul>\n",
    "    <li>Limited size of cleaned dataset: There are only 7584 entries in the dataset once it has been cleaned. Ideally, there would be a larger dataset to analyze, to ensure that the data is reliable</li>\n",
    "    <li>Limited depth of analysis: for the categorical variables we began with, we were only able to evaluate one of the resultant columns, due to multicollinearity. Unfortunately, this limits the extent to which data can be analyzed. For example, we can compare month-to-month contracts with all others, but we can't compare month-to-month vs one year vs two year to see how each one influences the data</li>\n",
    "</ul>"
   ]
  },
  {
   "cell_type": "markdown",
   "metadata": {},
   "source": [
    "##### 2: Recommended Course of Action\n",
    "Though the influence of any of these factors is only slightly correlated with any variable, we can still take action to ensure the maximum number of customers are retained. Offering more month-to-month contracts, appealing to self-described techies, encouraging the use of electronic checks, attracting users with higher data usage, and pursuing customers willing to pay higher monthly costs would all result in an improvement in the ability to retain customers. However, as the correlation of these factors and churn are very slight, it would also be recommended to engage in deeper analysis with more variables that might influence the churn rate more."
   ]
  },
  {
   "cell_type": "markdown",
   "metadata": {},
   "source": [
    "<a id=\"G\"></a>\n",
    "#### G: Panopto Video\n",
    "A Panopto video recording of my code in action can be found at the following link:\n",
    "https://wgu.hosted.panopto.com/Panopto/Pages/Viewer.aspx?id=2cc3360a-7574-4af8-b858-b189016ac623\n"
   ]
  },
  {
   "cell_type": "markdown",
   "metadata": {},
   "source": [
    "<a id=\"H\"></a>\n",
    "#### H: Code References\n",
    "<a src=https://www.w3resource.com/python-exercises/pandas/missing-values/python-pandas-missing-values-exercise-14.php>Pandas information</a> used for cleaning the data and excluding outliers\n",
    "<a src=https://towardsdatascience.com/feature-selection-techniques-in-regression-model-26878fe0e24e>Feature Selection Techniques in Regression Model: Ashutosh Tripathi</a> used for the backwards stepwise elimination."
   ]
  },
  {
   "cell_type": "markdown",
   "metadata": {},
   "source": [
    "<a id=\"I\"></a>\n",
    "#### H: Source References\n",
    "<a src=\"https://search.ebscohost.com/login.aspx?direct=true&db=nlebk&AN=2091371&site=eds-live&scope=site&authtype=sso&custid=ns017578&ebv=EB&ppid=pp_9\">Chantal D. Larose, Daniel T. Larose: Data Science Using Python and R</a> used to understand Variance Inflation Factor and how to analyze/improve the model"
   ]
  },
  {
   "cell_type": "code",
   "execution_count": null,
   "metadata": {},
   "outputs": [],
   "source": []
  }
 ],
 "metadata": {
  "kernelspec": {
   "display_name": "Python 3 (ipykernel)",
   "language": "python",
   "name": "python3"
  },
  "language_info": {
   "codemirror_mode": {
    "name": "ipython",
    "version": 3
   },
   "file_extension": ".py",
   "mimetype": "text/x-python",
   "name": "python",
   "nbconvert_exporter": "python",
   "pygments_lexer": "ipython3",
   "version": "3.12.4"
  }
 },
 "nbformat": 4,
 "nbformat_minor": 4
}
