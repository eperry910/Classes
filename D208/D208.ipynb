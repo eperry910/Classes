{
 "cells": [
  {
   "cell_type": "markdown",
   "metadata": {},
   "source": [
    "## D208 Predictive Modeling PA\n",
    "##### Submitted By Edwin Perry\n",
    "### Table of Contents\n",
    "<ol>\n",
    "    <li><a href=\"#A\">Research Question</a></li>\n",
    "    <li><a href=\"#B\">Describing Dataset</a></li>\n",
    "    <li><a href=\"#C\">Univariate Analysis</a></li>\n",
    "    <li><a href=\"#D\">Bivariate Analysis</a></li>\n",
    "    <li><a href=\"#E\">Summary</a></li>\n",
    "    <li><a href=\"#F\">Web Sources</a></li>\n",
    "    <li><a href=\"#G\">Sources</a></li>\n",
    "</ol>"
   ]
  },
  {
   "cell_type": "markdown",
   "metadata": {},
   "source": [
    "<a id=\"A\"></a>\n",
    "#### A: Research Question\n",
    "##### 1. Providing the question\n",
    "The research question I elected to examine is as follows: \"What factors are most closely associated with a customer leaving the business within the most recent month?\" This knowledge would be essential for the business, as understanding the customers' reasons for discontinuing the service can help the business take actions in the future to retain customers for longer periods of times. As acquiring customers costs money, retaining customers is essential for the business to maximize profits.\n",
    "\n",
    "\n",
    "##### 2. Goals of Analysis\n",
    "The goals for this analysis is to use a multiple regression model to determine which factors in the telecommunications dataset (independent/explanatory variables) correlate to customers leaving the business (the dependent/target variable). If the analysis can identify these factors, customers can be retained over longer periods of time, thus reducing the necessity of acquiring new customers or allowing for a higher number of concurrent customers, resulting in higher profitability for the business.\n",
    "\n",
    "<a id=\"B\"></a>\n",
    "#### B: Method Justification:\n",
    "##### 1: Assumptions of a Multiple Logistic Regression Model\n",
    "There are multiple assumptions made when one uses a multiple logistic regression model for data analysis. \n",
    "<ol>\n",
    "    <li>The first of these assumptions is that the dependent variable can be classified as binary. If there are more than two possible values for the dependent variable, then logistic regression is not sufficient to answer the research question</li>\n",
    "    <li>Another assumption to be made would be that the independent variables are independent of each other. If the independent variables interacted with each other, then that obscures the impact on the dependent variable. This is a phenomenon referred to as multicollinearity</li>\n",
    "    <li>A multiple logistic regression model also assumes that each data point (each row in the csv file) are independent of each other. If they interacted with each other, then the primary cause of the dependent variable is obscured, with some level of correlation being caused instead by the interaction between data points, rather than some observed variable.</li>\n",
    "    <li>Furthermore, multiple logistic regression models assume that the model has access to a sufficiently large sample size. Otherwise, factors that are not related may show a false relationship, due to mere coincedence.</li>\n",
    "</ol>\n",
    "\n",
    "##### 2: Benefits of Python\n",
    "\n",
    "The programming language I will be using for this analysis will be Python. There are a number of benefits to using Python for this analysis:\n",
    "<ol>\n",
    "    <li>Python's simple, easy to understand syntax will make the steps of this analysis easy to develop and understand</li>\n",
    "    <li>Python has a number of libraries designed specifically for this type of data analysis, such as sklearn, Pandas, NumPy, and SciPy</li>\n",
    "    <li>Python's Jupyter Notebooks makes displaying the data, separated out into sections with explanations, incredibly easy</li>    \n",
    "</ol>\n",
    "For these reasons, I have decided that Python would be an ideal tool for this data analysis\n",
    "\n",
    "##### 3: Explanation/Justification of Multiple Logistic Regression as a Technique\n",
    "\n",
    "Multiple logistic regression is a method used in data analysis to analyze the impact of multiple different independent variables on one dependent variable with two possible values. This corresponds well to the research question. The dataset contains many different explanatory variables that can be tested to find their impact on the dependent variable, and the dependent variable contains only two possibilities: either the customer has cancelled service within the past month or they havent. As such, multiple logistic regression is the best method to answer the research question\n",
    "\n",
    "<a id=\"C\"></a>\n",
    "#### C: Data Preparation\n",
    "##### 1: Goals and Steps\n",
    "\n",
    "There are a number of issues within the existing dataset. One such existing issue is that zip code is stored as a float, rather than a string. This leads to the loss of leading zeroes in the data. Furthermore, many entries are stored as string data types when they have binary values. This leads to a reduction in efficiency and the utilization of more time/resources in analyzing, when they could be stored as booleans. Finally, outliers exist within the dataset, which may mislead when engaging in data analysis. The steps of the data preperation/cleaning will be as follows\n",
    "<ol>\n",
    "    <li>Remove columns unnecessary to answering the research question</li>\n",
    "    <li>Convert columns that can be to booleans</li>\n",
    "    <li>Remove any duplicated customer ID's in the dataset, to ensure no customer is double counted</li>\n",
    "    <li>Remove any entries without an entry in a column that is categorical</li>\n",
    "    <li>For any entry missing values in a quantitative column, replace the missing value with the median value of the column</li>\n",
    "    <li>Filter out any entries that have a z-score in a quantitative column more than 3 or less than -3</li>\n",
    "</ol>\n",
    "\n",
    "The goal of this data cleaning would be to have a dataset with no outliers in any quantitative fields, no null values in any fields, no unnecessary columns, and all data being formatted correctly and in the most efficient manner\n",
    "\n",
    "##### 2: Dependent and Independent Variables\n",
    "\n",
    "All of the variables are summarized and explained below:\n",
    "\n",
    "<b>Children</b>\n",
    "\n",
    "The number of children the customer has, stored as an integer. This will be useful in determining whether those with larger sized families are likely to remain as long-term customers.\n"
   ]
  },
  {
   "cell_type": "code",
   "execution_count": 1,
   "metadata": {},
   "outputs": [
    {
     "name": "stdout",
     "output_type": "stream",
     "text": [
      "Collecting plotnine\n",
      "  Downloading plotnine-0.13.6-py3-none-any.whl.metadata (8.9 kB)\n",
      "Requirement already satisfied: matplotlib>=3.7.0 in /home/edwinp/.conda/envs/Class/lib/python3.12/site-packages (from plotnine) (3.8.4)\n",
      "Requirement already satisfied: pandas<3.0.0,>=2.1.0 in /home/edwinp/.conda/envs/Class/lib/python3.12/site-packages (from plotnine) (2.2.2)\n",
      "Collecting mizani~=0.11.0 (from plotnine)\n",
      "  Downloading mizani-0.11.4-py3-none-any.whl.metadata (4.8 kB)\n",
      "Requirement already satisfied: numpy>=1.23.0 in /home/edwinp/.conda/envs/Class/lib/python3.12/site-packages (from plotnine) (1.26.4)\n",
      "Requirement already satisfied: scipy>=1.7.0 in /home/edwinp/.conda/envs/Class/lib/python3.12/site-packages (from plotnine) (1.13.1)\n",
      "Collecting statsmodels>=0.14.0 (from plotnine)\n",
      "  Downloading statsmodels-0.14.2-cp312-cp312-manylinux_2_17_x86_64.manylinux2014_x86_64.whl.metadata (9.2 kB)\n",
      "Requirement already satisfied: contourpy>=1.0.1 in /home/edwinp/.conda/envs/Class/lib/python3.12/site-packages (from matplotlib>=3.7.0->plotnine) (1.2.0)\n",
      "Requirement already satisfied: cycler>=0.10 in /home/edwinp/.conda/envs/Class/lib/python3.12/site-packages (from matplotlib>=3.7.0->plotnine) (0.11.0)\n",
      "Requirement already satisfied: fonttools>=4.22.0 in /home/edwinp/.conda/envs/Class/lib/python3.12/site-packages (from matplotlib>=3.7.0->plotnine) (4.51.0)\n",
      "Requirement already satisfied: kiwisolver>=1.3.1 in /home/edwinp/.conda/envs/Class/lib/python3.12/site-packages (from matplotlib>=3.7.0->plotnine) (1.4.4)\n",
      "Requirement already satisfied: packaging>=20.0 in /home/edwinp/.conda/envs/Class/lib/python3.12/site-packages (from matplotlib>=3.7.0->plotnine) (23.2)\n",
      "Requirement already satisfied: pillow>=8 in /home/edwinp/.conda/envs/Class/lib/python3.12/site-packages (from matplotlib>=3.7.0->plotnine) (10.3.0)\n",
      "Requirement already satisfied: pyparsing>=2.3.1 in /home/edwinp/.conda/envs/Class/lib/python3.12/site-packages (from matplotlib>=3.7.0->plotnine) (3.0.9)\n",
      "Requirement already satisfied: python-dateutil>=2.7 in /home/edwinp/.conda/envs/Class/lib/python3.12/site-packages (from matplotlib>=3.7.0->plotnine) (2.9.0.post0)\n",
      "Requirement already satisfied: pytz>=2020.1 in /home/edwinp/.conda/envs/Class/lib/python3.12/site-packages (from pandas<3.0.0,>=2.1.0->plotnine) (2024.1)\n",
      "Requirement already satisfied: tzdata>=2022.7 in /home/edwinp/.conda/envs/Class/lib/python3.12/site-packages (from pandas<3.0.0,>=2.1.0->plotnine) (2023.3)\n",
      "Collecting patsy>=0.5.6 (from statsmodels>=0.14.0->plotnine)\n",
      "  Downloading patsy-0.5.6-py2.py3-none-any.whl.metadata (3.5 kB)\n",
      "Requirement already satisfied: six in /home/edwinp/.conda/envs/Class/lib/python3.12/site-packages (from patsy>=0.5.6->statsmodels>=0.14.0->plotnine) (1.16.0)\n",
      "Downloading plotnine-0.13.6-py3-none-any.whl (1.3 MB)\n",
      "\u001b[2K   \u001b[38;2;114;156;31m━━━━━━━━━━━━━━━━━━━━━━━━━━━━━━━━━━━━━━━━\u001b[0m \u001b[32m1.3/1.3 MB\u001b[0m \u001b[31m9.3 MB/s\u001b[0m eta \u001b[36m0:00:00\u001b[0m0m eta \u001b[36m0:00:01\u001b[0m:01\u001b[0m\n",
      "\u001b[?25hDownloading mizani-0.11.4-py3-none-any.whl (127 kB)\n",
      "\u001b[2K   \u001b[38;2;114;156;31m━━━━━━━━━━━━━━━━━━━━━━━━━━━━━━━━━━━━━━━━\u001b[0m \u001b[32m127.4/127.4 kB\u001b[0m \u001b[31m37.6 MB/s\u001b[0m eta \u001b[36m0:00:00\u001b[0m\n",
      "\u001b[?25hDownloading statsmodels-0.14.2-cp312-cp312-manylinux_2_17_x86_64.manylinux2014_x86_64.whl (10.7 MB)\n",
      "\u001b[2K   \u001b[38;2;114;156;31m━━━━━━━━━━━━━━━━━━━━━━━━━━━━━━━━━━━━━━━━\u001b[0m \u001b[32m10.7/10.7 MB\u001b[0m \u001b[31m39.4 MB/s\u001b[0m eta \u001b[36m0:00:00\u001b[0m[36m0:00:01\u001b[0m eta \u001b[36m0:00:01\u001b[0m\n",
      "\u001b[?25hDownloading patsy-0.5.6-py2.py3-none-any.whl (233 kB)\n",
      "\u001b[2K   \u001b[38;2;114;156;31m━━━━━━━━━━━━━━━━━━━━━━━━━━━━━━━━━━━━━━━━\u001b[0m \u001b[32m233.9/233.9 kB\u001b[0m \u001b[31m59.5 MB/s\u001b[0m eta \u001b[36m0:00:00\u001b[0m\n",
      "\u001b[?25hInstalling collected packages: patsy, statsmodels, mizani, plotnine\n",
      "Successfully installed mizani-0.11.4 patsy-0.5.6 plotnine-0.13.6 statsmodels-0.14.2\n"
     ]
    }
   ],
   "source": [
    "!pip install plotnine"
   ]
  },
  {
   "cell_type": "code",
   "execution_count": 2,
   "metadata": {},
   "outputs": [],
   "source": [
    "import pandas as pd\n",
    "from pandas.api.types import CategoricalDtype\n",
    "import numpy as np\n",
    "from scipy import stats\n",
    "import matplotlib.pyplot as plt\n",
    "import plotnine as p9\n",
    "import seaborn as sns\n",
    "import statsmodels.api as sm\n",
    "from statsmodels.stats.outliers_influence import variance_inflation_factor\n",
    "from sklearn import preprocessing\n",
    "from sklearn.linear_model import LogisticRegression\n",
    "from sklearn.model_selection import train_test_split\n",
    "from sklearn.metrics import confusion_matrix"
   ]
  },
  {
   "cell_type": "code",
   "execution_count": 3,
   "metadata": {},
   "outputs": [
    {
     "ename": "FileNotFoundError",
     "evalue": "[Errno 2] No such file or directory: '/home/edwinp/Downloads/d9rkejv84kd9rk30fi2l/churn_clean.csv'",
     "output_type": "error",
     "traceback": [
      "\u001b[0;31m---------------------------------------------------------------------------\u001b[0m",
      "\u001b[0;31mFileNotFoundError\u001b[0m                         Traceback (most recent call last)",
      "Cell \u001b[0;32mIn[3], line 1\u001b[0m\n\u001b[0;32m----> 1\u001b[0m data \u001b[38;5;241m=\u001b[39m pd\u001b[38;5;241m.\u001b[39mread_csv(\u001b[38;5;124m\"\u001b[39m\u001b[38;5;124m/home/edwinp/Downloads/d9rkejv84kd9rk30fi2l/churn_clean.csv\u001b[39m\u001b[38;5;124m\"\u001b[39m)\n\u001b[1;32m      2\u001b[0m pd\u001b[38;5;241m.\u001b[39mset_option(\u001b[38;5;124m\"\u001b[39m\u001b[38;5;124mdisplay.max_columns\u001b[39m\u001b[38;5;124m\"\u001b[39m, \u001b[38;5;28;01mNone\u001b[39;00m)\n",
      "File \u001b[0;32m~/.conda/envs/Class/lib/python3.12/site-packages/pandas/io/parsers/readers.py:1026\u001b[0m, in \u001b[0;36mread_csv\u001b[0;34m(filepath_or_buffer, sep, delimiter, header, names, index_col, usecols, dtype, engine, converters, true_values, false_values, skipinitialspace, skiprows, skipfooter, nrows, na_values, keep_default_na, na_filter, verbose, skip_blank_lines, parse_dates, infer_datetime_format, keep_date_col, date_parser, date_format, dayfirst, cache_dates, iterator, chunksize, compression, thousands, decimal, lineterminator, quotechar, quoting, doublequote, escapechar, comment, encoding, encoding_errors, dialect, on_bad_lines, delim_whitespace, low_memory, memory_map, float_precision, storage_options, dtype_backend)\u001b[0m\n\u001b[1;32m   1013\u001b[0m kwds_defaults \u001b[38;5;241m=\u001b[39m _refine_defaults_read(\n\u001b[1;32m   1014\u001b[0m     dialect,\n\u001b[1;32m   1015\u001b[0m     delimiter,\n\u001b[0;32m   (...)\u001b[0m\n\u001b[1;32m   1022\u001b[0m     dtype_backend\u001b[38;5;241m=\u001b[39mdtype_backend,\n\u001b[1;32m   1023\u001b[0m )\n\u001b[1;32m   1024\u001b[0m kwds\u001b[38;5;241m.\u001b[39mupdate(kwds_defaults)\n\u001b[0;32m-> 1026\u001b[0m \u001b[38;5;28;01mreturn\u001b[39;00m _read(filepath_or_buffer, kwds)\n",
      "File \u001b[0;32m~/.conda/envs/Class/lib/python3.12/site-packages/pandas/io/parsers/readers.py:620\u001b[0m, in \u001b[0;36m_read\u001b[0;34m(filepath_or_buffer, kwds)\u001b[0m\n\u001b[1;32m    617\u001b[0m _validate_names(kwds\u001b[38;5;241m.\u001b[39mget(\u001b[38;5;124m\"\u001b[39m\u001b[38;5;124mnames\u001b[39m\u001b[38;5;124m\"\u001b[39m, \u001b[38;5;28;01mNone\u001b[39;00m))\n\u001b[1;32m    619\u001b[0m \u001b[38;5;66;03m# Create the parser.\u001b[39;00m\n\u001b[0;32m--> 620\u001b[0m parser \u001b[38;5;241m=\u001b[39m TextFileReader(filepath_or_buffer, \u001b[38;5;241m*\u001b[39m\u001b[38;5;241m*\u001b[39mkwds)\n\u001b[1;32m    622\u001b[0m \u001b[38;5;28;01mif\u001b[39;00m chunksize \u001b[38;5;129;01mor\u001b[39;00m iterator:\n\u001b[1;32m    623\u001b[0m     \u001b[38;5;28;01mreturn\u001b[39;00m parser\n",
      "File \u001b[0;32m~/.conda/envs/Class/lib/python3.12/site-packages/pandas/io/parsers/readers.py:1620\u001b[0m, in \u001b[0;36mTextFileReader.__init__\u001b[0;34m(self, f, engine, **kwds)\u001b[0m\n\u001b[1;32m   1617\u001b[0m     \u001b[38;5;28mself\u001b[39m\u001b[38;5;241m.\u001b[39moptions[\u001b[38;5;124m\"\u001b[39m\u001b[38;5;124mhas_index_names\u001b[39m\u001b[38;5;124m\"\u001b[39m] \u001b[38;5;241m=\u001b[39m kwds[\u001b[38;5;124m\"\u001b[39m\u001b[38;5;124mhas_index_names\u001b[39m\u001b[38;5;124m\"\u001b[39m]\n\u001b[1;32m   1619\u001b[0m \u001b[38;5;28mself\u001b[39m\u001b[38;5;241m.\u001b[39mhandles: IOHandles \u001b[38;5;241m|\u001b[39m \u001b[38;5;28;01mNone\u001b[39;00m \u001b[38;5;241m=\u001b[39m \u001b[38;5;28;01mNone\u001b[39;00m\n\u001b[0;32m-> 1620\u001b[0m \u001b[38;5;28mself\u001b[39m\u001b[38;5;241m.\u001b[39m_engine \u001b[38;5;241m=\u001b[39m \u001b[38;5;28mself\u001b[39m\u001b[38;5;241m.\u001b[39m_make_engine(f, \u001b[38;5;28mself\u001b[39m\u001b[38;5;241m.\u001b[39mengine)\n",
      "File \u001b[0;32m~/.conda/envs/Class/lib/python3.12/site-packages/pandas/io/parsers/readers.py:1880\u001b[0m, in \u001b[0;36mTextFileReader._make_engine\u001b[0;34m(self, f, engine)\u001b[0m\n\u001b[1;32m   1878\u001b[0m     \u001b[38;5;28;01mif\u001b[39;00m \u001b[38;5;124m\"\u001b[39m\u001b[38;5;124mb\u001b[39m\u001b[38;5;124m\"\u001b[39m \u001b[38;5;129;01mnot\u001b[39;00m \u001b[38;5;129;01min\u001b[39;00m mode:\n\u001b[1;32m   1879\u001b[0m         mode \u001b[38;5;241m+\u001b[39m\u001b[38;5;241m=\u001b[39m \u001b[38;5;124m\"\u001b[39m\u001b[38;5;124mb\u001b[39m\u001b[38;5;124m\"\u001b[39m\n\u001b[0;32m-> 1880\u001b[0m \u001b[38;5;28mself\u001b[39m\u001b[38;5;241m.\u001b[39mhandles \u001b[38;5;241m=\u001b[39m get_handle(\n\u001b[1;32m   1881\u001b[0m     f,\n\u001b[1;32m   1882\u001b[0m     mode,\n\u001b[1;32m   1883\u001b[0m     encoding\u001b[38;5;241m=\u001b[39m\u001b[38;5;28mself\u001b[39m\u001b[38;5;241m.\u001b[39moptions\u001b[38;5;241m.\u001b[39mget(\u001b[38;5;124m\"\u001b[39m\u001b[38;5;124mencoding\u001b[39m\u001b[38;5;124m\"\u001b[39m, \u001b[38;5;28;01mNone\u001b[39;00m),\n\u001b[1;32m   1884\u001b[0m     compression\u001b[38;5;241m=\u001b[39m\u001b[38;5;28mself\u001b[39m\u001b[38;5;241m.\u001b[39moptions\u001b[38;5;241m.\u001b[39mget(\u001b[38;5;124m\"\u001b[39m\u001b[38;5;124mcompression\u001b[39m\u001b[38;5;124m\"\u001b[39m, \u001b[38;5;28;01mNone\u001b[39;00m),\n\u001b[1;32m   1885\u001b[0m     memory_map\u001b[38;5;241m=\u001b[39m\u001b[38;5;28mself\u001b[39m\u001b[38;5;241m.\u001b[39moptions\u001b[38;5;241m.\u001b[39mget(\u001b[38;5;124m\"\u001b[39m\u001b[38;5;124mmemory_map\u001b[39m\u001b[38;5;124m\"\u001b[39m, \u001b[38;5;28;01mFalse\u001b[39;00m),\n\u001b[1;32m   1886\u001b[0m     is_text\u001b[38;5;241m=\u001b[39mis_text,\n\u001b[1;32m   1887\u001b[0m     errors\u001b[38;5;241m=\u001b[39m\u001b[38;5;28mself\u001b[39m\u001b[38;5;241m.\u001b[39moptions\u001b[38;5;241m.\u001b[39mget(\u001b[38;5;124m\"\u001b[39m\u001b[38;5;124mencoding_errors\u001b[39m\u001b[38;5;124m\"\u001b[39m, \u001b[38;5;124m\"\u001b[39m\u001b[38;5;124mstrict\u001b[39m\u001b[38;5;124m\"\u001b[39m),\n\u001b[1;32m   1888\u001b[0m     storage_options\u001b[38;5;241m=\u001b[39m\u001b[38;5;28mself\u001b[39m\u001b[38;5;241m.\u001b[39moptions\u001b[38;5;241m.\u001b[39mget(\u001b[38;5;124m\"\u001b[39m\u001b[38;5;124mstorage_options\u001b[39m\u001b[38;5;124m\"\u001b[39m, \u001b[38;5;28;01mNone\u001b[39;00m),\n\u001b[1;32m   1889\u001b[0m )\n\u001b[1;32m   1890\u001b[0m \u001b[38;5;28;01massert\u001b[39;00m \u001b[38;5;28mself\u001b[39m\u001b[38;5;241m.\u001b[39mhandles \u001b[38;5;129;01mis\u001b[39;00m \u001b[38;5;129;01mnot\u001b[39;00m \u001b[38;5;28;01mNone\u001b[39;00m\n\u001b[1;32m   1891\u001b[0m f \u001b[38;5;241m=\u001b[39m \u001b[38;5;28mself\u001b[39m\u001b[38;5;241m.\u001b[39mhandles\u001b[38;5;241m.\u001b[39mhandle\n",
      "File \u001b[0;32m~/.conda/envs/Class/lib/python3.12/site-packages/pandas/io/common.py:873\u001b[0m, in \u001b[0;36mget_handle\u001b[0;34m(path_or_buf, mode, encoding, compression, memory_map, is_text, errors, storage_options)\u001b[0m\n\u001b[1;32m    868\u001b[0m \u001b[38;5;28;01melif\u001b[39;00m \u001b[38;5;28misinstance\u001b[39m(handle, \u001b[38;5;28mstr\u001b[39m):\n\u001b[1;32m    869\u001b[0m     \u001b[38;5;66;03m# Check whether the filename is to be opened in binary mode.\u001b[39;00m\n\u001b[1;32m    870\u001b[0m     \u001b[38;5;66;03m# Binary mode does not support 'encoding' and 'newline'.\u001b[39;00m\n\u001b[1;32m    871\u001b[0m     \u001b[38;5;28;01mif\u001b[39;00m ioargs\u001b[38;5;241m.\u001b[39mencoding \u001b[38;5;129;01mand\u001b[39;00m \u001b[38;5;124m\"\u001b[39m\u001b[38;5;124mb\u001b[39m\u001b[38;5;124m\"\u001b[39m \u001b[38;5;129;01mnot\u001b[39;00m \u001b[38;5;129;01min\u001b[39;00m ioargs\u001b[38;5;241m.\u001b[39mmode:\n\u001b[1;32m    872\u001b[0m         \u001b[38;5;66;03m# Encoding\u001b[39;00m\n\u001b[0;32m--> 873\u001b[0m         handle \u001b[38;5;241m=\u001b[39m \u001b[38;5;28mopen\u001b[39m(\n\u001b[1;32m    874\u001b[0m             handle,\n\u001b[1;32m    875\u001b[0m             ioargs\u001b[38;5;241m.\u001b[39mmode,\n\u001b[1;32m    876\u001b[0m             encoding\u001b[38;5;241m=\u001b[39mioargs\u001b[38;5;241m.\u001b[39mencoding,\n\u001b[1;32m    877\u001b[0m             errors\u001b[38;5;241m=\u001b[39merrors,\n\u001b[1;32m    878\u001b[0m             newline\u001b[38;5;241m=\u001b[39m\u001b[38;5;124m\"\u001b[39m\u001b[38;5;124m\"\u001b[39m,\n\u001b[1;32m    879\u001b[0m         )\n\u001b[1;32m    880\u001b[0m     \u001b[38;5;28;01melse\u001b[39;00m:\n\u001b[1;32m    881\u001b[0m         \u001b[38;5;66;03m# Binary mode\u001b[39;00m\n\u001b[1;32m    882\u001b[0m         handle \u001b[38;5;241m=\u001b[39m \u001b[38;5;28mopen\u001b[39m(handle, ioargs\u001b[38;5;241m.\u001b[39mmode)\n",
      "\u001b[0;31mFileNotFoundError\u001b[0m: [Errno 2] No such file or directory: '/home/edwinp/Downloads/d9rkejv84kd9rk30fi2l/churn_clean.csv'"
     ]
    }
   ],
   "source": [
    "data = pd.read_csv(\"/home/edwinp/Downloads/d9rkejv84kd9rk30fi2l/churn_clean.csv\")\n",
    "pd.set_option(\"display.max_columns\", None)"
   ]
  },
  {
   "cell_type": "code",
   "execution_count": null,
   "metadata": {},
   "outputs": [],
   "source": [
    "data.Children.value_counts().sort_index()"
   ]
  },
  {
   "cell_type": "markdown",
   "metadata": {},
   "source": [
    "<b>Income</b>\n",
    "\n",
    "The annual income of the customer, as reported at sign up. Stored as a float data type. Used as an independent variable"
   ]
  },
  {
   "cell_type": "code",
   "execution_count": null,
   "metadata": {},
   "outputs": [],
   "source": [
    "data.Income.describe()"
   ]
  },
  {
   "cell_type": "markdown",
   "metadata": {},
   "source": [
    "<b>Area</b>\n",
    "\n",
    "The residential area type that the customer lives in. Can be classified as rural, urban, or suburban. Stored as a string data type. Used as an independent variable"
   ]
  },
  {
   "cell_type": "code",
   "execution_count": null,
   "metadata": {},
   "outputs": [],
   "source": [
    "data.Area.value_counts().sort_index()"
   ]
  },
  {
   "cell_type": "markdown",
   "metadata": {},
   "source": [
    "<b>Age</b>\n",
    "\n",
    "The age of the customer as reported at sign up. Stored as an integer. Used as an independent variable"
   ]
  },
  {
   "cell_type": "code",
   "execution_count": null,
   "metadata": {},
   "outputs": [],
   "source": [
    "data.Age.describe()"
   ]
  },
  {
   "cell_type": "markdown",
   "metadata": {},
   "source": [
    "<b>Outage</b>\n",
    "\n",
    "The number of seconds each week a person experiences an outage on average. Stored as a float. This will used as an independent variable"
   ]
  },
  {
   "cell_type": "code",
   "execution_count": null,
   "metadata": {},
   "outputs": [],
   "source": [
    "data.Outage_sec_perweek.describe()"
   ]
  },
  {
   "cell_type": "markdown",
   "metadata": {},
   "source": [
    "<b>Contract</b>\n",
    "\n",
    "The contract term of the customer, with the options being Month-to-month, One year, and Two year. Stored as a string. This will be used as an independent variable"
   ]
  },
  {
   "cell_type": "code",
   "execution_count": null,
   "metadata": {},
   "outputs": [],
   "source": [
    "data.Contract.value_counts().sort_index()"
   ]
  },
  {
   "cell_type": "markdown",
   "metadata": {},
   "source": [
    "<b>Monthly Charge</b>\n",
    "\n",
    "The amount, in dollars, that the customer is charged each month. Stored as a float data type. This is an independent variable"
   ]
  },
  {
   "cell_type": "code",
   "execution_count": null,
   "metadata": {},
   "outputs": [],
   "source": [
    "data.MonthlyCharge.describe()"
   ]
  },
  {
   "cell_type": "markdown",
   "metadata": {},
   "source": [
    "<b>Marital</b>\n",
    "\n",
    "Marital status of the customer, as reported at sign-up. Stored as a string data type, with 5 possible values: Divorced, Married, Never Married, Separated, and Widowed. Used as an independent variable"
   ]
  },
  {
   "cell_type": "code",
   "execution_count": null,
   "metadata": {},
   "outputs": [],
   "source": [
    "data.Marital.value_counts().sort_index()"
   ]
  },
  {
   "cell_type": "markdown",
   "metadata": {},
   "source": [
    "<b>Gender</b>\n",
    "\n",
    "The gender of the customer, as reported at sign-up. Stored as a string containing 3 possible values: Female, Male, and Nonbinary. Used as an independent variable to determine if gender may influence the churn of the customer."
   ]
  },
  {
   "cell_type": "code",
   "execution_count": null,
   "metadata": {},
   "outputs": [],
   "source": [
    "data.Gender.value_counts().sort_index()"
   ]
  },
  {
   "cell_type": "markdown",
   "metadata": {},
   "source": [
    "<b>Techie</b>\n",
    "\n",
    "Whether or not the customer describes themselves as technically inclined, reported at sign-up. Can have two possible values: Yes and No. Currently stored as a string, but will be converted to boolean. An independent varibale to determine whether technological inclination is possibly associated with the customer churn"
   ]
  },
  {
   "cell_type": "code",
   "execution_count": null,
   "metadata": {},
   "outputs": [],
   "source": [
    "data.Techie.value_counts().sort_index()"
   ]
  },
  {
   "cell_type": "markdown",
   "metadata": {},
   "source": [
    "<b>Tenure</b>\n",
    "\n",
    "The number of months the customer has stayed with the provider. Stored as a float. Used as an independent variable potentially associated with churn"
   ]
  },
  {
   "cell_type": "code",
   "execution_count": null,
   "metadata": {},
   "outputs": [],
   "source": [
    "data.Tenure.describe()"
   ]
  },
  {
   "cell_type": "code",
   "execution_count": null,
   "metadata": {},
   "outputs": [],
   "source": [
    "data.Bandwidth_GB_Year.describe()"
   ]
  },
  {
   "cell_type": "code",
   "execution_count": null,
   "metadata": {},
   "outputs": [],
   "source": [
    "data.PaymentMethod.value_counts()"
   ]
  },
  {
   "cell_type": "code",
   "execution_count": null,
   "metadata": {},
   "outputs": [],
   "source": [
    "data.Churn.value_counts()"
   ]
  },
  {
   "cell_type": "code",
   "execution_count": null,
   "metadata": {},
   "outputs": [],
   "source": [
    "data['Income'].fillna(data['Income'].median(), inplace=True)\n",
    "data[\"Tenure\"].fillna(data[\"Tenure\"].median(), inplace=True)\n",
    "data[\"MonthlyCharge\"].fillna(data[\"MonthlyCharge\"].median(), inplace=True)\n",
    "data[\"Outage_sec_perweek\"].fillna(data[\"Outage_sec_perweek\"].median(), inplace=True)\n",
    "data[\"Age\"].fillna(data[\"Age\"].median(), inplace=True)\n",
    "data[\"Children\"].fillna(data[\"Children\"].median(), inplace=True)\n",
    "data.dropna(how='any',inplace=True)\n",
    "data.drop_duplicates(subset=['Customer_id'])\n",
    "zscores = stats.zscore(data['Income'])\n",
    "data['IncomeZScore'] = zscores\n",
    "zscores = stats.zscore(data['Tenure'])\n",
    "data['TenureZScore'] = zscores\n",
    "zscores = stats.zscore(data['MonthlyCharge'])\n",
    "data['MonthlyChargeZScore'] = zscores\n",
    "zscores = stats.zscore(data['Outage_sec_perweek'])\n",
    "data['Outage_sec_perweekZScore'] = zscores\n",
    "zscores = stats.zscore(data['Age'])\n",
    "data['AgeZScore'] = zscores\n",
    "zscores = stats.zscore(data['Children'])\n",
    "data['ChildrenZScore'] = zscores\n",
    "data = data.query(\"(IncomeZScore < 3 & IncomeZScore > -3) & (TenureZScore < 3 & TenureZScore > -3) & (MonthlyChargeZScore < 3 & MonthlyChargeZScore > -3) & (Outage_sec_perweekZScore < 3 & Outage_sec_perweekZScore > -3) & (AgeZScore < 3 & AgeZScore > -3) & (ChildrenZScore < 3 & ChildrenZScore > -3)\")\n",
    "\n",
    "data = data.drop([\"IncomeZScore\", 'TenureZScore', 'MonthlyChargeZScore', 'Outage_sec_perweekZScore', 'AgeZScore', 'ChildrenZScore', 'CaseOrder', 'Customer_id', 'Interaction', 'UID', 'City', 'State', 'County', 'Zip', 'Lat', 'Lng', 'TimeZone', 'Job', 'Port_modem', 'Tablet', 'InternetService', 'Phone', 'Multiple', 'OnlineSecurity', 'OnlineBackup', 'DeviceProtection', 'TechSupport', 'StreamingTV', 'StreamingMovies', 'Email', 'Contacts', 'Yearly_equip_failure', 'Population', 'PaperlessBilling', 'Item1', 'Item2', 'Item3', 'Item4', 'Item5', 'Item6', 'Item7', 'Item8'], axis=1)\n",
    "data.info()"
   ]
  },
  {
   "cell_type": "code",
   "execution_count": null,
   "metadata": {},
   "outputs": [],
   "source": [
    "display(data.head())"
   ]
  },
  {
   "cell_type": "markdown",
   "metadata": {},
   "source": [
    "##### 3: Univariate and Bivariate Statistics"
   ]
  },
  {
   "cell_type": "code",
   "execution_count": null,
   "metadata": {},
   "outputs": [],
   "source": [
    "plt.figure(figsize= [15,5])\n",
    "plt.title(\"Distribution of Customer Tenure\")\n",
    "churn = data[\"Churn\"].value_counts()\n",
    "plt.pie(churn, labels=churn.index, autopct='%1.1f%%')"
   ]
  },
  {
   "cell_type": "code",
   "execution_count": null,
   "metadata": {},
   "outputs": [],
   "source": [
    "plt.figure(figsize=[15,5])\n",
    "plt.suptitle(\"Investigation of Income\")\n",
    "plt.subplot(1,2,1)\n",
    "plt.title(\"Distribution of Income Level\")\n",
    "bins = np.arange(0,275000,10000)\n",
    "plt.hist(data=data, x=\"Income\", bins=bins)\n",
    "plt.xlabel(\"Income\")\n",
    "plt.ylabel(\"Number of Customers\")\n",
    "plt.subplot(1,2,2)\n",
    "plt.title(\"Income Level vs Tenure\")\n",
    "sns.violinplot(data=data, x=\"Income\", y=\"Churn\", orient=\"h\")\n",
    "plt.xlabel(\"Income\")\n",
    "plt.ylabel(\"Tenure\")"
   ]
  },
  {
   "cell_type": "code",
   "execution_count": null,
   "metadata": {},
   "outputs": [],
   "source": [
    "plt.figure(figsize=[15,5])\n",
    "plt.suptitle(\"Investigation of Yearly Bandwidth (GB)\")\n",
    "plt.subplot(1,2,1)\n",
    "plt.title(\"Distribution of Yearly Bandwidth (GB)\")\n",
    "bins = np.arange(100,7500,100)\n",
    "plt.hist(data=data, x=\"Bandwidth_GB_Year\", bins=bins)\n",
    "plt.xlabel(\"Yearly Bandwidth (GB)\")\n",
    "plt.ylabel(\"Number of Customers\")\n",
    "plt.subplot(1,2,2)\n",
    "plt.title(\"Yearly Bandwidth (GB) vs Tenure\")\n",
    "sns.violinplot(data=data, x=\"Bandwidth_GB_Year\", y=\"Churn\", orient=\"h\")\n",
    "plt.xlabel(\"Yearly Bandwidth (GB)\")\n",
    "plt.ylabel(\"Tenure\")"
   ]
  },
  {
   "cell_type": "code",
   "execution_count": null,
   "metadata": {},
   "outputs": [],
   "source": [
    "plt.figure(figsize=[15,5])\n",
    "plt.suptitle(\"Investigation of Monthly Charge\")\n",
    "plt.subplot(1,2,1)\n",
    "plt.title(\"Distribution of Monthly Charge Level\")\n",
    "bins = np.arange(50,300,10)\n",
    "plt.hist(data=data, x=\"MonthlyCharge\", bins=bins)\n",
    "plt.xlabel(\"Monthly Charge\")\n",
    "plt.ylabel(\"Number of Customers\")\n",
    "plt.subplot(1,2,2)\n",
    "plt.title(\"Monthly Charge vs Tenure\")\n",
    "sns.violinplot(data=data, x=\"MonthlyCharge\", y=\"Churn\", orient = \"h\")\n",
    "plt.xlabel(\"Monthly Charge\")\n",
    "plt.ylabel(\"Tenure\")"
   ]
  },
  {
   "cell_type": "code",
   "execution_count": null,
   "metadata": {},
   "outputs": [],
   "source": [
    "plt.figure(figsize=[15,5])\n",
    "plt.suptitle(\"Investigation of Age\")\n",
    "plt.subplot(1,2,1)\n",
    "plt.title(\"Distribution of Age\")\n",
    "bins = np.arange(15,90,1)\n",
    "plt.hist(data=data, x=\"Age\", bins=bins)\n",
    "plt.xlabel(\"Age\")\n",
    "plt.ylabel(\"Number of Customers\")\n",
    "plt.subplot(1,2,2)\n",
    "plt.title(\"Age vs Tenure\")\n",
    "sns.violinplot(data=data, x=\"Age\", y=\"Churn\", orient = \"h\")"
   ]
  },
  {
   "cell_type": "code",
   "execution_count": null,
   "metadata": {},
   "outputs": [],
   "source": [
    "plt.figure(figsize=[15,5])\n",
    "plt.suptitle(\"Investigation of Outage Seconds Per Week\")\n",
    "plt.subplot(1,2,1)\n",
    "plt.title(\"Distribution of Outage Seconds Per Week\")\n",
    "bins = np.arange(0,25,1)\n",
    "plt.hist(data=data, x=\"Outage_sec_perweek\", bins=bins)\n",
    "plt.xlabel(\"Outage Seconds Per Week\")\n",
    "plt.ylabel(\"Number of Customers\")\n",
    "plt.subplot(1,2,2)\n",
    "plt.title(\"Outage Seconds Per Week vs Tenure\")\n",
    "sns.violinplot(data=data, x=\"Outage_sec_perweek\", y=\"Churn\", orient = \"h\")"
   ]
  },
  {
   "cell_type": "code",
   "execution_count": null,
   "metadata": {},
   "outputs": [],
   "source": [
    "plt.figure(figsize=[15,5])\n",
    "plt.suptitle(\"Investigation of Children\")\n",
    "plt.subplot(1,2,1)\n",
    "plt.title(\"Distribution of Children\")\n",
    "bins = np.arange(0,10,1)\n",
    "plt.hist(data=data, x=\"Children\", bins=bins)\n",
    "plt.xlabel(\"Children\")\n",
    "plt.ylabel(\"Number of Customers\")\n",
    "plt.subplot(1,2,2)\n",
    "plt.title(\"Children vs Tenure\")\n",
    "sns.countplot(data=data, x=\"Children\", hue=\"Churn\")"
   ]
  },
  {
   "cell_type": "code",
   "execution_count": null,
   "metadata": {},
   "outputs": [],
   "source": [
    "plt.figure(figsize=[15,5])\n",
    "plt.suptitle(\"Investigation into Marital Status\")\n",
    "plt.subplot(1,2,1)\n",
    "plt.title(\"Distribution of Marital Status\")\n",
    "marital_status = data[\"Marital\"].value_counts()\n",
    "plt.pie(marital_status, labels=marital_status.index, autopct='%1.1f%%')\n",
    "plt.subplot(1,2,2)\n",
    "plt.title(\"Relationship of Marital Status and Tenure\")\n",
    "sns.countplot(data = data, x=\"Marital\", hue=\"Churn\")\n",
    "plt.xlabel(\"Marital Status\")\n",
    "plt.ylabel(\"Tenure\")"
   ]
  },
  {
   "cell_type": "code",
   "execution_count": null,
   "metadata": {},
   "outputs": [],
   "source": [
    "plt.figure(figsize=[20,5])\n",
    "plt.suptitle(\"Investigation into Payment Methods\")\n",
    "plt.subplot(1,2,1)\n",
    "plt.title(\"Distribution of Payment Methods\")\n",
    "payment_method = data[\"PaymentMethod\"].value_counts()\n",
    "plt.pie(payment_method, labels=payment_method.index, autopct='%1.1f%%')\n",
    "plt.subplot(1,2,2)\n",
    "plt.title(\"Relationship of Payment Methods and Tenure\")\n",
    "sns.countplot(data = data, x=\"PaymentMethod\", hue=\"Churn\")\n",
    "plt.xlabel(\"Payment Method\")\n",
    "plt.ylabel(\"Tenure\")"
   ]
  },
  {
   "cell_type": "code",
   "execution_count": null,
   "metadata": {},
   "outputs": [],
   "source": [
    "plt.figure(figsize=[15,5])\n",
    "plt.suptitle(\"Investigation into Residential Areas\")\n",
    "plt.subplot(1,2,1)\n",
    "plt.title(\"Distribution of Area Types\")\n",
    "area_type = data[\"Area\"].value_counts()\n",
    "plt.pie(area_type, labels=area_type.index, autopct='%1.1f%%')\n",
    "plt.subplot(1,2,2)\n",
    "plt.title(\"Relationship of Area Type and Tenure\")\n",
    "sns.countplot(data = data, x=\"Area\", hue=\"Churn\")\n",
    "plt.xlabel(\"Area Type\")\n",
    "plt.ylabel(\"Tenure\")"
   ]
  },
  {
   "cell_type": "code",
   "execution_count": null,
   "metadata": {},
   "outputs": [],
   "source": [
    "plt.figure(figsize=[15,5])\n",
    "plt.suptitle(\"Investigation into Contract Types\")\n",
    "plt.subplot(1,2,1)\n",
    "plt.title(\"Distribution of Contract Types\")\n",
    "contract_type = data[\"Contract\"].value_counts()\n",
    "plt.pie(contract_type, labels=contract_type.index, autopct='%1.1f%%')\n",
    "plt.subplot(1,2,2)\n",
    "plt.title(\"Relationship of Contract Type and Tenure\")\n",
    "sns.countplot(data = data, x=\"Contract\", hue=\"Churn\")\n",
    "plt.xlabel(\"Contract Type\")\n",
    "plt.ylabel(\"Tenure\")"
   ]
  },
  {
   "cell_type": "code",
   "execution_count": null,
   "metadata": {},
   "outputs": [],
   "source": [
    "plt.figure(figsize=[15,5])\n",
    "plt.suptitle(\"Investigation into Gender\")\n",
    "plt.subplot(1,2,1)\n",
    "plt.title(\"Distribution of Gender\")\n",
    "client_gender = data[\"Gender\"].value_counts()\n",
    "plt.pie(client_gender, labels=client_gender.index, autopct='%1.1f%%')\n",
    "plt.subplot(1,2,2)\n",
    "plt.title(\"Relationship of Gender and Tenure\")\n",
    "sns.countplot(data = data, x=\"Gender\", hue=\"Churn\")\n",
    "plt.xlabel(\"Gender\")\n",
    "plt.ylabel(\"Tenure\")"
   ]
  },
  {
   "cell_type": "code",
   "execution_count": null,
   "metadata": {
    "scrolled": true
   },
   "outputs": [],
   "source": [
    "plt.figure(figsize=[15,5])\n",
    "plt.suptitle(\"Investigation into Technical Inclination\")\n",
    "plt.subplot(1,2,1)\n",
    "plt.title(\"Distribution of Technical Inclination\")\n",
    "client_tech = data[\"Techie\"].value_counts()\n",
    "plt.pie(client_tech, labels=client_tech.index, autopct='%1.1f%%')\n",
    "plt.subplot(1,2,2)\n",
    "plt.title(\"Relationship of Technical Inclination and Tenure\")\n",
    "sns.countplot(data = data, x=\"Techie\", hue=\"Churn\")\n",
    "plt.xlabel(\"Technical Inclination\")\n",
    "plt.ylabel(\"Tenure\")"
   ]
  },
  {
   "cell_type": "markdown",
   "metadata": {},
   "source": [
    "##### 4: Data transformation goals\n",
    "All columns containing categorical data still require data transformation. Techie is a column that only needs the data type to be converted, from the string values to 1 or 0. For all other categorical data, though, they need to be split into multiple columns that provide the information as to what the entry is. To take one example, the contract column will be converted into a yearcontract column, a twoyearcontract column, and a month_to_month column, each of which containing only 0 and 1 as values, for true and false"
   ]
  },
  {
   "cell_type": "code",
   "execution_count": null,
   "metadata": {},
   "outputs": [],
   "source": [
    "data[\"Techie\"] = data[\"Techie\"].apply(lambda x: 0 if x == \"Yes\" else 1)\n",
    "data['Area'] = data['Area'].astype(\"category\")\n",
    "data['Marital'] = data.Marital.astype('category')\n",
    "data.Gender = data.Gender.astype('category')\n",
    "data.Contract = data.Contract.astype('category')\n",
    "data.PaymentMethod = data.PaymentMethod.astype('category')\n",
    "data = pd.get_dummies(data, columns=['Gender', 'Area', 'Marital', 'Contract', 'PaymentMethod', 'Techie'], dtype=int)\n",
    "data[\"Churn\"] = data[\"Churn\"].apply(lambda x: 0 if x == \"Yes\" else 1)\n",
    "\n",
    "print(data.info())"
   ]
  },
  {
   "cell_type": "markdown",
   "metadata": {},
   "source": [
    "##### 5: CSV Export\n",
    "See attached csv for the cleaned and transformed data"
   ]
  },
  {
   "cell_type": "code",
   "execution_count": null,
   "metadata": {},
   "outputs": [],
   "source": [
    "data.to_csv('./D208CleanedData.csv')"
   ]
  },
  {
   "cell_type": "code",
   "execution_count": null,
   "metadata": {},
   "outputs": [],
   "source": [
    "data.info()"
   ]
  },
  {
   "cell_type": "markdown",
   "metadata": {},
   "source": [
    "<h4>D: Initial and Reduced Logistic Regression Model</h4>\n",
    "<h5>1: Initial Multiple Logistic Regression Model</h5>"
   ]
  },
  {
   "cell_type": "code",
   "execution_count": null,
   "metadata": {
    "scrolled": true
   },
   "outputs": [],
   "source": [
    "x = data[['Gender_Male', 'Gender_Female', 'Gender_Nonbinary', 'Area_Urban', 'Area_Suburban', 'Area_Rural', 'Marital_Divorced', 'Marital_Widowed', 'Marital_Separated', 'Marital_Never Married', 'Marital_Married', 'Contract_One year', 'Contract_Two Year', 'Contract_Month-to-month', 'PaymentMethod_Electronic Check', 'PaymentMethod_Credit Card (automatic)', 'PaymentMethod_Bank Transfer(automatic)', 'PaymentMethod_Mailed Check','Techie_0', 'Techie_1',  'Children', 'Age', 'Income', 'Outage_sec_perweek', 'MonthlyCharge', 'Bandwidth_GB_Year']]\n",
    "vif = pd.DataFrame()\n",
    "vif[\"Factor\"] = x.columns\n",
    "vif[\"vif\"] = [variance_inflation_factor(x.values, i) for i in range(len(x.columns))]\n",
    "print(vif)"
   ]
  },
  {
   "cell_type": "code",
   "execution_count": null,
   "metadata": {},
   "outputs": [],
   "source": [
    "x = data[['Gender_Male', 'Gender_Female', 'Area_Urban', 'Area_Suburban',  'Marital_Divorced', 'Marital_Widowed', 'Marital_Separated', 'Marital_Never Married', 'Contract_Two Year', 'Contract_Month-to-month', 'PaymentMethod_Electronic Check', 'PaymentMethod_Bank Transfer(automatic)', 'PaymentMethod_Mailed Check','Techie_0', 'Children', 'Age', 'Income', 'Outage_sec_perweek', 'MonthlyCharge', 'Bandwidth_GB_Year']]\n",
    "vif = pd.DataFrame()\n",
    "vif[\"Factor\"] = x.columns\n",
    "vif[\"vif\"] = [variance_inflation_factor(x.values, i) for i in range(len(x.columns))]\n",
    "print(vif)"
   ]
  },
  {
   "cell_type": "code",
   "execution_count": null,
   "metadata": {},
   "outputs": [],
   "source": [
    "y = data['Churn']\n",
    "x = data[['Gender_Male', 'Gender_Female', 'Area_Urban', 'Area_Suburban',  'Marital_Divorced', 'Marital_Widowed', 'Marital_Separated', 'Marital_Never Married', 'Contract_Two Year', 'Contract_Month-to-month', 'PaymentMethod_Electronic Check', 'PaymentMethod_Bank Transfer(automatic)', 'PaymentMethod_Mailed Check','Techie_0', 'Children', 'Age', 'Income', 'Outage_sec_perweek', 'MonthlyCharge', 'Bandwidth_GB_Year']]\n",
    "x = sm.add_constant(x)\n",
    "model = sm.Logit(y, x).fit()\n",
    "print(model.summary())"
   ]
  },
  {
   "cell_type": "markdown",
   "metadata": {},
   "source": [
    "##### 2: Justifying a Statistically Based Feature Selection Procedure\n",
    "We previously establish, multicolinearity can cause issues, so a reduction in the features is justified to ensure that multicollinearity is not impacting this model. Therefore, we will be using backward stepwise elimination to remove the variable with the highest p-value over a threshold of 0.05. This will be repeated until every variable has a p-value of <0.05"
   ]
  },
  {
   "cell_type": "code",
   "execution_count": null,
   "metadata": {},
   "outputs": [],
   "source": [
    "y = data.Churn\n",
    "x = data[['Gender_Male', 'Gender_Female', 'Area_Urban', 'Area_Suburban',  'Marital_Divorced', 'Marital_Widowed', 'Marital_Separated', 'Marital_Never Married', 'Contract_Two Year', 'Contract_Month-to-month', 'PaymentMethod_Electronic Check', 'PaymentMethod_Bank Transfer(automatic)', 'PaymentMethod_Mailed Check','Techie_0', 'Children', 'Age', 'Income', 'Outage_sec_perweek', 'MonthlyCharge', 'Bandwidth_GB_Year']].assign(const=1)\n",
    "model = sm.Logit(y, x)\n",
    "results = model.fit()\n",
    "print(results.summary())"
   ]
  },
  {
   "cell_type": "code",
   "execution_count": null,
   "metadata": {},
   "outputs": [],
   "source": [
    "y = data.Churn\n",
    "x = data[['Gender_Male', 'Gender_Female', 'Area_Urban', 'Area_Suburban',  'Marital_Divorced', 'Marital_Widowed', 'Marital_Separated', 'Marital_Never Married', 'Contract_Two Year', 'Contract_Month-to-month', 'PaymentMethod_Electronic Check', 'PaymentMethod_Bank Transfer(automatic)', 'Techie_0', 'Children', 'Age', 'Income', 'Outage_sec_perweek', 'MonthlyCharge', 'Bandwidth_GB_Year']].assign(const=1)\n",
    "model = sm.Logit(y, x)\n",
    "results = model.fit()\n",
    "print(results.summary())"
   ]
  },
  {
   "cell_type": "code",
   "execution_count": null,
   "metadata": {},
   "outputs": [],
   "source": [
    "y = data.Churn\n",
    "x = data[['Gender_Male', 'Gender_Female', 'Area_Urban', 'Marital_Divorced', 'Marital_Widowed', 'Marital_Separated', 'Marital_Never Married', 'Contract_Two Year', 'Contract_Month-to-month', 'PaymentMethod_Electronic Check', 'PaymentMethod_Bank Transfer(automatic)', 'Techie_0', 'Children', 'Age', 'Income', 'Outage_sec_perweek', 'MonthlyCharge', 'Bandwidth_GB_Year']].assign(const=1)\n",
    "model = sm.Logit(y, x)\n",
    "results = model.fit()\n",
    "print(results.summary())"
   ]
  },
  {
   "cell_type": "code",
   "execution_count": null,
   "metadata": {},
   "outputs": [],
   "source": [
    "y = data.Churn\n",
    "x = data[['Gender_Male', 'Gender_Female', 'Area_Urban', 'Marital_Divorced', 'Marital_Widowed', 'Marital_Separated', 'Contract_Two Year', 'Contract_Month-to-month', 'PaymentMethod_Electronic Check', 'PaymentMethod_Bank Transfer(automatic)', 'Techie_0', 'Children', 'Age', 'Income', 'Outage_sec_perweek', 'MonthlyCharge', 'Bandwidth_GB_Year']].assign(const=1)\n",
    "model = sm.Logit(y, x)\n",
    "results = model.fit()\n",
    "print(results.summary())"
   ]
  },
  {
   "cell_type": "code",
   "execution_count": null,
   "metadata": {},
   "outputs": [],
   "source": [
    "y = data.Churn\n",
    "x = data[['Gender_Male', 'Gender_Female', 'Area_Urban', 'Marital_Divorced', 'Marital_Widowed', 'Marital_Separated', 'Contract_Two Year', 'Contract_Month-to-month', 'PaymentMethod_Electronic Check', 'PaymentMethod_Bank Transfer(automatic)', 'Techie_0', 'Children', 'Age', 'Income', 'MonthlyCharge', 'Bandwidth_GB_Year']].assign(const=1)\n",
    "model = sm.Logit(y, x)\n",
    "results = model.fit()\n",
    "print(results.summary())"
   ]
  },
  {
   "cell_type": "code",
   "execution_count": null,
   "metadata": {},
   "outputs": [],
   "source": [
    "y = data.Churn\n",
    "x = data[['Gender_Male', 'Gender_Female', 'Marital_Divorced', 'Marital_Widowed', 'Marital_Separated', 'Contract_Two Year', 'Contract_Month-to-month', 'PaymentMethod_Electronic Check', 'PaymentMethod_Bank Transfer(automatic)', 'Techie_0', 'Children', 'Age', 'Income', 'MonthlyCharge', 'Bandwidth_GB_Year']].assign(const=1)\n",
    "model = sm.Logit(y, x)\n",
    "results = model.fit()\n",
    "print(results.summary())"
   ]
  },
  {
   "cell_type": "code",
   "execution_count": null,
   "metadata": {},
   "outputs": [],
   "source": [
    "y = data.Churn\n",
    "x = data[['Gender_Male', 'Gender_Female', 'Marital_Widowed', 'Marital_Separated', 'Contract_Two Year', 'Contract_Month-to-month', 'PaymentMethod_Electronic Check', 'PaymentMethod_Bank Transfer(automatic)', 'Techie_0', 'Children', 'Age', 'Income', 'MonthlyCharge', 'Bandwidth_GB_Year']].assign(const=1)\n",
    "model = sm.Logit(y, x)\n",
    "results = model.fit()\n",
    "print(results.summary())"
   ]
  },
  {
   "cell_type": "code",
   "execution_count": null,
   "metadata": {},
   "outputs": [],
   "source": [
    "y = data.Churn\n",
    "x = data[['Gender_Male', 'Marital_Widowed', 'Marital_Separated', 'Contract_Two Year', 'Contract_Month-to-month', 'PaymentMethod_Electronic Check', 'PaymentMethod_Bank Transfer(automatic)', 'Techie_0', 'Children', 'Age', 'Income', 'MonthlyCharge', 'Bandwidth_GB_Year']].assign(const=1)\n",
    "model = sm.Logit(y, x)\n",
    "results = model.fit()\n",
    "print(results.summary())"
   ]
  },
  {
   "cell_type": "code",
   "execution_count": null,
   "metadata": {},
   "outputs": [],
   "source": [
    "y = data.Churn\n",
    "x = data[['Gender_Male', 'Marital_Widowed', 'Marital_Separated',  'Contract_Month-to-month', 'PaymentMethod_Electronic Check', 'PaymentMethod_Bank Transfer(automatic)', 'Techie_0', 'Children', 'Age', 'Income', 'MonthlyCharge', 'Bandwidth_GB_Year']].assign(const=1)\n",
    "model = sm.Logit(y, x)\n",
    "results = model.fit()\n",
    "print(results.summary())"
   ]
  },
  {
   "cell_type": "code",
   "execution_count": null,
   "metadata": {},
   "outputs": [],
   "source": [
    "y = data.Churn\n",
    "x = data[['Gender_Male', 'Marital_Widowed', 'Marital_Separated',  'Contract_Month-to-month', 'PaymentMethod_Electronic Check', 'Techie_0', 'Children', 'Age', 'Income', 'MonthlyCharge', 'Bandwidth_GB_Year']].assign(const=1)\n",
    "model = sm.Logit(y, x)\n",
    "results = model.fit()\n",
    "print(results.summary())"
   ]
  },
  {
   "cell_type": "code",
   "execution_count": null,
   "metadata": {},
   "outputs": [],
   "source": [
    "y = data.Churn\n",
    "x = data[['Gender_Male', 'Marital_Widowed', 'Marital_Separated',  'Contract_Month-to-month', 'PaymentMethod_Electronic Check', 'Techie_0', 'Children', 'Age', 'MonthlyCharge', 'Bandwidth_GB_Year']].assign(const=1)\n",
    "model = sm.Logit(y, x)\n",
    "results = model.fit()\n",
    "print(results.summary())"
   ]
  },
  {
   "cell_type": "code",
   "execution_count": null,
   "metadata": {},
   "outputs": [],
   "source": [
    "y = data.Churn\n",
    "x = data[['Gender_Male', 'Marital_Widowed', 'Contract_Month-to-month', 'PaymentMethod_Electronic Check', 'Techie_0', 'Children', 'Age', 'MonthlyCharge', 'Bandwidth_GB_Year']].assign(const=1)\n",
    "model = sm.Logit(y, x)\n",
    "results = model.fit()\n",
    "print(results.summary())"
   ]
  },
  {
   "cell_type": "code",
   "execution_count": null,
   "metadata": {},
   "outputs": [],
   "source": [
    "y = data.Churn\n",
    "x = data[['Gender_Male', 'Marital_Widowed', 'Contract_Month-to-month', 'PaymentMethod_Electronic Check', 'Techie_0', 'Children','MonthlyCharge', 'Bandwidth_GB_Year']].assign(const=1)\n",
    "model = sm.Logit(y, x)\n",
    "results = model.fit()\n",
    "print(results.summary())"
   ]
  },
  {
   "cell_type": "code",
   "execution_count": null,
   "metadata": {},
   "outputs": [],
   "source": [
    "y = data.Churn\n",
    "x = data[['Gender_Male', 'Contract_Month-to-month', 'PaymentMethod_Electronic Check', 'Techie_0', 'Children','MonthlyCharge', 'Bandwidth_GB_Year']].assign(const=1)\n",
    "model = sm.Logit(y, x)\n",
    "results = model.fit()\n",
    "print(results.summary())"
   ]
  },
  {
   "cell_type": "code",
   "execution_count": null,
   "metadata": {},
   "outputs": [],
   "source": [
    "y = data.Churn\n",
    "x = data[['Gender_Male', 'Contract_Month-to-month', 'PaymentMethod_Electronic Check', 'Techie_0', 'MonthlyCharge', 'Bandwidth_GB_Year']].assign(const=1)\n",
    "model = sm.Logit(y, x)\n",
    "results = model.fit()\n",
    "print(results.summary())"
   ]
  },
  {
   "cell_type": "markdown",
   "metadata": {},
   "source": [
    "This last model is our final model for the logistic regression, as all p-values have fallen to 0, beneath the threshold of 0.05.This model is slightly improved, as can be seen from the change in the pseudo R-squ value from 0.4874 to 0.4856\n",
    "##### 3: Reduced Logistic Regression Model\n",
    "A large number of our variables were removed. The variables were as follows:\n",
    "<ul>\n",
    "    <li>Area</li>\n",
    "    <li>Marital</li>\n",
    "    <li>Outage_sec_perweek</li>\n",
    "    <li>Income</li>\n",
    "    <li>Age</li>\n",
    "    <li>Children</li>\n",
    "</ul>\n",
    "The remaining independent variables are as follows:\n",
    "<ul>\n",
    "    <li>Gender_Male</li>\n",
    "    <li>Contract_Month_to_month</li>\n",
    "    <li>PaymentMethod_Electronic Check</li>\n",
    "    <li>Techie</li>\n",
    "    <li>MonthlyCharge</li>\n",
    "    <li>Bandwidth_GB_Year</li>\n",
    "</ul>\n",
    "All of these influence the only dependent variable of Churn"
   ]
  },
  {
   "cell_type": "code",
   "execution_count": null,
   "metadata": {
    "scrolled": true
   },
   "outputs": [],
   "source": [
    "data = data[['Churn', 'Gender_Male', 'Contract_Month-to-month', 'PaymentMethod_Electronic Check', 'Techie_0', 'MonthlyCharge', 'Bandwidth_GB_Year']] \n",
    "y = data.Churn\n",
    "x = data[['Gender_Male', 'Contract_Month-to-month', 'PaymentMethod_Electronic Check', 'Techie_0', 'MonthlyCharge', 'Bandwidth_GB_Year']].assign(const=1)\n",
    "model = sm.Logit(y, x)\n",
    "results = model.fit()\n",
    "print(results.summary())"
   ]
  },
  {
   "cell_type": "markdown",
   "metadata": {},
   "source": [
    "###### <a id=\"E\"></a>\n",
    "#### E: Analyzing Dataset\n",
    "##### 1: Explanation of Data Analysis Procedure\n",
    "The initial multiple logistic regression model had a large number of variables, the majority of which having no value to the model itself. After the variables with p-values above 0.05 were removed, the model reduced the overall number of dependent in it from 26 to 6. With these, we see a correlation with the churn without needing to worry about the multicolinearity of the variables influencing or biasing the results"
   ]
  },
  {
   "cell_type": "markdown",
   "metadata": {},
   "source": [
    "##### 2: Output and Calculations"
   ]
  },
  {
   "cell_type": "code",
   "execution_count": null,
   "metadata": {
    "scrolled": true
   },
   "outputs": [],
   "source": [
    "sns.violinplot(x='MonthlyCharge', y=\"Churn\", data=data, orient = \"h\")"
   ]
  },
  {
   "cell_type": "code",
   "execution_count": null,
   "metadata": {},
   "outputs": [],
   "source": [
    "sns.violinplot(x='Bandwidth_GB_Year', y=\"Churn\", orient=\"h\", data=data)"
   ]
  },
  {
   "cell_type": "code",
   "execution_count": null,
   "metadata": {},
   "outputs": [],
   "source": [
    "plt.title(\"Relationship of Techie and Churn\")\n",
    "sns.countplot(data = data, x=\"Techie_0\", hue=\"Churn\")\n",
    "plt.xlabel(\"Techie\")\n",
    "plt.ylabel(\"Count\")"
   ]
  },
  {
   "cell_type": "code",
   "execution_count": null,
   "metadata": {},
   "outputs": [],
   "source": [
    "plt.title(\"Relationship of Payment Method and Churn\")\n",
    "sns.countplot(data = data, x='PaymentMethod_Electronic Check', hue=\"Churn\")\n",
    "plt.xlabel(\"Payment Method\")\n",
    "plt.ylabel(\"Count\")"
   ]
  },
  {
   "cell_type": "code",
   "execution_count": null,
   "metadata": {},
   "outputs": [],
   "source": [
    "plt.title(\"Relationship of Contract and Churn\")\n",
    "sns.countplot(data = data, x='Contract_Month-to-month', hue=\"Churn\")\n",
    "plt.xlabel(\"Month-to-month\")\n",
    "plt.ylabel(\"Count\")"
   ]
  },
  {
   "cell_type": "code",
   "execution_count": null,
   "metadata": {},
   "outputs": [],
   "source": [
    "plt.title(\"Relationship of Gender and Churn\")\n",
    "sns.countplot(data = data, x='Gender_Male', hue=\"Churn\")\n",
    "plt.xlabel(\"Male\")\n",
    "plt.ylabel(\"Count\")"
   ]
  },
  {
   "cell_type": "markdown",
   "metadata": {},
   "source": [
    "A copy of the code used, without markdown cells or visualizations, can be found below"
   ]
  },
  {
   "cell_type": "code",
   "execution_count": null,
   "metadata": {
    "scrolled": true
   },
   "outputs": [],
   "source": [
    "import pandas as pd\n",
    "from pandas.api.types import CategoricalDtype\n",
    "import numpy as np\n",
    "from scipy import stats\n",
    "import matplotlib.pyplot as plt\n",
    "import plotnine as p9\n",
    "import seaborn as sns\n",
    "import statsmodels.api as sm\n",
    "from statsmodels.stats.outliers_influence import variance_inflation_factor\n",
    "from sklearn import preprocessing\n",
    "from sklearn.linear_model import LogisticRegression\n",
    "from sklearn.model_selection import train_test_split\n",
    "from sklearn.metrics import confusion_matrix\n",
    "\n",
    "data = pd.read_csv(\"/home/edwinp/Downloads/d9rkejv84kd9rk30fi2l/churn_clean.csv\")\n",
    "pd.set_option(\"display.max_columns\", None)\n",
    "\n",
    "data['Income'].fillna(data['Income'].median(), inplace=True)\n",
    "data[\"Tenure\"].fillna(data[\"Tenure\"].median(), inplace=True)\n",
    "data[\"MonthlyCharge\"].fillna(data[\"MonthlyCharge\"].median(), inplace=True)\n",
    "data[\"Outage_sec_perweek\"].fillna(data[\"Outage_sec_perweek\"].median(), inplace=True)\n",
    "data[\"Age\"].fillna(data[\"Age\"].median(), inplace=True)\n",
    "data[\"Children\"].fillna(data[\"Children\"].median(), inplace=True)\n",
    "data.dropna(how='any',inplace=True)\n",
    "data.drop_duplicates(subset=['Customer_id'])\n",
    "zscores = stats.zscore(data['Income'])\n",
    "data['IncomeZScore'] = zscores\n",
    "zscores = stats.zscore(data['Tenure'])\n",
    "data['TenureZScore'] = zscores\n",
    "zscores = stats.zscore(data['MonthlyCharge'])\n",
    "data['MonthlyChargeZScore'] = zscores\n",
    "zscores = stats.zscore(data['Outage_sec_perweek'])\n",
    "data['Outage_sec_perweekZScore'] = zscores\n",
    "zscores = stats.zscore(data['Age'])\n",
    "data['AgeZScore'] = zscores\n",
    "zscores = stats.zscore(data['Children'])\n",
    "data['ChildrenZScore'] = zscores\n",
    "data = data.query(\"(IncomeZScore < 3 & IncomeZScore > -3) & (TenureZScore < 3 & TenureZScore > -3) & (MonthlyChargeZScore < 3 & MonthlyChargeZScore > -3) & (Outage_sec_perweekZScore < 3 & Outage_sec_perweekZScore > -3) & (AgeZScore < 3 & AgeZScore > -3) & (ChildrenZScore < 3 & ChildrenZScore > -3)\")\n",
    "\n",
    "data = data.drop([\"IncomeZScore\", 'TenureZScore', 'MonthlyChargeZScore', 'Outage_sec_perweekZScore', 'AgeZScore', 'ChildrenZScore', 'CaseOrder', 'Customer_id', 'Interaction', 'UID', 'City', 'State', 'County', 'Zip', 'Lat', 'Lng', 'TimeZone', 'Job', 'Port_modem', 'Tablet', 'InternetService', 'Phone', 'Multiple', 'OnlineSecurity', 'OnlineBackup', 'DeviceProtection', 'TechSupport', 'StreamingTV', 'StreamingMovies', 'Email', 'Contacts', 'Yearly_equip_failure', 'Population', 'PaperlessBilling', 'Item1', 'Item2', 'Item3', 'Item4', 'Item5', 'Item6', 'Item7', 'Item8'], axis=1)\n",
    "data.info()\n",
    "\n",
    "display(data.head())\n",
    "\n",
    "plt.figure(figsize= [15,5])\n",
    "plt.title(\"Distribution of Customer Tenure\")\n",
    "churn = data[\"Churn\"].value_counts()\n",
    "plt.pie(churn, labels=churn.index, autopct='%1.1f%%')\n",
    "\n",
    "plt.figure(figsize=[15,5])\n",
    "plt.suptitle(\"Investigation of Income\")\n",
    "plt.subplot(1,2,1)\n",
    "plt.title(\"Distribution of Income Level\")\n",
    "bins = np.arange(0,275000,10000)\n",
    "plt.hist(data=data, x=\"Income\", bins=bins)\n",
    "plt.xlabel(\"Income\")\n",
    "plt.ylabel(\"Number of Customers\")\n",
    "plt.subplot(1,2,2)\n",
    "plt.title(\"Income Level vs Tenure\")\n",
    "sns.violinplot(data=data, x=\"Income\", y=\"Churn\", orient=\"h\")\n",
    "plt.xlabel(\"Income\")\n",
    "plt.ylabel(\"Tenure\")\n",
    "\n",
    "plt.figure(figsize=[15,5])\n",
    "plt.suptitle(\"Investigation of Yearly Bandwidth (GB)\")\n",
    "plt.subplot(1,2,1)\n",
    "plt.title(\"Distribution of Yearly Bandwidth (GB)\")\n",
    "bins = np.arange(100,7500,100)\n",
    "plt.hist(data=data, x=\"Bandwidth_GB_Year\", bins=bins)\n",
    "plt.xlabel(\"Yearly Bandwidth (GB)\")\n",
    "plt.ylabel(\"Number of Customers\")\n",
    "plt.subplot(1,2,2)\n",
    "plt.title(\"Yearly Bandwidth (GB) vs Tenure\")\n",
    "sns.violinplot(data=data, x=\"Bandwidth_GB_Year\", y=\"Churn\", orient=\"h\")\n",
    "plt.xlabel(\"Yearly Bandwidth (GB)\")\n",
    "plt.ylabel(\"Tenure\")\n",
    "\n",
    "plt.figure(figsize=[15,5])\n",
    "plt.suptitle(\"Investigation of Monthly Charge\")\n",
    "plt.subplot(1,2,1)\n",
    "plt.title(\"Distribution of Monthly Charge Level\")\n",
    "bins = np.arange(50,300,10)\n",
    "plt.hist(data=data, x=\"MonthlyCharge\", bins=bins)\n",
    "plt.xlabel(\"Monthly Charge\")\n",
    "plt.ylabel(\"Number of Customers\")\n",
    "plt.subplot(1,2,2)\n",
    "plt.title(\"Monthly Charge vs Tenure\")\n",
    "sns.violinplot(data=data, x=\"MonthlyCharge\", y=\"Churn\", orient = \"h\")\n",
    "plt.xlabel(\"Monthly Charge\")\n",
    "plt.ylabel(\"Tenure\")\n",
    "\n",
    "plt.figure(figsize=[15,5])\n",
    "plt.suptitle(\"Investigation of Age\")\n",
    "plt.subplot(1,2,1)\n",
    "plt.title(\"Distribution of Age\")\n",
    "bins = np.arange(15,90,1)\n",
    "plt.hist(data=data, x=\"Age\", bins=bins)\n",
    "plt.xlabel(\"Age\")\n",
    "plt.ylabel(\"Number of Customers\")\n",
    "plt.subplot(1,2,2)\n",
    "plt.title(\"Age vs Tenure\")\n",
    "sns.violinplot(data=data, x=\"Age\", y=\"Churn\", orient = \"h\")\n",
    "\n",
    "plt.figure(figsize=[15,5])\n",
    "plt.suptitle(\"Investigation of Outage Seconds Per Week\")\n",
    "plt.subplot(1,2,1)\n",
    "plt.title(\"Distribution of Outage Seconds Per Week\")\n",
    "bins = np.arange(0,25,1)\n",
    "plt.hist(data=data, x=\"Outage_sec_perweek\", bins=bins)\n",
    "plt.xlabel(\"Outage Seconds Per Week\")\n",
    "plt.ylabel(\"Number of Customers\")\n",
    "plt.subplot(1,2,2)\n",
    "plt.title(\"Outage Seconds Per Week vs Tenure\")\n",
    "sns.violinplot(data=data, x=\"Outage_sec_perweek\", y=\"Churn\", orient = \"h\")\n",
    "\n",
    "plt.figure(figsize=[15,5])\n",
    "plt.suptitle(\"Investigation of Children\")\n",
    "plt.subplot(1,2,1)\n",
    "plt.title(\"Distribution of Children\")\n",
    "bins = np.arange(0,10,1)\n",
    "plt.hist(data=data, x=\"Children\", bins=bins)\n",
    "plt.xlabel(\"Children\")\n",
    "plt.ylabel(\"Number of Customers\")\n",
    "plt.subplot(1,2,2)\n",
    "plt.title(\"Children vs Tenure\")\n",
    "sns.countplot(data=data, x=\"Children\", hue=\"Churn\")\n",
    "\n",
    "plt.figure(figsize=[15,5])\n",
    "plt.suptitle(\"Investigation into Marital Status\")\n",
    "plt.subplot(1,2,1)\n",
    "plt.title(\"Distribution of Marital Status\")\n",
    "marital_status = data[\"Marital\"].value_counts()\n",
    "plt.pie(marital_status, labels=marital_status.index, autopct='%1.1f%%')\n",
    "plt.subplot(1,2,2)\n",
    "plt.title(\"Relationship of Marital Status and Tenure\")\n",
    "sns.countplot(data = data, x=\"Marital\", hue=\"Churn\")\n",
    "plt.xlabel(\"Marital Status\")\n",
    "plt.ylabel(\"Tenure\")\n",
    "\n",
    "plt.figure(figsize=[20,5])\n",
    "plt.suptitle(\"Investigation into Payment Methods\")\n",
    "plt.subplot(1,2,1)\n",
    "plt.title(\"Distribution of Payment Methods\")\n",
    "payment_method = data[\"PaymentMethod\"].value_counts()\n",
    "plt.pie(payment_method, labels=payment_method.index, autopct='%1.1f%%')\n",
    "plt.subplot(1,2,2)\n",
    "plt.title(\"Relationship of Payment Methods and Tenure\")\n",
    "sns.countplot(data = data, x=\"PaymentMethod\", hue=\"Churn\")\n",
    "plt.xlabel(\"Payment Method\")\n",
    "plt.ylabel(\"Tenure\")\n",
    "\n",
    "plt.figure(figsize=[15,5])\n",
    "plt.suptitle(\"Investigation into Residential Areas\")\n",
    "plt.subplot(1,2,1)\n",
    "plt.title(\"Distribution of Area Types\")\n",
    "area_type = data[\"Area\"].value_counts()\n",
    "plt.pie(area_type, labels=area_type.index, autopct='%1.1f%%')\n",
    "plt.subplot(1,2,2)\n",
    "plt.title(\"Relationship of Area Type and Tenure\")\n",
    "sns.countplot(data = data, x=\"Area\", hue=\"Churn\")\n",
    "plt.xlabel(\"Area Type\")\n",
    "plt.ylabel(\"Tenure\")\n",
    "\n",
    "plt.figure(figsize=[15,5])\n",
    "plt.suptitle(\"Investigation into Contract Types\")\n",
    "plt.subplot(1,2,1)\n",
    "plt.title(\"Distribution of Contract Types\")\n",
    "contract_type = data[\"Contract\"].value_counts()\n",
    "plt.pie(contract_type, labels=contract_type.index, autopct='%1.1f%%')\n",
    "plt.subplot(1,2,2)\n",
    "plt.title(\"Relationship of Contract Type and Tenure\")\n",
    "sns.countplot(data = data, x=\"Contract\", hue=\"Churn\")\n",
    "plt.xlabel(\"Contract Type\")\n",
    "plt.ylabel(\"Tenure\")\n",
    "\n",
    "plt.figure(figsize=[15,5])\n",
    "plt.suptitle(\"Investigation into Gender\")\n",
    "plt.subplot(1,2,1)\n",
    "plt.title(\"Distribution of Gender\")\n",
    "client_gender = data[\"Gender\"].value_counts()\n",
    "plt.pie(client_gender, labels=client_gender.index, autopct='%1.1f%%')\n",
    "plt.subplot(1,2,2)\n",
    "plt.title(\"Relationship of Gender and Tenure\")\n",
    "sns.countplot(data = data, x=\"Gender\", hue=\"Churn\")\n",
    "plt.xlabel(\"Gender\")\n",
    "plt.ylabel(\"Tenure\")\n",
    "\n",
    "plt.figure(figsize=[15,5])\n",
    "plt.suptitle(\"Investigation into Technical Inclination\")\n",
    "plt.subplot(1,2,1)\n",
    "plt.title(\"Distribution of Technical Inclination\")\n",
    "client_tech = data[\"Techie\"].value_counts()\n",
    "plt.pie(client_tech, labels=client_tech.index, autopct='%1.1f%%')\n",
    "plt.subplot(1,2,2)\n",
    "plt.title(\"Relationship of Technical Inclination and Tenure\")\n",
    "sns.countplot(data = data, x=\"Techie\", hue=\"Churn\")\n",
    "plt.xlabel(\"Technical Inclination\")\n",
    "plt.ylabel(\"Tenure\")\n",
    "\n",
    "data[\"Techie\"] = data[\"Techie\"].apply(lambda x: 0 if x == \"Yes\" else 1)\n",
    "data['Area'] = data['Area'].astype(\"category\")\n",
    "data['Marital'] = data.Marital.astype('category')\n",
    "data.Gender = data.Gender.astype('category')\n",
    "data.Contract = data.Contract.astype('category')\n",
    "data.PaymentMethod = data.PaymentMethod.astype('category')\n",
    "data = pd.get_dummies(data, columns=['Gender', 'Area', 'Marital', 'Contract', 'PaymentMethod', 'Techie'], dtype=int)\n",
    "data[\"Churn\"] = data[\"Churn\"].apply(lambda x: 0 if x == \"Yes\" else 1)\n",
    "\n",
    "y = data['Churn']\n",
    "x = data[['Gender_Male', 'Gender_Female', 'Gender_Nonbinary', 'Area_Urban', 'Area_Suburban', 'Area_Rural', 'Marital_Divorced', 'Marital_Widowed', 'Marital_Separated', 'Marital_Never Married', 'Marital_Married', 'Contract_One year', 'Contract_Two Year', 'Contract_Month-to-month', 'PaymentMethod_Electronic Check', 'PaymentMethod_Credit Card (automatic)', 'PaymentMethod_Bank Transfer(automatic)', 'PaymentMethod_Mailed Check','Techie_0', 'Techie_1',  'Children', 'Age', 'Income', 'Outage_sec_perweek', 'MonthlyCharge', 'Bandwidth_GB_Year']]\n",
    "x = sm.add_constant(x)\n",
    "model = sm.Logit(y, x).fit()\n",
    "print(model.summary())\n",
    "\n",
    "x = data[['Gender_Male', 'Gender_Female', 'Gender_Nonbinary', 'Area_Urban', 'Area_Suburban', 'Area_Rural', 'Marital_Divorced', 'Marital_Widowed', 'Marital_Separated', 'Marital_Never Married', 'Marital_Married', 'Contract_One year', 'Contract_Two Year', 'Contract_Month-to-month', 'PaymentMethod_Electronic Check', 'PaymentMethod_Credit Card (automatic)', 'PaymentMethod_Bank Transfer(automatic)', 'PaymentMethod_Mailed Check','Techie_0', 'Techie_1',  'Children', 'Age', 'Income', 'Outage_sec_perweek', 'MonthlyCharge', 'Bandwidth_GB_Year']]\n",
    "vif = pd.DataFrame()\n",
    "vif[\"Factor\"] = x.columns\n",
    "vif[\"vif\"] = [variance_inflation_factor(x.values, i) for i in range(len(x.columns))]\n",
    "print(vif)\n",
    "\n",
    "\n",
    "\n",
    "y = data.Churn\n",
    "x = data[['Gender_Male', 'Gender_Female', 'Area_Urban', 'Area_Suburban',  'Marital_Divorced', 'Marital_Widowed', 'Marital_Separated', 'Marital_Never Married', 'Contract_Two Year', 'Contract_Month-to-month', 'PaymentMethod_Electronic Check', 'PaymentMethod_Bank Transfer(automatic)', 'PaymentMethod_Mailed Check','Techie_0', 'Children', 'Age', 'Income', 'Outage_sec_perweek', 'MonthlyCharge', 'Bandwidth_GB_Year']].assign(const=1)\n",
    "model = sm.Logit(y, x)\n",
    "results = model.fit()\n",
    "print(results.summary())\n",
    "\n",
    "y = data.Churn\n",
    "x = data[['Gender_Male', 'Gender_Female', 'Area_Urban', 'Area_Suburban',  'Marital_Divorced', 'Marital_Widowed', 'Marital_Separated', 'Marital_Never Married', 'Contract_Two Year', 'Contract_Month-to-month', 'PaymentMethod_Electronic Check', 'PaymentMethod_Bank Transfer(automatic)', 'Techie_0', 'Children', 'Age', 'Income', 'Outage_sec_perweek', 'MonthlyCharge', 'Bandwidth_GB_Year']].assign(const=1)\n",
    "model = sm.Logit(y, x)\n",
    "results = model.fit()\n",
    "print(results.summary())\n",
    "\n",
    "y = data.Churn\n",
    "x = data[['Gender_Male', 'Gender_Female', 'Area_Urban', 'Marital_Divorced', 'Marital_Widowed', 'Marital_Separated', 'Marital_Never Married', 'Contract_Two Year', 'Contract_Month-to-month', 'PaymentMethod_Electronic Check', 'PaymentMethod_Bank Transfer(automatic)', 'Techie_0', 'Children', 'Age', 'Income', 'Outage_sec_perweek', 'MonthlyCharge', 'Bandwidth_GB_Year']].assign(const=1)\n",
    "model = sm.Logit(y, x)\n",
    "results = model.fit()\n",
    "print(results.summary())\n",
    "\n",
    "y = data.Churn\n",
    "x = data[['Gender_Male', 'Gender_Female', 'Area_Urban', 'Marital_Divorced', 'Marital_Widowed', 'Marital_Separated', 'Contract_Two Year', 'Contract_Month-to-month', 'PaymentMethod_Electronic Check', 'PaymentMethod_Bank Transfer(automatic)', 'Techie_0', 'Children', 'Age', 'Income', 'Outage_sec_perweek', 'MonthlyCharge', 'Bandwidth_GB_Year']].assign(const=1)\n",
    "model = sm.Logit(y, x)\n",
    "results = model.fit()\n",
    "print(results.summary())\n",
    "\n",
    "y = data.Churn\n",
    "x = data[['Gender_Male', 'Gender_Female', 'Area_Urban', 'Marital_Divorced', 'Marital_Widowed', 'Marital_Separated', 'Contract_Two Year', 'Contract_Month-to-month', 'PaymentMethod_Electronic Check', 'PaymentMethod_Bank Transfer(automatic)', 'Techie_0', 'Children', 'Age', 'Income', 'MonthlyCharge', 'Bandwidth_GB_Year']].assign(const=1)\n",
    "model = sm.Logit(y, x)\n",
    "results = model.fit()\n",
    "print(results.summary())\n",
    "\n",
    "y = data.Churn\n",
    "x = data[['Gender_Male', 'Gender_Female', 'Marital_Divorced', 'Marital_Widowed', 'Marital_Separated', 'Contract_Two Year', 'Contract_Month-to-month', 'PaymentMethod_Electronic Check', 'PaymentMethod_Bank Transfer(automatic)', 'Techie_0', 'Children', 'Age', 'Income', 'MonthlyCharge', 'Bandwidth_GB_Year']].assign(const=1)\n",
    "model = sm.Logit(y, x)\n",
    "results = model.fit()\n",
    "print(results.summary())\n",
    "\n",
    "y = data.Churn\n",
    "x = data[['Gender_Male', 'Gender_Female', 'Marital_Widowed', 'Marital_Separated', 'Contract_Two Year', 'Contract_Month-to-month', 'PaymentMethod_Electronic Check', 'PaymentMethod_Bank Transfer(automatic)', 'Techie_0', 'Children', 'Age', 'Income', 'MonthlyCharge', 'Bandwidth_GB_Year']].assign(const=1)\n",
    "model = sm.Logit(y, x)\n",
    "results = model.fit()\n",
    "print(results.summary())\n",
    "\n",
    "y = data.Churn\n",
    "x = data[['Gender_Male', 'Marital_Widowed', 'Marital_Separated', 'Contract_Two Year', 'Contract_Month-to-month', 'PaymentMethod_Electronic Check', 'PaymentMethod_Bank Transfer(automatic)', 'Techie_0', 'Children', 'Age', 'Income', 'MonthlyCharge', 'Bandwidth_GB_Year']].assign(const=1)\n",
    "model = sm.Logit(y, x)\n",
    "results = model.fit()\n",
    "print(results.summary())\n",
    "\n",
    "y = data.Churn\n",
    "x = data[['Gender_Male', 'Marital_Widowed', 'Marital_Separated',  'Contract_Month-to-month', 'PaymentMethod_Electronic Check', 'PaymentMethod_Bank Transfer(automatic)', 'Techie_0', 'Children', 'Age', 'Income', 'MonthlyCharge', 'Bandwidth_GB_Year']].assign(const=1)\n",
    "model = sm.Logit(y, x)\n",
    "results = model.fit()\n",
    "print(results.summary())\n",
    "\n",
    "y = data.Churn\n",
    "x = data[['Gender_Male', 'Marital_Widowed', 'Marital_Separated',  'Contract_Month-to-month', 'PaymentMethod_Electronic Check', 'Techie_0', 'Children', 'Age', 'Income', 'MonthlyCharge', 'Bandwidth_GB_Year']].assign(const=1)\n",
    "model = sm.Logit(y, x)\n",
    "results = model.fit()\n",
    "print(results.summary())\n",
    "\n",
    "y = data.Churn\n",
    "x = data[['Gender_Male', 'Marital_Widowed', 'Marital_Separated',  'Contract_Month-to-month', 'PaymentMethod_Electronic Check', 'Techie_0', 'Children', 'Age', 'MonthlyCharge', 'Bandwidth_GB_Year']].assign(const=1)\n",
    "model = sm.Logit(y, x)\n",
    "results = model.fit()\n",
    "print(results.summary())\n",
    "\n",
    "y = data.Churn\n",
    "x = data[['Gender_Male', 'Marital_Widowed', 'Contract_Month-to-month', 'PaymentMethod_Electronic Check', 'Techie_0', 'Children', 'Age', 'MonthlyCharge', 'Bandwidth_GB_Year']].assign(const=1)\n",
    "model = sm.Logit(y, x)\n",
    "results = model.fit()\n",
    "print(results.summary())\n",
    "\n",
    "y = data.Churn\n",
    "x = data[['Gender_Male', 'Marital_Widowed', 'Contract_Month-to-month', 'PaymentMethod_Electronic Check', 'Techie_0', 'Children','MonthlyCharge', 'Bandwidth_GB_Year']].assign(const=1)\n",
    "model = sm.Logit(y, x)\n",
    "results = model.fit()\n",
    "print(results.summary())\n",
    "\n",
    "y = data.Churn\n",
    "x = data[['Gender_Male', 'Contract_Month-to-month', 'PaymentMethod_Electronic Check', 'Techie_0', 'Children','MonthlyCharge', 'Bandwidth_GB_Year']].assign(const=1)\n",
    "model = sm.Logit(y, x)\n",
    "results = model.fit()\n",
    "print(results.summary())\n",
    "\n",
    "y = data.Churn\n",
    "x = data[['Gender_Male', 'Contract_Month-to-month', 'PaymentMethod_Electronic Check', 'Techie_0', 'MonthlyCharge', 'Bandwidth_GB_Year']].assign(const=1)\n",
    "model = sm.Logit(y, x)\n",
    "results = model.fit()\n",
    "print(results.summary())"
   ]
  },
  {
   "cell_type": "markdown",
   "metadata": {},
   "source": [
    "This last model is our final model for the logistic regression, as all p-values have fallen to 0, beneath the threshold of 0.05.This model is significantly improved, as can be seen from the change in the pseudo R-squ value from 0.487 to 0.3662\n",
    "##### 3: Reduced Logistic Regression Model\n",
    "A large number of our variables were removed. The variables were as follows:\n",
    "<ul>\n",
    "    <li>Area</li>\n",
    "    <li>Marital</li>\n",
    "    <li>Outage_sec_perweek</li>\n",
    "    <li>Income</li>\n",
    "    <li>Age</li>\n",
    "    <li>Children</li>\n",
    "</ul>\n",
    "The remaining independent variables are as follows:\n",
    "<ul>\n",
    "    <li>Gender_Male</li>\n",
    "    <li>Contract_Month_to_month</li>\n",
    "    <li>PaymentMethod_Electronic Check</li>\n",
    "    <li>Techie</li>\n",
    "    <li>MonthlyCharge</li>\n",
    "    <li>Bandwidth_GB_Year</li>\n",
    "</ul>\n",
    "All of these influence the only dependent variable of Churn"
   ]
  },
  {
   "cell_type": "code",
   "execution_count": null,
   "metadata": {
    "scrolled": true
   },
   "outputs": [],
   "source": [
    "data = data[['Churn', 'Gender_Male', 'Contract_Month-to-month', 'PaymentMethod_Electronic Check', 'Techie_0', 'MonthlyCharge', 'Bandwidth_GB_Year']] \n",
    "y = data.Churn\n",
    "x = data[['Gender_Male', 'Contract_Month-to-month', 'PaymentMethod_Electronic Check', 'Techie_0', 'MonthlyCharge', 'Bandwidth_GB_Year']].assign(const=1)\n",
    "model = sm.Logit(y, x)\n",
    "results = model.fit()\n",
    "print(results.summary())"
   ]
  },
  {
   "cell_type": "code",
   "execution_count": null,
   "metadata": {},
   "outputs": [],
   "source": [
    "print(f'The odds ratio for Gender_Male is {round(np.exp(-0.2861), 4)}')\n",
    "print(f'The odds ratio for Contract_Month-to-month is {round(np.exp(-2.4606), 4)}')\n",
    "print(f'The odds ratio for PaymentMethod_Electronic Check is {round(np.exp(-0.3607), 4)}')\n",
    "print(f'The odds ratio for Techie_0 is {round(np.exp(-0.7659), 4)}')\n",
    "print(f'The odds ratio for MonthlyCharge is {round(np.exp(-0.0416), 4)}')\n",
    "print(f'The odds ratio for Bandwidth_GB_Year is {round(np.exp(-0.0009), 4)}')"
   ]
  },
  {
   "cell_type": "markdown",
   "metadata": {},
   "source": [
    "<a id=\"F\"></a>\n",
    "#### F: Summarizing Findings\n",
    "##### 1: Results of Analysis\n",
    "This multiple regression analysis yielded the following equation:\n",
    "\n",
    "$$\n",
    "ln(p/1-p) = 8.0615 - 2.4606(Contract Month-to-month) - 0.7659(Techie 0) - 0.3607(PaymentMethod Electronic Check) - 0.2861(Gender Male) - 0.0416(MonthlyCharge) + 0.0009(BandwidthGBYear)\n",
    "$$\n",
    "\n",
    "This can be used to conclude the following:\n",
    "\n",
    "<ul>\n",
    "    <li>With everything else constant, a Month-to-month contract results in a 0.0854% increase to the likelihood to stay with the company</li>\n",
    "    <li>With everything else constant, the customer not being a techie results in a 0.7659% increase to the likelihood to stay with the company</li>\n",
    "    <li>With everything else constant, the customer using electronic checks for payment results in a 0.6972% increase to the likelihood to stay with the company</li>\n",
    "    <li>With everything else constant, an increase of one unit to Bandwith_GB_Year will correspond to a 0.9991% increase in likelihood to stay with the company</li>\n",
    "    <li>With everything else constant, an increase of one unit to MonthlyCharge will correspond to a 0.9593% increase in likelihood to stay with the company</li>\n",
    "</ul>\n",
    "The fact that the LLR p-value is 0 indicates that this is a reliable model that can be trusted in the results. As such, this model can be used, to some extent to drive decision making. However, there are still some concerns that ought to be noted:\n",
    "<ul>\n",
    "    <li>Limited size of cleaned dataset: There are only 7584 entries in the dataset once it has been cleaned. Ideally, there would be a larger dataset to analyze, to ensure that the data is reliable</li>\n",
    "    <li>Limited depth of analysis: for the categorical variables we began with, we were only able to evaluate one of the resultant columns, due to multicollinearity. Unfortunately, this limits the extent to which data can be analyzed. For example, we can compare month-to-month contracts with all others, but we can't compare month-to-month vs one year vs two year to see how each one influences the data</li>\n",
    "</ul>"
   ]
  },
  {
   "cell_type": "markdown",
   "metadata": {},
   "source": [
    "##### 2: Recommended Course of Action\n",
    "Though the influence of any of these factors is only slightly correlated with any variable, we can still take action to ensure the maximum number of customers are retained. Offering more month-to-month contracts, appealing to self-described techies, encouraging the use of electronic checks, attracting users with higher data usage, and pursuing customers willing to pay higher monthly costs would all result in an improvement in the ability to retain customers. However, as the correlation of these factors and churn are very slight, it would also be recommended to engage in deeper analysis with more variables that might influence the churn rate more."
   ]
  },
  {
   "cell_type": "markdown",
   "metadata": {},
   "source": [
    "<a id=\"G\"></a>\n",
    "#### G: Panopto Video\n",
    "A Panopto video recording of my code in action can be found at the following link:\n",
    "https://wgu.hosted.panopto.com/Panopto/Pages/Viewer.aspx?id=2cc3360a-7574-4af8-b858-b189016ac623\n"
   ]
  },
  {
   "cell_type": "markdown",
   "metadata": {},
   "source": [
    "<a id=\"H\"></a>\n",
    "#### H: Code References\n",
    "<a src=https://www.w3resource.com/python-exercises/pandas/missing-values/python-pandas-missing-values-exercise-14.php>Pandas information</a> used for cleaning the data and excluding outliers\n",
    "<a src=https://towardsdatascience.com/feature-selection-techniques-in-regression-model-26878fe0e24e>Feature Selection Techniques in Regression Model: Ashutosh Tripathi</a> used for the backwards stepwise elimination."
   ]
  },
  {
   "cell_type": "markdown",
   "metadata": {},
   "source": [
    "<a id=\"I\"></a>\n",
    "#### H: Source References\n",
    "<a src=\"https://search.ebscohost.com/login.aspx?direct=true&db=nlebk&AN=2091371&site=eds-live&scope=site&authtype=sso&custid=ns017578&ebv=EB&ppid=pp_9\">Chantal D. Larose, Daniel T. Larose: Data Science Using Python and R</a> used to understand Variance Inflation Factor and how to analyze/improve the model"
   ]
  },
  {
   "cell_type": "code",
   "execution_count": null,
   "metadata": {},
   "outputs": [],
   "source": []
  }
 ],
 "metadata": {
  "kernelspec": {
   "display_name": "Python 3 (ipykernel)",
   "language": "python",
   "name": "python3"
  },
  "language_info": {
   "codemirror_mode": {
    "name": "ipython",
    "version": 3
   },
   "file_extension": ".py",
   "mimetype": "text/x-python",
   "name": "python",
   "nbconvert_exporter": "python",
   "pygments_lexer": "ipython3",
   "version": "3.12.3"
  }
 },
 "nbformat": 4,
 "nbformat_minor": 4
}
