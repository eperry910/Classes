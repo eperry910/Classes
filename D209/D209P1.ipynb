{
 "cells": [
  {
   "cell_type": "markdown",
   "metadata": {},
   "source": [
    "## D209 Data Mining 1 PA\n",
    "##### Submitted By Edwin Perry\n",
    "### Table of Contents\n",
    "<ol>\n",
    "    <li><a href=\"#A\">Research Question</a></li>\n",
    "    <li><a href=\"#B\">Method Justification</a></li>\n",
    "    <li><a href=\"#C\">Data Preparation</a></li>\n",
    "    <li><a href=\"#D\">Analysis</a></li>\n",
    "    <li><a href=\"#E\">Data Summary and Implications</a></li>\n",
    "    <li><a href=\"#F\">Panopto Video</a></li>\n",
    "</ol>"
   ]
  },
  {
   "cell_type": "markdown",
   "metadata": {},
   "source": [
    "<a id=\"A\"></a>\n",
    "#### A: Research Question\n",
    "##### 1. Providing the question\n",
    "The research question I will be examining is \"Can we use the data from a provided dataset to accurately classify whether or not a customer will churn?\" This is relevant to the business interest of the company, as it will allow for a greater identification of customers likely to leave going forward, allowing the business to both prepare for lost customers and to take preventative action to retain customers\n",
    "##### 2. Goal of Analysis\n",
    "The goals for this analysis is to use a K-Nearest-Neighbors analysis (KNN) to determine which factors in the telecommunications dataset (independent/explanatory variables) correlate to customers leaving the business (the dependent/target variable). If the analysis can identify these factors, customers can be retained over longer periods of time, thus reducing the necessity of acquiring new customers or allowing for a higher number of concurrent customers, resulting in higher profitability for the business."
   ]
  },
  {
   "cell_type": "markdown",
   "metadata": {
    "vscode": {
     "languageId": "html"
    }
   },
   "source": [
    "<a id=\"B\"></a>\n",
    "#### B: Method Justification\n",
    "##### 1. Explaining Classification Method\n",
    "K-nearest-neighbor (KNN) analysis is a supervised learning algorithm that predicts the target variable for a new sample based on the values of its nearest neighbors. The algorithm calculates the distance between the new sample and all existing samples, and then selects the K most similar samples (i.e., the nearest neighbors) to determine the predicted value. The predicted value is typically determined by a majority vote (for classification) or a weighted average (for regression) of the values of the K nearest neighbors. Once this model is created, I expect the model to be able to correctly identify customer churn, ideally with an accuracy of 90%, to help inform future decision making in the business.\n",
    "\n",
    "##### 2. Summarizing Assumptions\n",
    "There are multiple assumptions that are used when making a KNN model\n",
    "<ul>\n",
    "    <li>We assume that instances that are close together in feature space are likely to have similar outputs. That is, we need the independent variables to influence the dependent variable</li>\n",
    "    <li>We assume that the training data is representative of the entirety of the data.</li>\n",
    "    <li>We assume that the data points are independent of each other. That is, we need each row of the csv file provided to have entries that are not influenced by the other customers in the data set</li>\n",
    "</ul>\n",
    "\n",
    "##### 3. Packages Used\n",
    "For this project, I will use Python, due to the simplicity of both the language as a whole and the libraries used to perform KNN analysis. The libraries that will be used for this are as follows:\n",
    "<ul>\n",
    "<li>sklearn.model_selection: to split the data into training and testing sets\n",
    "</li>\n",
    "<li>sklearn.neighbors: to create the KNN model\n",
    "</li>\n",
    "<li>sklearn.preprocessing: to scale the data\n",
    "</li>\n",
    "<li>sklearn.metrics: to evaluate the performance of the model \n",
    "</li>\n",
    "<li>pandas: to ingest and manipulate data within dateframes\n",
    "</li>\n",
    "<li>Numpy: For mathematical operations within the dataset</li>\n",
    "<li>Scipy: For calculating z-scores to remove outliers</li>\n",
    "<li>sklearn.feature_selection: For determining the best value for K</li>\n",
    "<li>matplotlib.pyplot: For creating data visualizations</li>\n",
    "</ul>"
   ]
  },
  {
   "cell_type": "code",
   "execution_count": 286,
   "metadata": {},
   "outputs": [],
   "source": [
    "import pandas as pd\n",
    "from sklearn.model_selection import train_test_split\n",
    "from sklearn.metrics import accuracy_score, classification_report, confusion_matrix, roc_auc_score, roc_curve\n",
    "from sklearn.neighbors import KNeighborsClassifier\n",
    "from scipy import stats\n",
    "import numpy as np\n",
    "from sklearn.model_selection import GridSearchCV\n",
    "from sklearn import preprocessing\n",
    "from sklearn.feature_selection import SelectKBest, f_classif\n",
    "import matplotlib.pyplot as plt"
   ]
  },
  {
   "cell_type": "markdown",
   "metadata": {},
   "source": [
    "<a id=\"C\"></a>\n",
    "#### C: Data Preparation\n",
    "##### 1. Data Pre-processing Goal\n",
    "One goal of the data pre-processing would be to engage in one-hot encoding. This process will replace categorical data that may be stored as strings, which would cause issues analyzing the data, with integer values instead. For example, the techie column is stored as strings of Yes or No, but using pandas get_dummies() function, we can convert the techie column into numeric values that make the data possible to analyze.\n",
    "##### 2. Variable Identification\n",
    "The following variables will be included in the initial data analysis\n",
    "<ul>\n",
    "<li>Churn: Categorical variable used to determine whether the customer has left the company within the past month. This will also be the dependent variable</li>\n",
    "<li>Customer_id: Categorical variable, a key to distinguish between customers</li>\n",
    "<li>Age: Numerical variable, used to determine the age of the customer as reported at sign up</li>\n",
    "<li>Area: Categorical variable, the area type of the customer, with possible values of urban, suburban, and rural</li>\n",
    "<li>Income: Numerical variable, the annual income of the customer as reported at sign-up</li>\n",
    "<li>Marital: Categorical variable, the marital status of the customer</li>\n",
    "<li>Gender: Categorical variable, the gender of the customer</li>\n",
    "<li>Email: Numerical variable, the number of emails sent to the customer within the last year</li>\n",
    "<li>Contacts: Numerical variable, the number of times the customer has contacted customer support</li>\n",
    "<li>Tenure: Numerical variable, the number of months the customer has stayed with his provider</li>\n",
    "<li>MonthlyCharge: Numerical variable, the amount charged to the customer monthly</li>\n",
    "<li>Bandwidth_GB_Year: Numerical variable, the amount of data used in a year</li>\n",
    "</ul>\n",
    "\n",
    "##### 3. Analysis Steps\n",
    "In this first step, we are going to ingest the data and remove any columns that are not required for the data analysis."
   ]
  },
  {
   "cell_type": "code",
   "execution_count": 287,
   "metadata": {},
   "outputs": [
    {
     "name": "stdout",
     "output_type": "stream",
     "text": [
      "  Churn Customer_id  Age      Area    Income    Marital  Gender  Email  \\\n",
      "0    No     K409198   68     Urban  28561.99    Widowed    Male     10   \n",
      "1   Yes     S120509   27     Urban  21704.77    Married  Female     12   \n",
      "2    No     K191035   50     Urban   9609.57    Widowed  Female      9   \n",
      "3    No      D90850   48  Suburban  18925.23    Married    Male     15   \n",
      "4   Yes     K662701   83  Suburban  40074.19  Separated    Male     16   \n",
      "\n",
      "   Contacts     Tenure  MonthlyCharge  Bandwidth_GB_Year  \n",
      "0         0   6.795513     172.455519         904.536110  \n",
      "1         0   1.156681     242.632554         800.982766  \n",
      "2         0  15.754144     159.947583        2054.706961  \n",
      "3         2  17.087227     119.956840        2164.579412  \n",
      "4         2   1.670972     149.948316         271.493436  \n"
     ]
    }
   ],
   "source": [
    "data = pd.read_csv(\"/home/edwinp/Downloads/d9rkejv84kd9rk30fi2l/churn_clean.csv\")\n",
    "pd.set_option(\"display.max_columns\", None)\n",
    "data = data.filter(['Churn', 'Customer_id', 'Age', 'Area', 'Income', 'Marital', 'Gender', 'Email', 'Contacts', 'Tenure', 'MonthlyCharge', 'Bandwidth_GB_Year'])\n",
    "print(data.head())"
   ]
  },
  {
   "cell_type": "markdown",
   "metadata": {},
   "source": [
    "In this next step, we will filter out any entries that are missing values in categorical columns, and replace missing numerical values with the median of their columns"
   ]
  },
  {
   "cell_type": "code",
   "execution_count": 288,
   "metadata": {},
   "outputs": [
    {
     "name": "stderr",
     "output_type": "stream",
     "text": [
      "/tmp/ipykernel_9330/2482320639.py:1: FutureWarning: A value is trying to be set on a copy of a DataFrame or Series through chained assignment using an inplace method.\n",
      "The behavior will change in pandas 3.0. This inplace method will never work because the intermediate object on which we are setting values always behaves as a copy.\n",
      "\n",
      "For example, when doing 'df[col].method(value, inplace=True)', try using 'df.method({col: value}, inplace=True)' or df[col] = df[col].method(value) instead, to perform the operation inplace on the original object.\n",
      "\n",
      "\n",
      "  data['Income'].fillna(data['Income'].median(), inplace=True)\n",
      "/tmp/ipykernel_9330/2482320639.py:2: FutureWarning: A value is trying to be set on a copy of a DataFrame or Series through chained assignment using an inplace method.\n",
      "The behavior will change in pandas 3.0. This inplace method will never work because the intermediate object on which we are setting values always behaves as a copy.\n",
      "\n",
      "For example, when doing 'df[col].method(value, inplace=True)', try using 'df.method({col: value}, inplace=True)' or df[col] = df[col].method(value) instead, to perform the operation inplace on the original object.\n",
      "\n",
      "\n",
      "  data[\"Tenure\"].fillna(data[\"Tenure\"].median(), inplace=True)\n",
      "/tmp/ipykernel_9330/2482320639.py:3: FutureWarning: A value is trying to be set on a copy of a DataFrame or Series through chained assignment using an inplace method.\n",
      "The behavior will change in pandas 3.0. This inplace method will never work because the intermediate object on which we are setting values always behaves as a copy.\n",
      "\n",
      "For example, when doing 'df[col].method(value, inplace=True)', try using 'df.method({col: value}, inplace=True)' or df[col] = df[col].method(value) instead, to perform the operation inplace on the original object.\n",
      "\n",
      "\n",
      "  data[\"MonthlyCharge\"].fillna(data[\"MonthlyCharge\"].median(), inplace=True)\n",
      "/tmp/ipykernel_9330/2482320639.py:4: FutureWarning: A value is trying to be set on a copy of a DataFrame or Series through chained assignment using an inplace method.\n",
      "The behavior will change in pandas 3.0. This inplace method will never work because the intermediate object on which we are setting values always behaves as a copy.\n",
      "\n",
      "For example, when doing 'df[col].method(value, inplace=True)', try using 'df.method({col: value}, inplace=True)' or df[col] = df[col].method(value) instead, to perform the operation inplace on the original object.\n",
      "\n",
      "\n",
      "  data[\"Email\"].fillna(data[\"Email\"].median(), inplace=True)\n",
      "/tmp/ipykernel_9330/2482320639.py:5: FutureWarning: A value is trying to be set on a copy of a DataFrame or Series through chained assignment using an inplace method.\n",
      "The behavior will change in pandas 3.0. This inplace method will never work because the intermediate object on which we are setting values always behaves as a copy.\n",
      "\n",
      "For example, when doing 'df[col].method(value, inplace=True)', try using 'df.method({col: value}, inplace=True)' or df[col] = df[col].method(value) instead, to perform the operation inplace on the original object.\n",
      "\n",
      "\n",
      "  data[\"Contacts\"].fillna(data[\"Contacts\"].median(), inplace=True)\n",
      "/tmp/ipykernel_9330/2482320639.py:6: FutureWarning: A value is trying to be set on a copy of a DataFrame or Series through chained assignment using an inplace method.\n",
      "The behavior will change in pandas 3.0. This inplace method will never work because the intermediate object on which we are setting values always behaves as a copy.\n",
      "\n",
      "For example, when doing 'df[col].method(value, inplace=True)', try using 'df.method({col: value}, inplace=True)' or df[col] = df[col].method(value) instead, to perform the operation inplace on the original object.\n",
      "\n",
      "\n",
      "  data[\"Age\"].fillna(data[\"Age\"].median(), inplace=True)\n",
      "/tmp/ipykernel_9330/2482320639.py:7: FutureWarning: A value is trying to be set on a copy of a DataFrame or Series through chained assignment using an inplace method.\n",
      "The behavior will change in pandas 3.0. This inplace method will never work because the intermediate object on which we are setting values always behaves as a copy.\n",
      "\n",
      "For example, when doing 'df[col].method(value, inplace=True)', try using 'df.method({col: value}, inplace=True)' or df[col] = df[col].method(value) instead, to perform the operation inplace on the original object.\n",
      "\n",
      "\n",
      "  data[\"Bandwidth_GB_Year\"].fillna(data[\"Bandwidth_GB_Year\"].median(), inplace=True)\n"
     ]
    }
   ],
   "source": [
    "data['Income'].fillna(data['Income'].median(), inplace=True)\n",
    "data[\"Tenure\"].fillna(data[\"Tenure\"].median(), inplace=True)\n",
    "data[\"MonthlyCharge\"].fillna(data[\"MonthlyCharge\"].median(), inplace=True)\n",
    "data[\"Email\"].fillna(data[\"Email\"].median(), inplace=True)\n",
    "data[\"Contacts\"].fillna(data[\"Contacts\"].median(), inplace=True)\n",
    "data[\"Age\"].fillna(data[\"Age\"].median(), inplace=True)\n",
    "data[\"Bandwidth_GB_Year\"].fillna(data[\"Bandwidth_GB_Year\"].median(), inplace=True)\n",
    "data.dropna(how='any',inplace=True)"
   ]
  },
  {
   "cell_type": "markdown",
   "metadata": {},
   "source": [
    "Next, we will filter out the outliers from the numerical columns. Anything with a Z-Score of greater than 3 or less than -3 will be removed"
   ]
  },
  {
   "cell_type": "code",
   "execution_count": 289,
   "metadata": {},
   "outputs": [],
   "source": [
    "zscores = stats.zscore(data['Income'])\n",
    "data['IncomeZScore'] = zscores\n",
    "zscores = stats.zscore(data['Tenure'])\n",
    "data['TenureZScore'] = zscores\n",
    "zscores = stats.zscore(data['MonthlyCharge'])\n",
    "data['MonthlyChargeZScore'] = zscores\n",
    "zscores = stats.zscore(data['Email'])\n",
    "data['EmailZScore'] = zscores\n",
    "zscores = stats.zscore(data['Contacts'])\n",
    "data['ContactsZScore'] = zscores\n",
    "zscores = stats.zscore(data['Age'])\n",
    "data['AgeZScore'] = zscores\n",
    "zscores = stats.zscore(data['Bandwidth_GB_Year'])\n",
    "data['Bandwidth_GB_YearZScore'] = zscores\n",
    "data = data.query(\"(IncomeZScore < 3 & IncomeZScore > -3) & (TenureZScore < 3 & TenureZScore > -3) & (MonthlyChargeZScore < 3 & MonthlyChargeZScore > -3) & (Bandwidth_GB_YearZScore < 3 & Bandwidth_GB_YearZScore > -3) & (EmailZScore < 3 & EmailZScore > -3) &  (AgeZScore < 3 & AgeZScore > -3) & (ContactsZScore < 3 & ContactsZScore > -3)\")\n",
    "data = data.drop(columns=['IncomeZScore', 'TenureZScore', 'MonthlyChargeZScore', 'EmailZScore', 'ContactsZScore', 'AgeZScore', 'Bandwidth_GB_YearZScore', 'Customer_id'])"
   ]
  },
  {
   "cell_type": "markdown",
   "metadata": {},
   "source": [
    "Now, we will perform the one-hot encoding to numerical data. This is a required step to convert data stored in a textual format into a usable format for the KNN model. "
   ]
  },
  {
   "cell_type": "code",
   "execution_count": 290,
   "metadata": {},
   "outputs": [
    {
     "name": "stdout",
     "output_type": "stream",
     "text": [
      "   Churn  Age    Income  Email  Contacts     Tenure  MonthlyCharge  \\\n",
      "0      1   68  28561.99     10         0   6.795513     172.455519   \n",
      "1      0   27  21704.77     12         0   1.156681     242.632554   \n",
      "2      1   50   9609.57      9         0  15.754144     159.947583   \n",
      "3      1   48  18925.23     15         2  17.087227     119.956840   \n",
      "4      0   83  40074.19     16         2   1.670972     149.948316   \n",
      "\n",
      "   Bandwidth_GB_Year  Gender_Female  Gender_Male  Gender_Nonbinary  \\\n",
      "0         904.536110              0            1                 0   \n",
      "1         800.982766              1            0                 0   \n",
      "2        2054.706961              1            0                 0   \n",
      "3        2164.579412              0            1                 0   \n",
      "4         271.493436              0            1                 0   \n",
      "\n",
      "   Area_Rural  Area_Suburban  Area_Urban  Marital_Divorced  Marital_Married  \\\n",
      "0           0              0           1                 0                0   \n",
      "1           0              0           1                 0                1   \n",
      "2           0              0           1                 0                0   \n",
      "3           0              1           0                 0                1   \n",
      "4           0              1           0                 0                0   \n",
      "\n",
      "   Marital_Never Married  Marital_Separated  Marital_Widowed  \n",
      "0                      0                  0                1  \n",
      "1                      0                  0                0  \n",
      "2                      0                  0                1  \n",
      "3                      0                  0                0  \n",
      "4                      0                  1                0  \n"
     ]
    }
   ],
   "source": [
    "data = pd.get_dummies(data, columns=['Gender', 'Area', 'Marital'], dtype=int)\n",
    "data[\"Churn\"] = data[\"Churn\"].apply(lambda x: 0 if x == \"Yes\" else 1)\n",
    "print(data.head())"
   ]
  },
  {
   "cell_type": "markdown",
   "metadata": {},
   "source": [
    "Next, we will scale the data, to ensure that all features contribute equally to the distance calculations, accounting for those factors with larger ranges."
   ]
  },
  {
   "cell_type": "code",
   "execution_count": 291,
   "metadata": {},
   "outputs": [],
   "source": [
    "df_X = data.drop(['Churn'], axis=1).copy()\n",
    "df_y = data['Churn'].copy()\n",
    "df_X = pd.DataFrame(preprocessing.MinMaxScaler().fit_transform(df_X), columns=df_X.columns)"
   ]
  },
  {
   "cell_type": "markdown",
   "metadata": {},
   "source": [
    "With this, our data is prepared. The exported data can be found in an attached csv, which is exported with the following code:"
   ]
  },
  {
   "cell_type": "code",
   "execution_count": 292,
   "metadata": {},
   "outputs": [],
   "source": [
    "data = pd.concat([df_X.reset_index(drop=True), df_y.reset_index(drop=True)], axis=1)\n",
    "data.to_csv('./D209CleanedData.csv')"
   ]
  },
  {
   "cell_type": "markdown",
   "metadata": {},
   "source": [
    "<a id='D'></a>\n",
    "\n",
    "#### D: Analysis\n",
    "##### 1. Splitting the data\n",
    "\n"
   ]
  },
  {
   "cell_type": "code",
   "execution_count": 293,
   "metadata": {},
   "outputs": [],
   "source": [
    "df_x = data.drop(['Churn'], axis=1).copy()\n",
    "df_y = data['Churn'].copy()\n",
    "X = df_x[[\"Tenure\", 'Contacts', \"Gender_Male\", \"Gender_Female\", 'Gender_Nonbinary', 'Email', 'MonthlyCharge', 'Bandwidth_GB_Year', 'Age']]\n",
    "y = df_y\n",
    "X_train, X_test, y_train, y_test = train_test_split(X, y, train_size = 0.8, test_size=0.2, random_state = 100, stratify = y)\n",
    "\n",
    "X_train.to_csv('task1_Xtrain.csv', index=False)\n",
    "X_test.to_csv('task1_Xtest.csv', index=False)\n",
    "y_train.to_csv('task1_ytrain.csv', index=False)\n",
    "y_test.to_csv('task1_ytest.csv', index=False)"
   ]
  },
  {
   "cell_type": "markdown",
   "metadata": {},
   "source": [
    "##### 2. Technique Description\n",
    "The first step to do in a KNN analysis is to identify an appropriate k value to ensure that we do not over or underfit. We will use GridSearchCV to test multiple values, and pick the value providing the most accurate model"
   ]
  },
  {
   "cell_type": "code",
   "execution_count": 294,
   "metadata": {},
   "outputs": [
    {
     "data": {
      "text/plain": [
       "{'n_neighbors': 49}"
      ]
     },
     "execution_count": 294,
     "metadata": {},
     "output_type": "execute_result"
    }
   ],
   "source": [
    "grid = {'n_neighbors' : np.arange(1, 50)}\n",
    "knn = KNeighborsClassifier()\n",
    "knn_cv = GridSearchCV(knn, grid, cv = 5)\n",
    "knn_cv.fit(X_train, y_train)\n",
    "knn_cv.best_params_"
   ]
  },
  {
   "cell_type": "code",
   "execution_count": 295,
   "metadata": {},
   "outputs": [
    {
     "data": {
      "text/plain": [
       "0.8310722263092135"
      ]
     },
     "execution_count": 295,
     "metadata": {},
     "output_type": "execute_result"
    }
   ],
   "source": [
    "knn_cv.best_score_"
   ]
  },
  {
   "cell_type": "markdown",
   "metadata": {},
   "source": [
    "Now that we have the value of k as 49, we will perform the KNN classification, find an Area Under the Curve (AUC) score, and use code to determine the accuracy of the model"
   ]
  },
  {
   "cell_type": "code",
   "execution_count": 296,
   "metadata": {},
   "outputs": [
    {
     "name": "stdout",
     "output_type": "stream",
     "text": [
      "The confusion matrix for this KNN model:\n",
      "Predicted No Churn | Predicted Churn\n",
      "                 [289 222] Actual No Churn\n",
      "                 [ 105 1320] Actual Churn\n",
      "Training Accuracy: 0.8379181195918894.\n",
      "Testing Accuracy: 0.831095041322314.\n"
     ]
    },
    {
     "data": {
      "image/png": "[encoded data removed]",
      "text/plain": [
       "<Figure size 640x480 with 1 Axes>"
      ]
     },
     "metadata": {},
     "output_type": "display_data"
    },
    {
     "name": "stdout",
     "output_type": "stream",
     "text": [
      "The Area Under the Curve (AUC) score is: 0.8902200707247573\n",
      "\n",
      "              precision    recall  f1-score   support\n",
      "\n",
      "           0       0.73      0.57      0.64       511\n",
      "           1       0.86      0.93      0.89      1425\n",
      "\n",
      "    accuracy                           0.83      1936\n",
      "   macro avg       0.79      0.75      0.76      1936\n",
      "weighted avg       0.82      0.83      0.82      1936\n",
      "\n"
     ]
    }
   ],
   "source": [
    "knn = KNeighborsClassifier(n_neighbors = 49)\n",
    "knn.fit(X_train, y_train)\n",
    "y_pred = knn.predict(X_test)\n",
    "final_matrix = confusion_matrix(y_test, y_pred)\n",
    "print(\"The confusion matrix for this KNN model:\")\n",
    "print(\"Predicted No Churn | Predicted Churn\")\n",
    "print(f\"                 {final_matrix[0]} Actual No Churn\")\n",
    "print(f\"                 {final_matrix[1]} Actual Churn\")\n",
    "print(f\"Training Accuracy: {knn.score(X_train, y_train)}.\")\n",
    "print(f\"Testing Accuracy: {knn.score(X_test, y_test)}.\")\n",
    "y_pred_prob = knn.predict_proba(X_test)[:, 1]\n",
    "fpr, tpr, thresholds = roc_curve(y_test, y_pred_prob)\n",
    "plt.plot([0, 1], [0, 1], 'k--')\n",
    "plt.plot(fpr, tpr)\n",
    "plt.xlabel('False Positive Rate')\n",
    "plt.ylabel('True Positive Rate')\n",
    "plt.title('ROC Curve for Classification')\n",
    "plt.show()\n",
    "print(f\"The Area Under the Curve (AUC) score is: {roc_auc_score(y_test, y_pred_prob)}\\n\")\n",
    "print(classification_report(y_test, y_pred))"
   ]
  },
  {
   "cell_type": "markdown",
   "metadata": {},
   "source": [
    "Overall, this model has correctly classified 1609 entries, as opposed to the incorrect 329, giving an accuracy of 83% when setting k = 49. Comparing this to the ROC curve, which represents the 50% likelihood of correct classification for random guessing, we see that the AUC score is significantly better, with an AUC score of 0.89"
   ]
  },
  {
   "cell_type": "markdown",
   "metadata": {},
   "source": [
    "##### 3. Copy of Code\n",
    "A copy of the code used to clean the data and create the model can be found in the following cell:"
   ]
  },
  {
   "cell_type": "code",
   "execution_count": 297,
   "metadata": {},
   "outputs": [
    {
     "name": "stdout",
     "output_type": "stream",
     "text": [
      "  Churn Customer_id  Age      Area    Income    Marital  Gender  Email  \\\n",
      "0    No     K409198   68     Urban  28561.99    Widowed    Male     10   \n",
      "1   Yes     S120509   27     Urban  21704.77    Married  Female     12   \n",
      "2    No     K191035   50     Urban   9609.57    Widowed  Female      9   \n",
      "3    No      D90850   48  Suburban  18925.23    Married    Male     15   \n",
      "4   Yes     K662701   83  Suburban  40074.19  Separated    Male     16   \n",
      "\n",
      "   Contacts     Tenure  MonthlyCharge  Bandwidth_GB_Year  \n",
      "0         0   6.795513     172.455519         904.536110  \n",
      "1         0   1.156681     242.632554         800.982766  \n",
      "2         0  15.754144     159.947583        2054.706961  \n",
      "3         2  17.087227     119.956840        2164.579412  \n",
      "4         2   1.670972     149.948316         271.493436  \n",
      "   Churn  Age    Income  Email  Contacts     Tenure  MonthlyCharge  \\\n",
      "0      1   68  28561.99     10         0   6.795513     172.455519   \n",
      "1      0   27  21704.77     12         0   1.156681     242.632554   \n",
      "2      1   50   9609.57      9         0  15.754144     159.947583   \n",
      "3      1   48  18925.23     15         2  17.087227     119.956840   \n",
      "4      0   83  40074.19     16         2   1.670972     149.948316   \n",
      "\n",
      "   Bandwidth_GB_Year  Gender_Female  Gender_Male  Gender_Nonbinary  \\\n",
      "0         904.536110              0            1                 0   \n",
      "1         800.982766              1            0                 0   \n",
      "2        2054.706961              1            0                 0   \n",
      "3        2164.579412              0            1                 0   \n",
      "4         271.493436              0            1                 0   \n",
      "\n",
      "   Area_Rural  Area_Suburban  Area_Urban  Marital_Divorced  Marital_Married  \\\n",
      "0           0              0           1                 0                0   \n",
      "1           0              0           1                 0                1   \n",
      "2           0              0           1                 0                0   \n",
      "3           0              1           0                 0                1   \n",
      "4           0              1           0                 0                0   \n",
      "\n",
      "   Marital_Never Married  Marital_Separated  Marital_Widowed  \n",
      "0                      0                  0                1  \n",
      "1                      0                  0                0  \n",
      "2                      0                  0                1  \n",
      "3                      0                  0                0  \n",
      "4                      0                  1                0  \n"
     ]
    },
    {
     "name": "stderr",
     "output_type": "stream",
     "text": [
      "/tmp/ipykernel_9330/688429967.py:15: FutureWarning: A value is trying to be set on a copy of a DataFrame or Series through chained assignment using an inplace method.\n",
      "The behavior will change in pandas 3.0. This inplace method will never work because the intermediate object on which we are setting values always behaves as a copy.\n",
      "\n",
      "For example, when doing 'df[col].method(value, inplace=True)', try using 'df.method({col: value}, inplace=True)' or df[col] = df[col].method(value) instead, to perform the operation inplace on the original object.\n",
      "\n",
      "\n",
      "  data['Income'].fillna(data['Income'].median(), inplace=True)\n",
      "/tmp/ipykernel_9330/688429967.py:16: FutureWarning: A value is trying to be set on a copy of a DataFrame or Series through chained assignment using an inplace method.\n",
      "The behavior will change in pandas 3.0. This inplace method will never work because the intermediate object on which we are setting values always behaves as a copy.\n",
      "\n",
      "For example, when doing 'df[col].method(value, inplace=True)', try using 'df.method({col: value}, inplace=True)' or df[col] = df[col].method(value) instead, to perform the operation inplace on the original object.\n",
      "\n",
      "\n",
      "  data[\"Tenure\"].fillna(data[\"Tenure\"].median(), inplace=True)\n",
      "/tmp/ipykernel_9330/688429967.py:17: FutureWarning: A value is trying to be set on a copy of a DataFrame or Series through chained assignment using an inplace method.\n",
      "The behavior will change in pandas 3.0. This inplace method will never work because the intermediate object on which we are setting values always behaves as a copy.\n",
      "\n",
      "For example, when doing 'df[col].method(value, inplace=True)', try using 'df.method({col: value}, inplace=True)' or df[col] = df[col].method(value) instead, to perform the operation inplace on the original object.\n",
      "\n",
      "\n",
      "  data[\"MonthlyCharge\"].fillna(data[\"MonthlyCharge\"].median(), inplace=True)\n",
      "/tmp/ipykernel_9330/688429967.py:18: FutureWarning: A value is trying to be set on a copy of a DataFrame or Series through chained assignment using an inplace method.\n",
      "The behavior will change in pandas 3.0. This inplace method will never work because the intermediate object on which we are setting values always behaves as a copy.\n",
      "\n",
      "For example, when doing 'df[col].method(value, inplace=True)', try using 'df.method({col: value}, inplace=True)' or df[col] = df[col].method(value) instead, to perform the operation inplace on the original object.\n",
      "\n",
      "\n",
      "  data[\"Email\"].fillna(data[\"Email\"].median(), inplace=True)\n",
      "/tmp/ipykernel_9330/688429967.py:19: FutureWarning: A value is trying to be set on a copy of a DataFrame or Series through chained assignment using an inplace method.\n",
      "The behavior will change in pandas 3.0. This inplace method will never work because the intermediate object on which we are setting values always behaves as a copy.\n",
      "\n",
      "For example, when doing 'df[col].method(value, inplace=True)', try using 'df.method({col: value}, inplace=True)' or df[col] = df[col].method(value) instead, to perform the operation inplace on the original object.\n",
      "\n",
      "\n",
      "  data[\"Contacts\"].fillna(data[\"Contacts\"].median(), inplace=True)\n",
      "/tmp/ipykernel_9330/688429967.py:20: FutureWarning: A value is trying to be set on a copy of a DataFrame or Series through chained assignment using an inplace method.\n",
      "The behavior will change in pandas 3.0. This inplace method will never work because the intermediate object on which we are setting values always behaves as a copy.\n",
      "\n",
      "For example, when doing 'df[col].method(value, inplace=True)', try using 'df.method({col: value}, inplace=True)' or df[col] = df[col].method(value) instead, to perform the operation inplace on the original object.\n",
      "\n",
      "\n",
      "  data[\"Age\"].fillna(data[\"Age\"].median(), inplace=True)\n",
      "/tmp/ipykernel_9330/688429967.py:21: FutureWarning: A value is trying to be set on a copy of a DataFrame or Series through chained assignment using an inplace method.\n",
      "The behavior will change in pandas 3.0. This inplace method will never work because the intermediate object on which we are setting values always behaves as a copy.\n",
      "\n",
      "For example, when doing 'df[col].method(value, inplace=True)', try using 'df.method({col: value}, inplace=True)' or df[col] = df[col].method(value) instead, to perform the operation inplace on the original object.\n",
      "\n",
      "\n",
      "  data[\"Bandwidth_GB_Year\"].fillna(data[\"Bandwidth_GB_Year\"].median(), inplace=True)\n"
     ]
    },
    {
     "name": "stdout",
     "output_type": "stream",
     "text": [
      "The confusion matrix for this KNN model:\n",
      "Predicted No Churn | Predicted Churn\n",
      "                 [298 213] Actual No Churn\n",
      "                 [ 116 1309] Actual Churn\n",
      "Training Accuracy: 0.8392096086788067.\n",
      "Testing Accuracy: 0.8300619834710744.\n"
     ]
    },
    {
     "data": {
      "image/png": "[encoded data removed]",
      "text/plain": [
       "<Figure size 640x480 with 1 Axes>"
      ]
     },
     "metadata": {},
     "output_type": "display_data"
    },
    {
     "name": "stdout",
     "output_type": "stream",
     "text": [
      "The Area Under the Curve (AUC) score is: 0.8903045284443987\n",
      "\n",
      "              precision    recall  f1-score   support\n",
      "\n",
      "           0       0.72      0.58      0.64       511\n",
      "           1       0.86      0.92      0.89      1425\n",
      "\n",
      "    accuracy                           0.83      1936\n",
      "   macro avg       0.79      0.75      0.77      1936\n",
      "weighted avg       0.82      0.83      0.82      1936\n",
      "\n"
     ]
    }
   ],
   "source": [
    "import pandas as pd\n",
    "from sklearn.model_selection import train_test_split\n",
    "from sklearn.metrics import accuracy_score, classification_report, confusion_matrix, roc_auc_score, roc_curve\n",
    "from sklearn.neighbors import KNeighborsClassifier\n",
    "from scipy import stats\n",
    "import numpy as np\n",
    "from sklearn.model_selection import GridSearchCV\n",
    "from sklearn import preprocessing\n",
    "from sklearn.feature_selection import SelectKBest, f_classif\n",
    "import matplotlib.pyplot as plt\n",
    "data = pd.read_csv(\"/home/edwinp/Downloads/d9rkejv84kd9rk30fi2l/churn_clean.csv\")\n",
    "pd.set_option(\"display.max_columns\", None)\n",
    "data = data.filter(['Churn', 'Customer_id', 'Age', 'Area', 'Income', 'Marital', 'Gender', 'Email', 'Contacts', 'Tenure', 'MonthlyCharge', 'Bandwidth_GB_Year'])\n",
    "print(data.head())\n",
    "data['Income'].fillna(data['Income'].median(), inplace=True)\n",
    "data[\"Tenure\"].fillna(data[\"Tenure\"].median(), inplace=True)\n",
    "data[\"MonthlyCharge\"].fillna(data[\"MonthlyCharge\"].median(), inplace=True)\n",
    "data[\"Email\"].fillna(data[\"Email\"].median(), inplace=True)\n",
    "data[\"Contacts\"].fillna(data[\"Contacts\"].median(), inplace=True)\n",
    "data[\"Age\"].fillna(data[\"Age\"].median(), inplace=True)\n",
    "data[\"Bandwidth_GB_Year\"].fillna(data[\"Bandwidth_GB_Year\"].median(), inplace=True)\n",
    "data.dropna(how='any',inplace=True)\n",
    "zscores = stats.zscore(data['Income'])\n",
    "data['IncomeZScore'] = zscores\n",
    "zscores = stats.zscore(data['Tenure'])\n",
    "data['TenureZScore'] = zscores\n",
    "zscores = stats.zscore(data['MonthlyCharge'])\n",
    "data['MonthlyChargeZScore'] = zscores\n",
    "zscores = stats.zscore(data['Email'])\n",
    "data['EmailZScore'] = zscores\n",
    "zscores = stats.zscore(data['Contacts'])\n",
    "data['ContactsZScore'] = zscores\n",
    "zscores = stats.zscore(data['Age'])\n",
    "data['AgeZScore'] = zscores\n",
    "zscores = stats.zscore(data['Bandwidth_GB_Year'])\n",
    "data['Bandwidth_GB_YearZScore'] = zscores\n",
    "data = data.query(\"(IncomeZScore < 3 & IncomeZScore > -3) & (TenureZScore < 3 & TenureZScore > -3) & (MonthlyChargeZScore < 3 & MonthlyChargeZScore > -3) & (Bandwidth_GB_YearZScore < 3 & Bandwidth_GB_YearZScore > -3) & (EmailZScore < 3 & EmailZScore > -3) &  (AgeZScore < 3 & AgeZScore > -3) & (ContactsZScore < 3 & ContactsZScore > -3)\")\n",
    "data = data.drop(columns=['IncomeZScore', 'TenureZScore', 'MonthlyChargeZScore', 'EmailZScore', 'ContactsZScore', 'AgeZScore', 'Bandwidth_GB_YearZScore', 'Customer_id'])\n",
    "data = pd.get_dummies(data, columns=['Gender', 'Area', 'Marital'], dtype=int)\n",
    "data[\"Churn\"] = data[\"Churn\"].apply(lambda x: 0 if x == \"Yes\" else 1)\n",
    "print(data.head())\n",
    "df_X = data.drop(['Churn'], axis=1).copy()\n",
    "df_y = data['Churn'].copy()\n",
    "df_X = pd.DataFrame(preprocessing.MinMaxScaler().fit_transform(df_X), columns=df_X.columns)\n",
    "data = pd.concat([df_X.reset_index(drop=True), df_y.reset_index(drop=True)], axis=1)\n",
    "data.to_csv('./D209CleanedData.csv')\n",
    "df_x = data.drop(['Churn'], axis=1).copy()\n",
    "df_y = data['Churn'].copy()\n",
    "X = df_x[[\"Tenure\", 'Contacts', \"Gender_Male\", \"Gender_Female\", 'Gender_Nonbinary', 'Email', 'MonthlyCharge', 'Bandwidth_GB_Year', 'Age']]\n",
    "y = df_y\n",
    "X_train, X_test, y_train, y_test = train_test_split(X, y, train_size = 0.8, test_size=0.2, random_state = 100, stratify = y)\n",
    "\n",
    "X_train.to_csv('task1_Xtrain.csv', index=False)\n",
    "X_test.to_csv('task1_Xtest.csv', index=False)\n",
    "y_train.to_csv('task1_ytrain.csv', index=False)\n",
    "y_test.to_csv('task1_ytest.csv', index=False)\n",
    "grid = {'n_neighbors' : np.arange(1, 50)}\n",
    "knn = KNeighborsClassifier()\n",
    "knn_cv = GridSearchCV(knn, grid, cv = 5)\n",
    "knn_cv.fit(X_train, y_train)\n",
    "knn_cv.best_params_\n",
    "knn_cv.best_score_\n",
    "knn = KNeighborsClassifier(n_neighbors = 40)\n",
    "knn.fit(X_train, y_train)\n",
    "y_pred = knn.predict(X_test)\n",
    "final_matrix = confusion_matrix(y_test, y_pred)\n",
    "print(\"The confusion matrix for this KNN model:\")\n",
    "print(\"Predicted No Churn | Predicted Churn\")\n",
    "print(f\"                 {final_matrix[0]} Actual No Churn\")\n",
    "print(f\"                 {final_matrix[1]} Actual Churn\")\n",
    "print(f\"Training Accuracy: {knn.score(X_train, y_train)}.\")\n",
    "print(f\"Testing Accuracy: {knn.score(X_test, y_test)}.\")\n",
    "y_pred_prob = knn.predict_proba(X_test)[:, 1]\n",
    "fpr, tpr, thresholds = roc_curve(y_test, y_pred_prob)\n",
    "plt.plot([0, 1], [0, 1], 'k--')\n",
    "plt.plot(fpr, tpr)\n",
    "plt.xlabel('False Positive Rate')\n",
    "plt.ylabel('True Positive Rate')\n",
    "plt.title('ROC Curve for Classification')\n",
    "plt.show()\n",
    "print(f\"The Area Under the Curve (AUC) score is: {roc_auc_score(y_test, y_pred_prob)}\\n\")\n",
    "print(classification_report(y_test, y_pred))"
   ]
  },
  {
   "cell_type": "markdown",
   "metadata": {},
   "source": [
    "<a id='E'></a>\n",
    "\n",
    "#### E: Data Summary and Implications\n",
    "##### 1. Accuracy and AUC\n",
    "As mentioned before, the accuracy of the overall model is about 83% with an AUC score of 0.89. Though this score is significantly better than the ROC, which represents a 50% correct rate, a score of 83% is not ideal. The goal of any KNN analysis is to create a model that is as accurate, and as such, the model would have ideally been able to pass 90% accuracy in classification."
   ]
  },
  {
   "cell_type": "markdown",
   "metadata": {},
   "source": [
    "##### 2. Results and Implications\n",
    "As this model has fairly high accuracy, it can be useful in classification. As such, using the remaining independent variables of Tenure, Gender_Male, Gender_Female, MonthlyCharge and Bandwidth_GB_Year customers can be analyzed to determine who is most likely to discontinue service with the telecommunications company, allowing the company to take proactive action to prevent their departure or prepare to acquire new customers to replace them. This will allow the business to minimize potential revenue losses that are likely to result from customers leaving\n",
    "##### 3. Classification Limitations\n",
    "This model has a few limiting aspects associated with it. The primary concern that I have with this model would be the class imbalance. We have a disparity of 4573 for the value count in the churn column, meaning we have many more customers that remained with the company rather than left. As such, the predictions may be biased going forward.\n",
    "##### 4. Recommended Action\n",
    "Overall, with the fairly high accuracy that this model shows, I would recommend using the model that was prepared to analyze the customers that are most likely to leave the company going forward. Even so, it is worth looking into ways to potentially improve the model, such as feeding a model data that had closer to a 50/50% distribution of churn, to avoid the class imbalance issue. Furthermore, it would be worth considering identifying other possible variables that might also have some sort of influence on customer churn, so that these variables might be used in a future model to drive more usable insights\n",
    "#### F: Panopto Recording\n",
    "A recording of the presentation of this code can be found at the following link: https://wgu.hosted.panopto.com/Panopto/Pages/Viewer.aspx?id=aca838ee-a1eb-4439-a760-b1d9001fa373\n",
    "#### G: Code References\n",
    "<a href = \"https://campus.datacamp.com/courses/machine-learning-with-scikit-learn/fine-tuning-your-model?ex=9\">DataCamp Class Material by Hugo Bowne-Anderson (Hyperparameter Tuning)</a> was used for the the code to find the best value of k for the actual KNN classification.\n",
    "\n",
    "<a href= \"https://campus.datacamp.com/courses/machine-learning-with-scikit-learn/fine-tuning-your-model?ex=8\">DataCamp class material by Hugo Bowne-Anderson (AUC Computation)</a> was used for the code explaining how to compute the AUC score for my KNN model.\n",
    "\n",
    "<a href=\"https://campus.datacamp.com/courses/machine-learning-with-scikit-learn/fine-tuning-your-model?ex=5\"> DataCamp class material by Hugo Bowne-Anderson (Plotting an ROC Curve)</a> was used for the code to plot the ROC curve, to visualize the AUC score and the KNN model's performance\n",
    "\n",
    "#### H: Source References\n",
    "<a  href=\"https://scikit-learn.org/stable/modules/generated/sklearn.neighbors.KNeighborsClassifier.html\">Scikit learn documentation for KNeighborsClassifier</a> was used for research into the weights and algorithms underpinning KNN classification. "
   ]
  }
 ],
 "metadata": {
  "kernelspec": {
   "display_name": "Python 3",
   "language": "python",
   "name": "python3"
  },
  "language_info": {
   "codemirror_mode": {
    "name": "ipython",
    "version": 3
   },
   "file_extension": ".py",
   "mimetype": "text/x-python",
   "name": "python",
   "nbconvert_exporter": "python",
   "pygments_lexer": "ipython3",
   "version": "3.12.7"
  }
 },
 "nbformat": 4,
 "nbformat_minor": 2
}
