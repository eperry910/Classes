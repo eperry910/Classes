{
 "cells": [
  {
   "cell_type": "markdown",
   "metadata": {},
   "source": [
    "## D209 Data Mining 1 PA2\n",
    "##### Submitted By Edwin Perry\n",
    "### Table of Contents\n",
    "<ol>\n",
    "    <li><a href=\"#A\">Research Question</a></li>\n",
    "    <li><a href=\"#B\">Method Justification</a></li>\n",
    "    <li><a href=\"#C\">Data Preparation</a></li>\n",
    "    <li><a href=\"#D\">Analysis</a></li>\n",
    "    <li><a href=\"#E\">Data Summary and Implications</a></li>\n",
    "    <li><a href=\"#F\">Panopto Video</a></li>\n",
    "</ol>"
   ]
  },
  {
   "cell_type": "markdown",
   "metadata": {},
   "source": [
    "#### A: Research Question\n",
    "##### 1. Question\n",
    "The question I elected to examine is \"Can a decision-tree be used to identify which customers are likely to discontinue service?\" To identify these customers may help to prevent them from discontinuing service, and even if they do discontinue service, it allows the business advance notice, allowing for customer acquisition earlier to replace lost customers\n",
    "##### 2. Goal\n",
    "The goal of this data analysis is to create a model that can accurately predict the customers likely to discontinue service. Customer churn causes great difficulty within the telecommunications industry, as the cost to acquire a customer is fairly high. As such, it would be preferable to retain customers for long periods of time, and when customers do leave, it would be best to know early, giving the business time to perform the customer acquisition earlier."
   ]
  },
  {
   "cell_type": "markdown",
   "metadata": {},
   "source": [
    "<a id=\"B\"></a>\n",
    "\n",
    "#### B: Method Justification\n",
    "##### 1. Explaining Prediction Method\n",
    "A decision tree is a supervised learning algorithm that works by recursively partitioning data into subsets based on the values of the inputs. At each node of the tree, a binary decision is made that will split the path the data will take. This process continues until a conclusion can be drawn, which occurs in a leaf, at which point, a label is applied to classify the data. The expected outcome is a model that is capable of correctly identifying those customers that discontinue service, ideally with a 90% accuracy\n",
    "##### 2. Assumption\n",
    "Though a decision tree has few assumptions compared to other predictive models, there are still assumptions that must be made about the data. For example, decision trees assume that the dataset contains patterns that can be used to identify the dependent variable. If the patterns identified do not have a significant impact on the actual churn, then the decision tree will not be able to correctly classify the data with any better accuracy than random guessing.\n",
    "##### 3. Packages and Libraries\n",
    "I've used Python as the tool to analyze this data, due to the simple syntax and useful libraries that make this analysis straightforward. The libraries used are as follows:\n",
    "<ul>\n",
    "<li>Pandas: Used to ingest and manipulate the data in dataframes</li>\n",
    "<li>Numpy: Used for mathematical operations</li>\n",
    "<li>Matplotlib: Used for data visualizations</li>\n",
    "<li>Scipy: Used to generate z-scores</li>\n",
    "<li>sklearn: Provides pre-processing tools</li>\n",
    "<li>sklearn.feature_selection: Used to reduce multicollinearity</li>\n",
    "<li>sklearn.model_selection: Used to break up the data into test and training sets and to perform hyperparameter tuning</li>\n",
    "<li>sklearn.tree: Used to allow us to create a decision tree for classification</li>\n",
    "<li>sklearn.ensemble: Used to improve classifier performance</li>\n",
    "<li>sklearn.metrics: Used to determine the accuracy of the model</li>\n",
    "</ul>"
   ]
  },
  {
   "cell_type": "code",
   "execution_count": 8,
   "metadata": {},
   "outputs": [],
   "source": [
    "import pandas as pd\n",
    "import numpy as np\n",
    "import matplotlib.pyplot as plt\n",
    "from scipy import stats\n",
    "from sklearn import preprocessing\n",
    "from sklearn.feature_selection import SelectKBest, f_classif\n",
    "from sklearn.model_selection import train_test_split, GridSearchCV\n",
    "from sklearn.tree import DecisionTreeClassifier\n",
    "from sklearn.ensemble import AdaBoostClassifier\n",
    "from sklearn.metrics import accuracy_score, classification_report, roc_curve, confusion_matrix, mean_squared_error, roc_auc_score"
   ]
  },
  {
   "cell_type": "markdown",
   "metadata": {},
   "source": [
    "<a id=\"C\"></a>\n",
    "\n",
    "#### C: Data Preparation\n",
    "##### 1. Relevant Goal\n",
    "One of the primary goals of data preparation is going to be using one-hot encoding to convert the categorical columns into numerical data. To provide an example, the Area variable has possible values of Rural, Urban, and Suburban. In order to make this data usable, we are going to convert this Area column into numerical columns, Area_Urban, Area_Suburban, and Area_Rural, which will communicate the same data in a way that can be processed by the decision tree. We will do this using the get_dummies() function included in the pandas library\n",
    "##### 2. Initial Data Set Variables\n",
    "The following variables will be included in the initial data analysis\n",
    "<ul>\n",
    "<li>Churn: Categorical variable used to determine whether the customer has left the company within the past month. This will also be the dependent variable</li>\n",
    "<li>Customer_id: Categorical variable, a key to distinguish between customers</li>\n",
    "<li>Age: Numerical variable, used to determine the age of the customer as reported at sign up</li>\n",
    "<li>Area: Categorical variable, the area type of the customer, with possible values of urban, suburban, and rural</li>\n",
    "<li>Income: Numerical variable, the annual income of the customer as reported at sign-up</li>\n",
    "<li>Marital: Categorical variable, the marital status of the customer</li>\n",
    "<li>Gender: Categorical variable, the gender of the customer</li>\n",
    "<li>Email: Numerical variable, the number of emails sent to the customer within the last year</li>\n",
    "<li>Contacts: Numerical variable, the number of times the customer has contacted customer support</li>\n",
    "<li>Tenure: Numerical variable, the number of months the customer has stayed with his provider</li>\n",
    "<li>MonthlyCharge: Numerical variable, the amount charged to the customer monthly</li>\n",
    "<li>Bandwidth_GB_Year: Numerical variable, the amount of data used in a year</li>\n",
    "</ul>\n",
    "\n",
    "##### 3. Steps Used\n",
    "The first step that will occur to prepare the data is to ingest the data, as well as reducing the number of columns, such that only the relevant columns are included"
   ]
  },
  {
   "cell_type": "code",
   "execution_count": 9,
   "metadata": {},
   "outputs": [
    {
     "name": "stdout",
     "output_type": "stream",
     "text": [
      "  Churn Customer_id  Age      Area    Income    Marital  Gender  Email  \\\n",
      "0    No     K409198   68     Urban  28561.99    Widowed    Male     10   \n",
      "1   Yes     S120509   27     Urban  21704.77    Married  Female     12   \n",
      "2    No     K191035   50     Urban   9609.57    Widowed  Female      9   \n",
      "3    No      D90850   48  Suburban  18925.23    Married    Male     15   \n",
      "4   Yes     K662701   83  Suburban  40074.19  Separated    Male     16   \n",
      "\n",
      "   Contacts     Tenure  MonthlyCharge  Bandwidth_GB_Year  \n",
      "0         0   6.795513     172.455519         904.536110  \n",
      "1         0   1.156681     242.632554         800.982766  \n",
      "2         0  15.754144     159.947583        2054.706961  \n",
      "3         2  17.087227     119.956840        2164.579412  \n",
      "4         2   1.670972     149.948316         271.493436  \n"
     ]
    }
   ],
   "source": [
    "data = pd.read_csv(\"/home/edwinp/Downloads/d9rkejv84kd9rk30fi2l/churn_clean.csv\")\n",
    "pd.set_option(\"display.max_columns\", None)\n",
    "data = data.filter(['Churn', 'Customer_id', 'Age', 'Area', 'Income', 'Marital', 'Gender', 'Email', 'Contacts', 'Tenure', 'MonthlyCharge', 'Bandwidth_GB_Year'])\n",
    "print(data.head())"
   ]
  },
  {
   "cell_type": "markdown",
   "metadata": {},
   "source": [
    "The next step of the data preparation is to deal with missing data. For any row that is missing data in a categorical column, the row will be dropped. If a row is missing data in a numerical column, the null value will be replaced with the median value of that column. This will ensure that no entry is missing data."
   ]
  },
  {
   "cell_type": "code",
   "execution_count": 10,
   "metadata": {},
   "outputs": [
    {
     "name": "stderr",
     "output_type": "stream",
     "text": [
      "/tmp/ipykernel_13828/2482320639.py:1: FutureWarning: A value is trying to be set on a copy of a DataFrame or Series through chained assignment using an inplace method.\n",
      "The behavior will change in pandas 3.0. This inplace method will never work because the intermediate object on which we are setting values always behaves as a copy.\n",
      "\n",
      "For example, when doing 'df[col].method(value, inplace=True)', try using 'df.method({col: value}, inplace=True)' or df[col] = df[col].method(value) instead, to perform the operation inplace on the original object.\n",
      "\n",
      "\n",
      "  data['Income'].fillna(data['Income'].median(), inplace=True)\n",
      "/tmp/ipykernel_13828/2482320639.py:2: FutureWarning: A value is trying to be set on a copy of a DataFrame or Series through chained assignment using an inplace method.\n",
      "The behavior will change in pandas 3.0. This inplace method will never work because the intermediate object on which we are setting values always behaves as a copy.\n",
      "\n",
      "For example, when doing 'df[col].method(value, inplace=True)', try using 'df.method({col: value}, inplace=True)' or df[col] = df[col].method(value) instead, to perform the operation inplace on the original object.\n",
      "\n",
      "\n",
      "  data[\"Tenure\"].fillna(data[\"Tenure\"].median(), inplace=True)\n",
      "/tmp/ipykernel_13828/2482320639.py:3: FutureWarning: A value is trying to be set on a copy of a DataFrame or Series through chained assignment using an inplace method.\n",
      "The behavior will change in pandas 3.0. This inplace method will never work because the intermediate object on which we are setting values always behaves as a copy.\n",
      "\n",
      "For example, when doing 'df[col].method(value, inplace=True)', try using 'df.method({col: value}, inplace=True)' or df[col] = df[col].method(value) instead, to perform the operation inplace on the original object.\n",
      "\n",
      "\n",
      "  data[\"MonthlyCharge\"].fillna(data[\"MonthlyCharge\"].median(), inplace=True)\n",
      "/tmp/ipykernel_13828/2482320639.py:4: FutureWarning: A value is trying to be set on a copy of a DataFrame or Series through chained assignment using an inplace method.\n",
      "The behavior will change in pandas 3.0. This inplace method will never work because the intermediate object on which we are setting values always behaves as a copy.\n",
      "\n",
      "For example, when doing 'df[col].method(value, inplace=True)', try using 'df.method({col: value}, inplace=True)' or df[col] = df[col].method(value) instead, to perform the operation inplace on the original object.\n",
      "\n",
      "\n",
      "  data[\"Email\"].fillna(data[\"Email\"].median(), inplace=True)\n",
      "/tmp/ipykernel_13828/2482320639.py:5: FutureWarning: A value is trying to be set on a copy of a DataFrame or Series through chained assignment using an inplace method.\n",
      "The behavior will change in pandas 3.0. This inplace method will never work because the intermediate object on which we are setting values always behaves as a copy.\n",
      "\n",
      "For example, when doing 'df[col].method(value, inplace=True)', try using 'df.method({col: value}, inplace=True)' or df[col] = df[col].method(value) instead, to perform the operation inplace on the original object.\n",
      "\n",
      "\n",
      "  data[\"Contacts\"].fillna(data[\"Contacts\"].median(), inplace=True)\n",
      "/tmp/ipykernel_13828/2482320639.py:6: FutureWarning: A value is trying to be set on a copy of a DataFrame or Series through chained assignment using an inplace method.\n",
      "The behavior will change in pandas 3.0. This inplace method will never work because the intermediate object on which we are setting values always behaves as a copy.\n",
      "\n",
      "For example, when doing 'df[col].method(value, inplace=True)', try using 'df.method({col: value}, inplace=True)' or df[col] = df[col].method(value) instead, to perform the operation inplace on the original object.\n",
      "\n",
      "\n",
      "  data[\"Age\"].fillna(data[\"Age\"].median(), inplace=True)\n",
      "/tmp/ipykernel_13828/2482320639.py:7: FutureWarning: A value is trying to be set on a copy of a DataFrame or Series through chained assignment using an inplace method.\n",
      "The behavior will change in pandas 3.0. This inplace method will never work because the intermediate object on which we are setting values always behaves as a copy.\n",
      "\n",
      "For example, when doing 'df[col].method(value, inplace=True)', try using 'df.method({col: value}, inplace=True)' or df[col] = df[col].method(value) instead, to perform the operation inplace on the original object.\n",
      "\n",
      "\n",
      "  data[\"Bandwidth_GB_Year\"].fillna(data[\"Bandwidth_GB_Year\"].median(), inplace=True)\n"
     ]
    }
   ],
   "source": [
    "data['Income'].fillna(data['Income'].median(), inplace=True)\n",
    "data[\"Tenure\"].fillna(data[\"Tenure\"].median(), inplace=True)\n",
    "data[\"MonthlyCharge\"].fillna(data[\"MonthlyCharge\"].median(), inplace=True)\n",
    "data[\"Email\"].fillna(data[\"Email\"].median(), inplace=True)\n",
    "data[\"Contacts\"].fillna(data[\"Contacts\"].median(), inplace=True)\n",
    "data[\"Age\"].fillna(data[\"Age\"].median(), inplace=True)\n",
    "data[\"Bandwidth_GB_Year\"].fillna(data[\"Bandwidth_GB_Year\"].median(), inplace=True)\n",
    "data.dropna(how='any',inplace=True)"
   ]
  },
  {
   "cell_type": "markdown",
   "metadata": {},
   "source": [
    "Next, we will filter out any outliers in the numerical data. We will do so using z-scores, where any row with a z-score of greater than 3 or less than -3 will be filtered out"
   ]
  },
  {
   "cell_type": "code",
   "execution_count": 11,
   "metadata": {},
   "outputs": [],
   "source": [
    "zscores = stats.zscore(data['Income'])\n",
    "data['IncomeZScore'] = zscores\n",
    "zscores = stats.zscore(data['Tenure'])\n",
    "data['TenureZScore'] = zscores\n",
    "zscores = stats.zscore(data['MonthlyCharge'])\n",
    "data['MonthlyChargeZScore'] = zscores\n",
    "zscores = stats.zscore(data['Email'])\n",
    "data['EmailZScore'] = zscores\n",
    "zscores = stats.zscore(data['Contacts'])\n",
    "data['ContactsZScore'] = zscores\n",
    "zscores = stats.zscore(data['Age'])\n",
    "data['AgeZScore'] = zscores\n",
    "zscores = stats.zscore(data['Bandwidth_GB_Year'])\n",
    "data['Bandwidth_GB_YearZScore'] = zscores\n",
    "data = data.query(\"(IncomeZScore < 3 & IncomeZScore > -3) & (TenureZScore < 3 & TenureZScore > -3) & (MonthlyChargeZScore < 3 & MonthlyChargeZScore > -3) & (Bandwidth_GB_YearZScore < 3 & Bandwidth_GB_YearZScore > -3) & (EmailZScore < 3 & EmailZScore > -3) &  (AgeZScore < 3 & AgeZScore > -3) & (ContactsZScore < 3 & ContactsZScore > -3)\")\n",
    "data = data.drop(columns=['IncomeZScore', 'TenureZScore', 'MonthlyChargeZScore', 'EmailZScore', 'ContactsZScore', 'AgeZScore', 'Bandwidth_GB_YearZScore', 'Customer_id'])"
   ]
  },
  {
   "cell_type": "markdown",
   "metadata": {},
   "source": [
    "As the final step, we will perform the one-hot encoding, removing columns with high multicollinearity that would be produced"
   ]
  },
  {
   "cell_type": "code",
   "execution_count": 12,
   "metadata": {},
   "outputs": [],
   "source": [
    "data = pd.get_dummies(data, columns=['Gender', 'Area', 'Marital'], dtype=int)\n",
    "data[\"Churn\"] = data[\"Churn\"].apply(lambda x: 1 if x == \"Yes\" else 0)\n",
    "df_X = data.drop(['Churn'], axis=1).copy()\n",
    "df_y = data['Churn'].copy()\n",
    "df_X = pd.DataFrame(preprocessing.MinMaxScaler().fit_transform(df_X), columns=df_X.columns)"
   ]
  },
  {
   "cell_type": "markdown",
   "metadata": {},
   "source": [
    "##### 4. Copy of Data"
   ]
  },
  {
   "cell_type": "code",
   "execution_count": 13,
   "metadata": {},
   "outputs": [],
   "source": [
    "data.to_csv('./D209P2CleanedData.csv')"
   ]
  },
  {
   "cell_type": "markdown",
   "metadata": {},
   "source": [
    "#### D: Analysis\n",
    "##### 1. Data Splitting\n",
    "Below is the code to split the data into test and training sets, which are contained within attached csv files"
   ]
  },
  {
   "cell_type": "code",
   "execution_count": 14,
   "metadata": {},
   "outputs": [],
   "source": [
    "df_x = data.drop(['Churn'], axis=1).copy()\n",
    "df_y = data['Churn'].copy()\n",
    "X = df_x[[\"Tenure\", 'Contacts', \"Gender_Male\", \"Gender_Female\", 'Gender_Nonbinary', 'Email', 'MonthlyCharge', 'Bandwidth_GB_Year', 'Age']]\n",
    "y = df_y\n",
    "X_train, X_test, y_train, y_test = train_test_split(X, y, train_size = 0.8, test_size=0.2, random_state = 42, stratify = y)\n",
    "\n",
    "X_train.to_csv('task2_Xtrain.csv', index=False)\n",
    "X_test.to_csv('task2_Xtest.csv', index=False)\n",
    "y_train.to_csv('task2_ytrain.csv', index=False)\n",
    "y_test.to_csv('task2_ytest.csv', index=False)"
   ]
  },
  {
   "cell_type": "markdown",
   "metadata": {},
   "source": [
    "##### 2. Analysis Description\n"
   ]
  },
  {
   "cell_type": "code",
   "execution_count": 15,
   "metadata": {},
   "outputs": [
    {
     "name": "stdout",
     "output_type": "stream",
     "text": [
      "Test set accuracy of best decision tree: 0.83\n",
      "Test set AUC of best decision tree: 0.887\n"
     ]
    },
    {
     "name": "stderr",
     "output_type": "stream",
     "text": [
      "/usr/lib64/python3.12/site-packages/numpy/ma/core.py:2820: RuntimeWarning: invalid value encountered in cast\n",
      "  _data = np.array(data, dtype=dtype, copy=copy,\n"
     ]
    }
   ],
   "source": [
    "params_dt = {\n",
    "    'max_depth' : [1, 2, 3, 4, 5, 6, 7, 8, 9, 10],\n",
    "    'min_samples_leaf' : [0.04, 0.06, 0.08, 0.10, 0.12, 0.14, 0.16, 0.18, 0.20, 0.22]\n",
    "}\n",
    "dt = DecisionTreeClassifier(random_state=42)\n",
    "grid_dt = GridSearchCV(dt, param_grid = params_dt, cv = 5, n_jobs=-1)\n",
    "grid_dt.fit(X_train, y_train)\n",
    "best_model = grid_dt.best_estimator_\n",
    "initial_y = best_model.predict(X_test)\n",
    "acc = accuracy_score(y_test, initial_y)\n",
    "print('Test set accuracy of best decision tree: {:.2f}'.format(acc)) \n",
    "initial_y_pred = best_model.predict_proba(X_test)[:, 1]\n",
    "initial_roc_auc = roc_auc_score(y_test, initial_y_pred)\n",
    "print('Test set AUC of best decision tree: {:.3f}'.format(initial_roc_auc))"
   ]
  },
  {
   "cell_type": "code",
   "execution_count": 16,
   "metadata": {},
   "outputs": [
    {
     "name": "stderr",
     "output_type": "stream",
     "text": [
      "/home/edwinp/.local/lib/python3.12/site-packages/sklearn/ensemble/_weight_boosting.py:527: FutureWarning: The SAMME.R algorithm (the default) is deprecated and will be removed in 1.6. Use the SAMME algorithm to circumvent this warning.\n",
      "  warnings.warn(\n",
      "/home/edwinp/.local/lib/python3.12/site-packages/sklearn/ensemble/_weight_boosting.py:527: FutureWarning: The SAMME.R algorithm (the default) is deprecated and will be removed in 1.6. Use the SAMME algorithm to circumvent this warning.\n",
      "  warnings.warn(\n",
      "/home/edwinp/.local/lib/python3.12/site-packages/sklearn/ensemble/_weight_boosting.py:527: FutureWarning: The SAMME.R algorithm (the default) is deprecated and will be removed in 1.6. Use the SAMME algorithm to circumvent this warning.\n",
      "  warnings.warn(\n",
      "/home/edwinp/.local/lib/python3.12/site-packages/sklearn/ensemble/_weight_boosting.py:527: FutureWarning: The SAMME.R algorithm (the default) is deprecated and will be removed in 1.6. Use the SAMME algorithm to circumvent this warning.\n",
      "  warnings.warn(\n",
      "/home/edwinp/.local/lib/python3.12/site-packages/sklearn/ensemble/_weight_boosting.py:527: FutureWarning: The SAMME.R algorithm (the default) is deprecated and will be removed in 1.6. Use the SAMME algorithm to circumvent this warning.\n",
      "  warnings.warn(\n",
      "/home/edwinp/.local/lib/python3.12/site-packages/sklearn/ensemble/_weight_boosting.py:527: FutureWarning: The SAMME.R algorithm (the default) is deprecated and will be removed in 1.6. Use the SAMME algorithm to circumvent this warning.\n",
      "  warnings.warn(\n",
      "/home/edwinp/.local/lib/python3.12/site-packages/sklearn/ensemble/_weight_boosting.py:527: FutureWarning: The SAMME.R algorithm (the default) is deprecated and will be removed in 1.6. Use the SAMME algorithm to circumvent this warning.\n",
      "  warnings.warn(\n",
      "/home/edwinp/.local/lib/python3.12/site-packages/sklearn/ensemble/_weight_boosting.py:527: FutureWarning: The SAMME.R algorithm (the default) is deprecated and will be removed in 1.6. Use the SAMME algorithm to circumvent this warning.\n",
      "  warnings.warn(\n",
      "/home/edwinp/.local/lib/python3.12/site-packages/sklearn/ensemble/_weight_boosting.py:527: FutureWarning: The SAMME.R algorithm (the default) is deprecated and will be removed in 1.6. Use the SAMME algorithm to circumvent this warning.\n",
      "  warnings.warn(\n",
      "/home/edwinp/.local/lib/python3.12/site-packages/sklearn/ensemble/_weight_boosting.py:527: FutureWarning: The SAMME.R algorithm (the default) is deprecated and will be removed in 1.6. Use the SAMME algorithm to circumvent this warning.\n",
      "  warnings.warn(\n",
      "/home/edwinp/.local/lib/python3.12/site-packages/sklearn/ensemble/_weight_boosting.py:527: FutureWarning: The SAMME.R algorithm (the default) is deprecated and will be removed in 1.6. Use the SAMME algorithm to circumvent this warning.\n",
      "  warnings.warn(\n",
      "/home/edwinp/.local/lib/python3.12/site-packages/sklearn/ensemble/_weight_boosting.py:527: FutureWarning: The SAMME.R algorithm (the default) is deprecated and will be removed in 1.6. Use the SAMME algorithm to circumvent this warning.\n",
      "  warnings.warn(\n",
      "/home/edwinp/.local/lib/python3.12/site-packages/sklearn/ensemble/_weight_boosting.py:527: FutureWarning: The SAMME.R algorithm (the default) is deprecated and will be removed in 1.6. Use the SAMME algorithm to circumvent this warning.\n",
      "  warnings.warn(\n",
      "/home/edwinp/.local/lib/python3.12/site-packages/sklearn/ensemble/_weight_boosting.py:527: FutureWarning: The SAMME.R algorithm (the default) is deprecated and will be removed in 1.6. Use the SAMME algorithm to circumvent this warning.\n",
      "  warnings.warn(\n",
      "/home/edwinp/.local/lib/python3.12/site-packages/sklearn/ensemble/_weight_boosting.py:527: FutureWarning: The SAMME.R algorithm (the default) is deprecated and will be removed in 1.6. Use the SAMME algorithm to circumvent this warning.\n",
      "  warnings.warn(\n",
      "/home/edwinp/.local/lib/python3.12/site-packages/sklearn/ensemble/_weight_boosting.py:527: FutureWarning: The SAMME.R algorithm (the default) is deprecated and will be removed in 1.6. Use the SAMME algorithm to circumvent this warning.\n",
      "  warnings.warn(\n",
      "/home/edwinp/.local/lib/python3.12/site-packages/sklearn/ensemble/_weight_boosting.py:527: FutureWarning: The SAMME.R algorithm (the default) is deprecated and will be removed in 1.6. Use the SAMME algorithm to circumvent this warning.\n",
      "  warnings.warn(\n",
      "/home/edwinp/.local/lib/python3.12/site-packages/sklearn/ensemble/_weight_boosting.py:527: FutureWarning: The SAMME.R algorithm (the default) is deprecated and will be removed in 1.6. Use the SAMME algorithm to circumvent this warning.\n",
      "  warnings.warn(\n",
      "/home/edwinp/.local/lib/python3.12/site-packages/sklearn/ensemble/_weight_boosting.py:527: FutureWarning: The SAMME.R algorithm (the default) is deprecated and will be removed in 1.6. Use the SAMME algorithm to circumvent this warning.\n",
      "  warnings.warn(\n",
      "/home/edwinp/.local/lib/python3.12/site-packages/sklearn/ensemble/_weight_boosting.py:527: FutureWarning: The SAMME.R algorithm (the default) is deprecated and will be removed in 1.6. Use the SAMME algorithm to circumvent this warning.\n",
      "  warnings.warn(\n",
      "/home/edwinp/.local/lib/python3.12/site-packages/sklearn/ensemble/_weight_boosting.py:527: FutureWarning: The SAMME.R algorithm (the default) is deprecated and will be removed in 1.6. Use the SAMME algorithm to circumvent this warning.\n",
      "  warnings.warn(\n",
      "/home/edwinp/.local/lib/python3.12/site-packages/sklearn/ensemble/_weight_boosting.py:527: FutureWarning: The SAMME.R algorithm (the default) is deprecated and will be removed in 1.6. Use the SAMME algorithm to circumvent this warning.\n",
      "  warnings.warn(\n",
      "/home/edwinp/.local/lib/python3.12/site-packages/sklearn/ensemble/_weight_boosting.py:527: FutureWarning: The SAMME.R algorithm (the default) is deprecated and will be removed in 1.6. Use the SAMME algorithm to circumvent this warning.\n",
      "  warnings.warn(\n",
      "/home/edwinp/.local/lib/python3.12/site-packages/sklearn/ensemble/_weight_boosting.py:527: FutureWarning: The SAMME.R algorithm (the default) is deprecated and will be removed in 1.6. Use the SAMME algorithm to circumvent this warning.\n",
      "  warnings.warn(\n",
      "/home/edwinp/.local/lib/python3.12/site-packages/sklearn/ensemble/_weight_boosting.py:527: FutureWarning: The SAMME.R algorithm (the default) is deprecated and will be removed in 1.6. Use the SAMME algorithm to circumvent this warning.\n",
      "  warnings.warn(\n",
      "/home/edwinp/.local/lib/python3.12/site-packages/sklearn/ensemble/_weight_boosting.py:527: FutureWarning: The SAMME.R algorithm (the default) is deprecated and will be removed in 1.6. Use the SAMME algorithm to circumvent this warning.\n",
      "  warnings.warn(\n",
      "/home/edwinp/.local/lib/python3.12/site-packages/sklearn/ensemble/_weight_boosting.py:527: FutureWarning: The SAMME.R algorithm (the default) is deprecated and will be removed in 1.6. Use the SAMME algorithm to circumvent this warning.\n",
      "  warnings.warn(\n",
      "/home/edwinp/.local/lib/python3.12/site-packages/sklearn/ensemble/_weight_boosting.py:527: FutureWarning: The SAMME.R algorithm (the default) is deprecated and will be removed in 1.6. Use the SAMME algorithm to circumvent this warning.\n",
      "  warnings.warn(\n",
      "/home/edwinp/.local/lib/python3.12/site-packages/sklearn/ensemble/_weight_boosting.py:527: FutureWarning: The SAMME.R algorithm (the default) is deprecated and will be removed in 1.6. Use the SAMME algorithm to circumvent this warning.\n",
      "  warnings.warn(\n",
      "/home/edwinp/.local/lib/python3.12/site-packages/sklearn/ensemble/_weight_boosting.py:527: FutureWarning: The SAMME.R algorithm (the default) is deprecated and will be removed in 1.6. Use the SAMME algorithm to circumvent this warning.\n",
      "  warnings.warn(\n",
      "/home/edwinp/.local/lib/python3.12/site-packages/sklearn/ensemble/_weight_boosting.py:527: FutureWarning: The SAMME.R algorithm (the default) is deprecated and will be removed in 1.6. Use the SAMME algorithm to circumvent this warning.\n",
      "  warnings.warn(\n",
      "/home/edwinp/.local/lib/python3.12/site-packages/sklearn/ensemble/_weight_boosting.py:527: FutureWarning: The SAMME.R algorithm (the default) is deprecated and will be removed in 1.6. Use the SAMME algorithm to circumvent this warning.\n",
      "  warnings.warn(\n",
      "/home/edwinp/.local/lib/python3.12/site-packages/sklearn/ensemble/_weight_boosting.py:527: FutureWarning: The SAMME.R algorithm (the default) is deprecated and will be removed in 1.6. Use the SAMME algorithm to circumvent this warning.\n",
      "  warnings.warn(\n",
      "/home/edwinp/.local/lib/python3.12/site-packages/sklearn/ensemble/_weight_boosting.py:527: FutureWarning: The SAMME.R algorithm (the default) is deprecated and will be removed in 1.6. Use the SAMME algorithm to circumvent this warning.\n",
      "  warnings.warn(\n",
      "/home/edwinp/.local/lib/python3.12/site-packages/sklearn/ensemble/_weight_boosting.py:527: FutureWarning: The SAMME.R algorithm (the default) is deprecated and will be removed in 1.6. Use the SAMME algorithm to circumvent this warning.\n",
      "  warnings.warn(\n",
      "/home/edwinp/.local/lib/python3.12/site-packages/sklearn/ensemble/_weight_boosting.py:527: FutureWarning: The SAMME.R algorithm (the default) is deprecated and will be removed in 1.6. Use the SAMME algorithm to circumvent this warning.\n",
      "  warnings.warn(\n",
      "/home/edwinp/.local/lib/python3.12/site-packages/sklearn/ensemble/_weight_boosting.py:527: FutureWarning: The SAMME.R algorithm (the default) is deprecated and will be removed in 1.6. Use the SAMME algorithm to circumvent this warning.\n",
      "  warnings.warn(\n",
      "/home/edwinp/.local/lib/python3.12/site-packages/sklearn/ensemble/_weight_boosting.py:527: FutureWarning: The SAMME.R algorithm (the default) is deprecated and will be removed in 1.6. Use the SAMME algorithm to circumvent this warning.\n",
      "  warnings.warn(\n",
      "/home/edwinp/.local/lib/python3.12/site-packages/sklearn/ensemble/_weight_boosting.py:527: FutureWarning: The SAMME.R algorithm (the default) is deprecated and will be removed in 1.6. Use the SAMME algorithm to circumvent this warning.\n",
      "  warnings.warn(\n",
      "/home/edwinp/.local/lib/python3.12/site-packages/sklearn/ensemble/_weight_boosting.py:527: FutureWarning: The SAMME.R algorithm (the default) is deprecated and will be removed in 1.6. Use the SAMME algorithm to circumvent this warning.\n",
      "  warnings.warn(\n",
      "/home/edwinp/.local/lib/python3.12/site-packages/sklearn/ensemble/_weight_boosting.py:527: FutureWarning: The SAMME.R algorithm (the default) is deprecated and will be removed in 1.6. Use the SAMME algorithm to circumvent this warning.\n",
      "  warnings.warn(\n",
      "/home/edwinp/.local/lib/python3.12/site-packages/sklearn/ensemble/_weight_boosting.py:527: FutureWarning: The SAMME.R algorithm (the default) is deprecated and will be removed in 1.6. Use the SAMME algorithm to circumvent this warning.\n",
      "  warnings.warn(\n",
      "/home/edwinp/.local/lib/python3.12/site-packages/sklearn/ensemble/_weight_boosting.py:527: FutureWarning: The SAMME.R algorithm (the default) is deprecated and will be removed in 1.6. Use the SAMME algorithm to circumvent this warning.\n",
      "  warnings.warn(\n",
      "/home/edwinp/.local/lib/python3.12/site-packages/sklearn/ensemble/_weight_boosting.py:527: FutureWarning: The SAMME.R algorithm (the default) is deprecated and will be removed in 1.6. Use the SAMME algorithm to circumvent this warning.\n",
      "  warnings.warn(\n",
      "/home/edwinp/.local/lib/python3.12/site-packages/sklearn/ensemble/_weight_boosting.py:527: FutureWarning: The SAMME.R algorithm (the default) is deprecated and will be removed in 1.6. Use the SAMME algorithm to circumvent this warning.\n",
      "  warnings.warn(\n",
      "/home/edwinp/.local/lib/python3.12/site-packages/sklearn/ensemble/_weight_boosting.py:527: FutureWarning: The SAMME.R algorithm (the default) is deprecated and will be removed in 1.6. Use the SAMME algorithm to circumvent this warning.\n",
      "  warnings.warn(\n",
      "/home/edwinp/.local/lib/python3.12/site-packages/sklearn/ensemble/_weight_boosting.py:527: FutureWarning: The SAMME.R algorithm (the default) is deprecated and will be removed in 1.6. Use the SAMME algorithm to circumvent this warning.\n",
      "  warnings.warn(\n",
      "/home/edwinp/.local/lib/python3.12/site-packages/sklearn/ensemble/_weight_boosting.py:527: FutureWarning: The SAMME.R algorithm (the default) is deprecated and will be removed in 1.6. Use the SAMME algorithm to circumvent this warning.\n",
      "  warnings.warn(\n",
      "/home/edwinp/.local/lib/python3.12/site-packages/sklearn/ensemble/_weight_boosting.py:527: FutureWarning: The SAMME.R algorithm (the default) is deprecated and will be removed in 1.6. Use the SAMME algorithm to circumvent this warning.\n",
      "  warnings.warn(\n",
      "/home/edwinp/.local/lib/python3.12/site-packages/sklearn/ensemble/_weight_boosting.py:527: FutureWarning: The SAMME.R algorithm (the default) is deprecated and will be removed in 1.6. Use the SAMME algorithm to circumvent this warning.\n",
      "  warnings.warn(\n",
      "/home/edwinp/.local/lib/python3.12/site-packages/sklearn/ensemble/_weight_boosting.py:527: FutureWarning: The SAMME.R algorithm (the default) is deprecated and will be removed in 1.6. Use the SAMME algorithm to circumvent this warning.\n",
      "  warnings.warn(\n",
      "/home/edwinp/.local/lib/python3.12/site-packages/sklearn/ensemble/_weight_boosting.py:527: FutureWarning: The SAMME.R algorithm (the default) is deprecated and will be removed in 1.6. Use the SAMME algorithm to circumvent this warning.\n",
      "  warnings.warn(\n",
      "/home/edwinp/.local/lib/python3.12/site-packages/sklearn/ensemble/_weight_boosting.py:527: FutureWarning: The SAMME.R algorithm (the default) is deprecated and will be removed in 1.6. Use the SAMME algorithm to circumvent this warning.\n",
      "  warnings.warn(\n",
      "/home/edwinp/.local/lib/python3.12/site-packages/sklearn/ensemble/_weight_boosting.py:527: FutureWarning: The SAMME.R algorithm (the default) is deprecated and will be removed in 1.6. Use the SAMME algorithm to circumvent this warning.\n",
      "  warnings.warn(\n",
      "/home/edwinp/.local/lib/python3.12/site-packages/sklearn/ensemble/_weight_boosting.py:527: FutureWarning: The SAMME.R algorithm (the default) is deprecated and will be removed in 1.6. Use the SAMME algorithm to circumvent this warning.\n",
      "  warnings.warn(\n",
      "/home/edwinp/.local/lib/python3.12/site-packages/sklearn/ensemble/_weight_boosting.py:527: FutureWarning: The SAMME.R algorithm (the default) is deprecated and will be removed in 1.6. Use the SAMME algorithm to circumvent this warning.\n",
      "  warnings.warn(\n",
      "/home/edwinp/.local/lib/python3.12/site-packages/sklearn/ensemble/_weight_boosting.py:527: FutureWarning: The SAMME.R algorithm (the default) is deprecated and will be removed in 1.6. Use the SAMME algorithm to circumvent this warning.\n",
      "  warnings.warn(\n",
      "/home/edwinp/.local/lib/python3.12/site-packages/sklearn/ensemble/_weight_boosting.py:527: FutureWarning: The SAMME.R algorithm (the default) is deprecated and will be removed in 1.6. Use the SAMME algorithm to circumvent this warning.\n",
      "  warnings.warn(\n",
      "/home/edwinp/.local/lib/python3.12/site-packages/sklearn/ensemble/_weight_boosting.py:527: FutureWarning: The SAMME.R algorithm (the default) is deprecated and will be removed in 1.6. Use the SAMME algorithm to circumvent this warning.\n",
      "  warnings.warn(\n",
      "/home/edwinp/.local/lib/python3.12/site-packages/sklearn/ensemble/_weight_boosting.py:527: FutureWarning: The SAMME.R algorithm (the default) is deprecated and will be removed in 1.6. Use the SAMME algorithm to circumvent this warning.\n",
      "  warnings.warn(\n",
      "/home/edwinp/.local/lib/python3.12/site-packages/sklearn/ensemble/_weight_boosting.py:527: FutureWarning: The SAMME.R algorithm (the default) is deprecated and will be removed in 1.6. Use the SAMME algorithm to circumvent this warning.\n",
      "  warnings.warn(\n",
      "/home/edwinp/.local/lib/python3.12/site-packages/sklearn/ensemble/_weight_boosting.py:527: FutureWarning: The SAMME.R algorithm (the default) is deprecated and will be removed in 1.6. Use the SAMME algorithm to circumvent this warning.\n",
      "  warnings.warn(\n",
      "/home/edwinp/.local/lib/python3.12/site-packages/sklearn/ensemble/_weight_boosting.py:527: FutureWarning: The SAMME.R algorithm (the default) is deprecated and will be removed in 1.6. Use the SAMME algorithm to circumvent this warning.\n",
      "  warnings.warn(\n",
      "/home/edwinp/.local/lib/python3.12/site-packages/sklearn/ensemble/_weight_boosting.py:527: FutureWarning: The SAMME.R algorithm (the default) is deprecated and will be removed in 1.6. Use the SAMME algorithm to circumvent this warning.\n",
      "  warnings.warn(\n",
      "/home/edwinp/.local/lib/python3.12/site-packages/sklearn/ensemble/_weight_boosting.py:527: FutureWarning: The SAMME.R algorithm (the default) is deprecated and will be removed in 1.6. Use the SAMME algorithm to circumvent this warning.\n",
      "  warnings.warn(\n",
      "/home/edwinp/.local/lib/python3.12/site-packages/sklearn/ensemble/_weight_boosting.py:527: FutureWarning: The SAMME.R algorithm (the default) is deprecated and will be removed in 1.6. Use the SAMME algorithm to circumvent this warning.\n",
      "  warnings.warn(\n",
      "/home/edwinp/.local/lib/python3.12/site-packages/sklearn/ensemble/_weight_boosting.py:527: FutureWarning: The SAMME.R algorithm (the default) is deprecated and will be removed in 1.6. Use the SAMME algorithm to circumvent this warning.\n",
      "  warnings.warn(\n",
      "/home/edwinp/.local/lib/python3.12/site-packages/sklearn/ensemble/_weight_boosting.py:527: FutureWarning: The SAMME.R algorithm (the default) is deprecated and will be removed in 1.6. Use the SAMME algorithm to circumvent this warning.\n",
      "  warnings.warn(\n",
      "/home/edwinp/.local/lib/python3.12/site-packages/sklearn/ensemble/_weight_boosting.py:527: FutureWarning: The SAMME.R algorithm (the default) is deprecated and will be removed in 1.6. Use the SAMME algorithm to circumvent this warning.\n",
      "  warnings.warn(\n",
      "/home/edwinp/.local/lib/python3.12/site-packages/sklearn/ensemble/_weight_boosting.py:527: FutureWarning: The SAMME.R algorithm (the default) is deprecated and will be removed in 1.6. Use the SAMME algorithm to circumvent this warning.\n",
      "  warnings.warn(\n",
      "/home/edwinp/.local/lib/python3.12/site-packages/sklearn/ensemble/_weight_boosting.py:527: FutureWarning: The SAMME.R algorithm (the default) is deprecated and will be removed in 1.6. Use the SAMME algorithm to circumvent this warning.\n",
      "  warnings.warn(\n",
      "/home/edwinp/.local/lib/python3.12/site-packages/sklearn/ensemble/_weight_boosting.py:527: FutureWarning: The SAMME.R algorithm (the default) is deprecated and will be removed in 1.6. Use the SAMME algorithm to circumvent this warning.\n",
      "  warnings.warn(\n",
      "/home/edwinp/.local/lib/python3.12/site-packages/sklearn/ensemble/_weight_boosting.py:527: FutureWarning: The SAMME.R algorithm (the default) is deprecated and will be removed in 1.6. Use the SAMME algorithm to circumvent this warning.\n",
      "  warnings.warn(\n",
      "/home/edwinp/.local/lib/python3.12/site-packages/sklearn/ensemble/_weight_boosting.py:527: FutureWarning: The SAMME.R algorithm (the default) is deprecated and will be removed in 1.6. Use the SAMME algorithm to circumvent this warning.\n",
      "  warnings.warn(\n",
      "/home/edwinp/.local/lib/python3.12/site-packages/sklearn/ensemble/_weight_boosting.py:527: FutureWarning: The SAMME.R algorithm (the default) is deprecated and will be removed in 1.6. Use the SAMME algorithm to circumvent this warning.\n",
      "  warnings.warn(\n",
      "/home/edwinp/.local/lib/python3.12/site-packages/sklearn/ensemble/_weight_boosting.py:527: FutureWarning: The SAMME.R algorithm (the default) is deprecated and will be removed in 1.6. Use the SAMME algorithm to circumvent this warning.\n",
      "  warnings.warn(\n"
     ]
    },
    {
     "name": "stdout",
     "output_type": "stream",
     "text": [
      "{'learning_rate': 0.9, 'n_estimators': 160}\n"
     ]
    },
    {
     "name": "stderr",
     "output_type": "stream",
     "text": [
      "/home/edwinp/.local/lib/python3.12/site-packages/sklearn/ensemble/_weight_boosting.py:527: FutureWarning: The SAMME.R algorithm (the default) is deprecated and will be removed in 1.6. Use the SAMME algorithm to circumvent this warning.\n",
      "  warnings.warn(\n"
     ]
    },
    {
     "name": "stdout",
     "output_type": "stream",
     "text": [
      "Test set accuracy of final decision tree model: 0.81\n",
      "\n",
      "The confusion matrix for this AdaBoosted Decision Tree model:\n",
      "Predicted No Churn | Predicted Churn\n",
      "                   [1262  163] Actual No Churn\n",
      "                   [207 304] Actual Churn\n",
      "\n",
      "The mean squared error of this model is: 0.19111570247933884\n",
      "The root mean squared error of this model is: 0.44\n",
      "\n",
      "\n",
      "              precision    recall  f1-score   support\n",
      "\n",
      "           0       0.86      0.89      0.87      1425\n",
      "           1       0.65      0.59      0.62       511\n",
      "\n",
      "    accuracy                           0.81      1936\n",
      "   macro avg       0.76      0.74      0.75      1936\n",
      "weighted avg       0.80      0.81      0.81      1936\n",
      "\n",
      "\n",
      "The Area Under the Curve (AUC) score of the final decision tree model is: 0.88\n"
     ]
    }
   ],
   "source": [
    "params_ada = {\n",
    "    'n_estimators' : [160, 180, 200],\n",
    "    'learning_rate' : [0.9, 1.0, 1.1, 1.2, 1.3]\n",
    "}\n",
    "\n",
    "# Instantiate tuned decision tree\n",
    "final_dt = DecisionTreeClassifier(max_depth=8, min_samples_leaf=0.06, random_state=42)\n",
    "\n",
    "# Instantiate initial adaboost\n",
    "initial_ada = AdaBoostClassifier(estimator=final_dt, random_state=42)\n",
    "\n",
    "# Instantiate grid_ab\n",
    "grid_ada = GridSearchCV(estimator=initial_ada,\n",
    "                       param_grid=params_ada,\n",
    "                       scoring='roc_auc',\n",
    "                       cv=5,\n",
    "                       n_jobs=-1)\n",
    "\n",
    "# Fit grid search to training model\n",
    "grid_ada.fit(X_train, y_train)\n",
    "\n",
    "# Display the most effective parameters\n",
    "print(grid_ada.best_params_)\n",
    "# FINAL TUNED MODEL\n",
    "# Instantiate dt\n",
    "final_dt = DecisionTreeClassifier(max_depth=8, min_samples_leaf=0.06, random_state=42)\n",
    "\n",
    "# Instantiate ada\n",
    "final_ada = AdaBoostClassifier(estimator=final_dt, n_estimators=200, learning_rate = 1.2, random_state=42)\n",
    "\n",
    "# Fit ada to the training set\n",
    "final_ada.fit(X_train, y_train)\n",
    "\n",
    "# Predict test set labels\n",
    "final_y_pred = final_ada.predict(X_test)\n",
    "\n",
    "# Evaluate acc_test\n",
    "final_acc_test = accuracy_score(y_test, final_y_pred)\n",
    "print('Test set accuracy of final decision tree model: {:.2f}'.format(final_acc_test)) \n",
    "\n",
    "# Compute the probabilities of obtaining the positive class\n",
    "final_y_pred_proba = final_ada.predict_proba(X_test)[:,1]\n",
    "\n",
    "# Evaluate test-set roc_auc_score\n",
    "final_roc_auc = roc_auc_score(y_test, final_y_pred_proba)\n",
    "\n",
    "# Generate Confusion Matrix\n",
    "final_matrix = confusion_matrix(y_test, final_y_pred)\n",
    "print(\"\\nThe confusion matrix for this AdaBoosted Decision Tree model:\")\n",
    "print(\"Predicted No Churn | Predicted Churn\")\n",
    "print(f\"                   {final_matrix[0]} Actual No Churn\")\n",
    "print(f\"                   {final_matrix[1]} Actual Churn\\n\")\n",
    "\n",
    "# Generate mean_squared_error and root mean squared error\n",
    "mse = mean_squared_error(y_test, final_y_pred)\n",
    "root_mse = mse**(1/2)\n",
    "print(f\"The mean squared error of this model is: {mse}\")\n",
    "print(f\"The root mean squared error of this model is: {round(root_mse, 2)}\\n\\n\")\n",
    "\n",
    "# Generate classification report\n",
    "print(classification_report(y_test, final_y_pred))\n",
    "\n",
    "print('\\nThe Area Under the Curve (AUC) score of the final decision tree model is: {:.2f}'.format(final_roc_auc))\n"
   ]
  },
  {
   "cell_type": "markdown",
   "metadata": {},
   "source": [
    "<a id= \"E\"></a>\n",
    "\n",
    "#### E: Data Summary and Implications\n",
    "##### 1. Accuracy and Mean Squared Error (MSE)\n",
    "The model overall has an accuracy rate of 81% and an AUC score of 0.88, which is a significant improvement over the scores that would be expected from random guessing, which would be expected to have an accuracy of 50%.\n",
    "The mean squared error (MSE) is 0.191. The closer that the MSE score is to 0, the more accurate the model is at predicting the data. While MSE is not an ideal choice to evaluate a binary classification, as MSE assumes a normal distribution, even so, the low value of the MSE shows that there is a sizeable degree of reliability with this model\n",
    "##### 2. Results and Implications\n",
    "As I had explained, the model overall shows a reasonably high accuracy and AUC score. Below is a chart that visualizes the effectiveness of this model as opposed to the ROC curve, which is the expected effectiveness of random guessing\n"
   ]
  },
  {
   "cell_type": "code",
   "execution_count": 17,
   "metadata": {},
   "outputs": [
    {
     "data": {
      "image/png": "[encoded data removed]",
      "text/plain": [
       "<Figure size 640x480 with 1 Axes>"
      ]
     },
     "metadata": {},
     "output_type": "display_data"
    }
   ],
   "source": [
    "fpr, tpr, thresholds = roc_curve(y_test, final_y_pred_proba)\n",
    "plt.plot([0, 1], [0, 1], 'k--')\n",
    "plt.plot(fpr, tpr)\n",
    "plt.xlabel('False Positive Rate')\n",
    "plt.ylabel('True Positive Rate')\n",
    "plt.title('ROC Curve for AdaBoosted Classification Model')\n",
    "plt.show()"
   ]
  },
  {
   "cell_type": "markdown",
   "metadata": {},
   "source": [
    "Though this model is clearly not perfect in identification, it correctly classifies the data in a majority of instances and should be considered generally reliable\n",
    "##### 3. Limitations\n",
    "When it comes to the limitations of the model, the primary concern is the limited size of the dataset, only including 10000 rows. When you consider the necessity to split the data between test and training data, the limited size of the dataset is a concern, as it is unclear whether the data can be generalized for future classification. Ideally, I would have preferred a dataset with at least 50000 rows, to reduce this as a possibility and grow both the training and testing datasets\n",
    "##### 4. Recommended Course of Action\n",
    "With the fairly high accuracy of this model, I would recommend that the model be employed to identify those customers that are likely to leave the company. This would both allow the business to take action to retain customers and allow the business to forecast how many customers may leave, allowing for the business to prepare to acquire new customers when necessary\n",
    "<a id=\"F\"></a>\n",
    "\n",
    "#### F: Panopto Video\n",
    "A video recording of my presentation can be found at the following link: https://wgu.hosted.panopto.com/Panopto/Pages/Viewer.aspx?id=ba31bad7-a997-431c-8892-b1d900283e7d\n",
    "#### G: Code References\n",
    "<a href=\"https://campus.datacamp.com/courses/machine-learning-with-tree-based-models-in-python/classification-and-regression-trees?ex=1\">DataCamp class material by Elie Kawerk</a> was used to create the Decision Tree model\n",
    "\n",
    "<a href= \"https://campus.datacamp.com/courses/machine-learning-with-scikit-learn/fine-tuning-your-model?ex=8\">DataCamp class material by George Boorman (AUC Computation)</a> was used for the code explaining how to compute the AUC score\n",
    "\n",
    "<a href=\"https://campus.datacamp.com/courses/machine-learning-with-scikit-learn/fine-tuning-your-model?ex=5\"> DataCamp class material by George Boorman (Plotting an ROC Curve)</a> was used for the code to plot the ROC curve, to visualize the AUC score\n",
    "\n",
    "#### H: Source References\n",
    "<a href=\"https://towardsdatascience.com/why-using-mean-squared-error-mse-cost-function-for-binary-classification-is-a-bad-idea-933089e90df7\"> Rafay Khan: Why Using Mean Squared Error(MSE) Cost Function for Binary Classification is a Bad Idea? </a> was used to analyze the efficacy of MSE for binary classification models"
   ]
  }
 ],
 "metadata": {
  "kernelspec": {
   "display_name": "Python 3",
   "language": "python",
   "name": "python3"
  },
  "language_info": {
   "codemirror_mode": {
    "name": "ipython",
    "version": 3
   },
   "file_extension": ".py",
   "mimetype": "text/x-python",
   "name": "python",
   "nbconvert_exporter": "python",
   "pygments_lexer": "ipython3",
   "version": "3.12.7"
  }
 },
 "nbformat": 4,
 "nbformat_minor": 2
}
