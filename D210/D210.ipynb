{
 "cells": [
  {
   "cell_type": "markdown",
   "metadata": {},
   "source": [
    "## D210 Representation and Reporting PA\n",
    "##### Submitted By Edwin Perry\n",
    "### Table of Contents\n",
    "<ol>\n",
    "    <li><a href=\"#A\">Interactive Dashboard</a></li>\n",
    "    <li><a href=\"#B\">Storytelling with Data</a></li>\n",
    "    <li><a href=\"#C\">Reflection Paper</a></li>\n",
    "    <li><a href=\"#D\">Sources</a></li>\n",
    "</ol>"
   ]
  },
  {
   "cell_type": "markdown",
   "metadata": {},
   "source": [
    "<h4 id=\"A\">A: Interactive Data Dashboard</h4>\n",
    "The dashboard is <a href=\"https://public.tableau.com/views/D210File/Story1?:language=en-US&:sid=&:redirect=auth&:display_count=n&:origin=viz_share_link\">available on Tableau Public</a>. This is the easiest way for users to interact with the dashboard, as it avoids the necessity of downloading any additional software. However, there is a file version of this available, which will be attached to this submission. In order to interact with this file you would need to <a href=\"https://www.tableau.com/products/public/download\"> go to the attached link</a> and enter first name, last name, email, and region before downloading the app. The install wizard will guide the user through the necessary steps to install, then the attached file simply would need to be opened in the application. Once the application is installed, then one merely needs to select File in the top left, then open, then navigate to the file attached to this submission and double click on that file.\n",
    "\n",
    "The dashboard makes use of 2 different datasets from different sources:\n",
    "\n",
    "<ol>\n",
    "\n",
    "<li>WGU provided telecommunications dataset</li>\n",
    "\n",
    "<li><a href=\"https://www.kaggle.com/datasets/shilongzhuang/telecom-customer-churn-by-maven-analytics?select=telecom_customer_churn.csv\">Kaggle provided Telecom Customer Churn Prediction dataset</a></li>\n",
    "\n",
    "</ol>"
   ]
  },
  {
   "cell_type": "markdown",
   "metadata": {},
   "source": [
    "Navigating the dashboard is fairly straightforward. All of the data is displayed within one story, with each portion labelled in accordance with the data it is meant to display. The dashboard opens on a simple title screen, and from there one can see a number of named pages with the corresponding visualizations and filters. "
   ]
  },
  {
   "cell_type": "markdown",
   "metadata": {},
   "source": [
    "<h4 id=\"#B\"> B: Presentation of Data</h4>\n",
    "The <a href=\"https://wgu.hosted.panopto.com/Panopto/Pages/Viewer.aspx?id=45f1efef-3f3a-4afc-b671-b1db003aab34\">recording of the presentation can be found here</a>\n",
    "\n",
    "<h4 id=\"#C\">C: Reflection</h4>\n",
    "\n",
    "##### C.1 Purpose and Function\n",
    "This dashboard is designed in alignment with the goals in the data dictionary provided with the dataset. As many of the users are not necessarily technically oriented, it is essential that the dashboards are simple and easy to navigate, so a simple UI without complex controls or functionality was used. The Senior Vice President for Customer Experience was one user to design this dashboard for, and the dictionary stated that he was interested in key characteristics associated with customer engagement in products and services. Similarly, the Executive Vice President of Sales was concerned with how demographics interact with products and promotions. As such, data visualizations were included as to what services are most used, as well as age ranges, genders, and marital status are associated with increases in services used, satisfying both of these users. Finally, the Panel of Region Vice Presidents required knowledge of products and offerings that were used by different regions, so a map was provided to describe what regions were the most likely to use additional services.\n",
    "\n",
    "##### C.2 Variables in the additional dataset\n",
    "There are a number of variables in the additional dataset that provide deeper insight into the analysis. Overall, the main thing lacking in the WGU dataset was industry context. As such, the external dataset allowed me to establish comparisons with competitors in the same industry. The streaming movies, streaming TV, online security, online backup, and premium tech support variables are all similar to offerings in the WGU dataset, and as such, we can compare the usage of these features to the ones in the WGU dataset to compare the telecommunications data for the company against external offerings. Furthermore, the additional data allows us to evaluate the performance within the region of California, as that is the only included location in the Kaggle dataset.\n",
    "\n",
    "##### C.3 Data Representations\n",
    "One included data representation was a set of bar charts, one from WGU and one from Kaggle, that breaks down the number of services used by each gender, with a filter to select marital status. This allows us to determine what genders might be more or less inclined to purchase additional services. This would help in serving the business interests of the company by helping to target advertisements and promotions to those groups most likely to utilize these services. Furthermore, the comparison against the public data can be used to identify if there is a disparity between our company and competitors, indicating that there may be an untapped/underserved market that ought to be marketed towards.\n",
    "\n",
    "Another data representation is a set of tables breaking down the percentage of customers using a service, separated by whether the customer has churned or not. This table is an easy-to-read method of determining the proportion of customers associated with a service. This helps to identify whether any service or offering is associated with staying with remaining a customer. If particular services are increasing customer likelihood of staying with the company, this would indicate that more focus should be put into pushing these services. Similarly, if any offering is highly correlated with customer churn, that service ought to be evaluated for flaws. This data is especially valuable as customer acquisition costs 10 times as much money as retaining a customer.\n",
    "\n",
    "##### C.4 Interactive Controls\n",
    "The primary interactive controls in Tableau are filters. One such filter included is the age filter in the # Services by Age page. This allows the user to filter down the age range to investigate particular ages for the number of services used. This is useful in identifying outliers to look deeper into, as both the public and WGU data contain ages where there are remarkably serious raises and declines in use of services, so looking over narrower ranges to investigate the data on a more granular level is very useful.\n",
    "\n",
    "Another filter of interest is the Married filter on the # Services by Gender page. This allows us to filter the data down on the marital status of the customer to identify to what extent marital status influences service purchases. This allows the users to investigate another dimenstion of data not directly included in the visual, keeping the dashboard simple and uncluttered without compromising on depth of investigation. Using this filter, users can see that the public data shows an increase in the use of services for married individuals of any gender, but no similar increase in the WGU data. This can drive further decision making and analysis, indicating that there may not be sufficient promotion to married individuals, or that the promotions are not adequately priced for married individuals. The insight offered by this filter allows for further investigation going forward.\n",
    "\n",
    "##### C.5 Colorblindness\n",
    "This dashboard was designed to be accessible to those with colorblindness. This was done using a few methods. Most of the time that color is used, it is highly distinct from the others, ensuring that even those who have colorblindness can identify the different categories. Even if the colors were too similar for those with colorblindness, every chart has filters and labels that stand out and ensure accessibility for all users. For example, if users were unable to distinguish the lines in the # Services by Age line chart, the user can filter down to a particular line using the included gender filter. Similarly, the Specific Services by Age page has the numbers printed in text even when the data is not readily identified merely by the color of the cells. The inclusion of filters, textual values, labels, and distinct colors all enable users with colorblindness full use of the dashboard's capabilities.\n",
    "\n",
    "##### C.6 Telling a Story\n",
    "The data in the dashboard is ultimately meant to tell a story. One way that the data does this is by showing the wide disparity of services used over the course of customer's lives. Using highlight tables on the specific services by age, we can see that the public generally decreases in using tech support as they grow older, but comparing that with the # services by age line chart, we see that the amount of services are similar, so people are shifting from one service to another as age progresses. This helps to provide insight for the business to take, as it means that older groups are more likely to engage in services other than tech support.\n",
    "\n",
    "Another way the data tells a story is through the use of the Service % by Service and Churn page. The table breaks down how many people subscribe to a service, separated by churn status. This illuminates whether the group of people using a particular service are particularly associated with churn or staying with the company. Knowing whether or not a service has high adoption in churned customers tells us whether there is an issue associated with a particular service that is driving customers away. Similarly, a high adoption rate with retained customers that is low among customers that leave indicates that the service is of high value to customers and helps to retain them for longer periods of time. This will then drive decision-making that encourages more customers to associate with higher value services.\n",
    "\n",
    "##### C.7 Audience Analysis\n",
    "Considering the audience is essential in the design of any dashboard. In this instance, as the audience isn't technically inclined, it was essential to allow the users access to a simple UI separated out into multiple pages that could clearly provide insights. As such, only a few filters were included and the appearance kept uncluttered. Furthermore, as most of the users were primarily concerned with the adoption of services and promotions separated out by demographic groups, most of the data representations considered the overall number of services used or the percentage adoption of particular services for analysis, utilizing them as key metrics to analyze over different groups.\n",
    "\n",
    "##### C.8 Universal Access\n",
    "As mentioned before, the users were not particularly technologically inclined, so the dashboard was designed for the simplest design feasible. One way that this was done was by making the dashboard accessible online. This ensures that the users don't need to go through the process of installing applications or worrying about different files or versions to look into the data. Instead, all the user needs is a link. Another way that technological knowledge was made inessential was by making the appearance of the dashboard simple to navigate and use. All of the visualizations are available in one story with simply named pages. These pages are meant to contain only a few visualizations and up to 2 filters. This ensures that the user doesn't have to deal with complex controls or interactions, instead needing only to look at the data as displayed. Furthermore, the audience won't need to worry about accessibility issues from colorblindness. All data contains labels, values, and/or very distinct colors that makes all visuals accessible to people with colorblindness.\n",
    "\n",
    "##### C.9 Elements of Storytelling\n",
    "Microsoft provides <a href=\"https://powerbi.microsoft.com/en-us/data-storytelling/#:~:text=The%20three%20key%20elements%20of,narrative%2C%20visuals%2C%20and%20data.\"> 3 key elements of data storytelling in Power BI documentation</a>. These key elements are building a narrative, using visuals to enlighten, and showing data to support. I will elaborate on the first two. In terms of building a narrative, I used the different pages to provide a sequential method of evaluating the different considerations. Users can begin by looking at a broad overview of how age and gender may influence service usage. Then, we can see how some of these specific services may change over time using highlight tables, and from there, we can choose to continue to bar graphs that analyze the effect by aggregating the data for all age ranges, and enlightens how marital status may change these considerations. Finally, we can look into our final page to see if any decision-making driven by these considerations may risk increased churn or help to retain customers. This tells a story starting with what is often used by customers, a deeper analysis of who may use what type of service, and finally what might be done if we were to use the data.\n",
    "\n",
    "The second element of storytelling that I will be breaking down is using visuals to enlighten. Specifically, the right type of visuals need to be used to provide the most clarity, which is why the data is broken down into multiple different types of visualizations. For example, the number of services broken down by gender is meant to be an aggregation that splits the data into categories. As such, a bar chart is a simple way to allow the users to compare the data. This contrasts the number of services by age page, which is meant to look at how the number of people using services varies at different ages. As this is a process that occurs over time, a line chart is the simplest way to visualize the data. Line charts are generally considered ideal for data over time, as it creates a sense of progression as one looks further to the right in the visual.\n",
    "\n",
    "<h4 id=\"#D\"> D: Sources</h4>\n",
    "<a href=\"https://powerbi.microsoft.com/en-us/data-storytelling/#:~:text=The%20three%20key%20elements%20of,narrative%2C%20visuals%2C%20and%20data.\">Microsoft Power BI Documentation: The benefits of data storytelling</a> was used to determine the best way to think of data storytelling"
   ]
  }
 ],
 "metadata": {
  "kernelspec": {
   "display_name": "Class",
   "language": "python",
   "name": "python3"
  },
  "language_info": {
   "codemirror_mode": {
    "name": "ipython",
    "version": 3
   },
   "file_extension": ".py",
   "mimetype": "text/x-python",
   "name": "python",
   "nbconvert_exporter": "python",
   "pygments_lexer": "ipython3",
   "version": "3.12.3"
  }
 },
 "nbformat": 4,
 "nbformat_minor": 2
}
