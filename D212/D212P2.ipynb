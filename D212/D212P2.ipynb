{
 "cells": [
  {
   "cell_type": "markdown",
   "metadata": {},
   "source": [
    "## D212 Data Mining 2 PA 2\n",
    "##### Submitted By Edwin Perry\n",
    "### Table of Contents\n",
    "<ol>\n",
    "    <li><a href=\"#A\">Research Question</a></li>\n",
    "    <li><a href=\"#B\">Technique Justification</a></li>\n",
    "    <li><a href=\"#C\">Data Preparation</a></li>\n",
    "    <li><a href=\"#D\">Analysis</a></li>\n",
    "    <li><a href=\"#E\">Data Summary and Implications</a></li>\n",
    "    <li><a href=\"#F\">Sources</a></li>\n",
    "</ol>\n"
   ]
  },
  {
   "cell_type": "markdown",
   "metadata": {},
   "source": [
    "<h4 id=\"A\">Research Question</h4>\n",
    "<h5>Question</h5>\n",
    "<p>The research question for this analysis is \"Can Principal Component Analysis (PCA) be used to find noticable patterns in the data that can be used to reduce dimensionality?\" This question helps to drive the success of the business, as it enables the business to create concrete groupings of customers that could be analyzed for further metrics, such as customer churn</p>\n",
    "<h5>Goal of Analysis</h5>\n",
    "<p>The goal of the analysis is to reduce the number of dimensions in the data to create concrete groupings of customers. I would like to create groupings that explain over 95% of the variance from the initial dimensions, which would allow for effective customer classification for future analysis. If these groupings can be created, then the business can use this information for any number of future purposes, including the creation of specialized offers for these groups orrecruiting individuals who have higher tenures.</p>\n",
    "<h4 id=\"B\">Technique Justification</h4>\n",
    "<h5>Method Explanation</h5>\n",
    "Principal Component Analysis is a useful technique in data analysis. Specifically, PCA allows an analyst to reduce the number of dimensions being considered by a model, allowing the analyst to extract composite features. In this process, a large number of features are combined with various weights, the weights representing the significance of the original components. These composite features allow for different dimensions to be considered as part of one larger dimension that can be more useful at deriving insights within the analysis. My anticipated outcome of PCA would be a significant reduction to the number of dimensions being considered, using the explained_variance_ratio attribute, which would be optimized for use in further analysis.</p>\n",
    "<h5>Assumptions of PCA</h5>\n",
    "<p>One of the assumptions that I must make for PCA to be valid is that there are no outliers (or that the impact of outliers in minimal). PCA uses eigenvectors to determine principal components, and as such, a single or handful of extreme values can lead to misleading results. As such, we will be filtering outliers in our analysis, to ensure that the PCA can be validly performed.</p>\n",
    "<h4 id=\"C\">Data Preparation</h4>\n",
    "<h5>Continuous Variable Identification</h5>\n",
    "<p>The PCA dimension reduction will be performed specifically on continuous variables, though any quantifiable data is valid, as the rubric specifically states to perform this analysis on continuous variables. The ones relevant for the analysis are as follows:\n",
    "<ul>\n",
    "<li>Tenure: The number of months that the customer has been a customer of the telecommunications company</li>\n",
    "<li>Income: The annual income in dollars of the customer</li>\n",
    "<li>Bandwidth_gb_year: The amount of data a customer uses in a year</li>\n",
    "<li>Outage_sec_perweek: The average number of seconds the customer's neighborhood experiences on a weekly basis</li>\n",
    "<li>Age: The age of the customer, as reported at sign up</li>\n",
    "</ul>\n",
    "</p>\n",
    "<h5>Standardization</h5>\n",
    "<p>Before the data can be used in the analysis, there are certain steps required to prepare the data, including standardizing the values from the continuous columns. The following code is the entirety of the process used to prepare this data:</p>"
   ]
  },
  {
   "cell_type": "code",
   "execution_count": 45,
   "metadata": {},
   "outputs": [],
   "source": [
    "import pandas as pd\n",
    "from pandas.api.types import CategoricalDtype\n",
    "import numpy as np\n",
    "import seaborn as sns\n",
    "import matplotlib.pyplot as plt\n",
    "from sklearn.tree import DecisionTreeClassifier\n",
    "from sklearn.metrics import confusion_matrix, roc_auc_score, roc_curve, accuracy_score\n",
    "from sklearn.model_selection import train_test_split\n",
    "from sklearn.preprocessing import StandardScaler\n",
    "from sklearn.decomposition import PCA\n",
    "from scipy import stats\n"
   ]
  },
  {
   "cell_type": "code",
   "execution_count": 46,
   "metadata": {},
   "outputs": [
    {
     "name": "stdout",
     "output_type": "stream",
     "text": [
      "   CaseOrder Customer_id                           Interaction  \\\n",
      "0          1     K409198  aa90260b-4141-4a24-8e36-b04ce1f4f77b   \n",
      "1          2     S120509  fb76459f-c047-4a9d-8af9-e0f7d4ac2524   \n",
      "2          3     K191035  344d114c-3736-4be5-98f7-c72c281e2d35   \n",
      "3          4      D90850  abfa2b40-2d43-4994-b15a-989b8c79e311   \n",
      "4          5     K662701  68a861fd-0d20-4e51-a587-8a90407ee574   \n",
      "\n",
      "                                UID         City State                 County  \\\n",
      "0  e885b299883d4f9fb18e39c75155d990  Point Baker    AK  Prince of Wales-Hyder   \n",
      "1  f2de8bef964785f41a2959829830fb8a  West Branch    MI                 Ogemaw   \n",
      "2  f1784cfa9f6d92ae816197eb175d3c71      Yamhill    OR                Yamhill   \n",
      "3  dc8a365077241bb5cd5ccd305136b05e      Del Mar    CA              San Diego   \n",
      "4  aabb64a116e83fdc4befc1fbab1663f9    Needville    TX              Fort Bend   \n",
      "\n",
      "     Zip       Lat        Lng  Population      Area             TimeZone  \\\n",
      "0  99927  56.25100 -133.37571          38     Urban        America/Sitka   \n",
      "1  48661  44.32893  -84.24080       10446     Urban      America/Detroit   \n",
      "2  97148  45.35589 -123.24657        3735     Urban  America/Los_Angeles   \n",
      "3  92014  32.96687 -117.24798       13863  Suburban  America/Los_Angeles   \n",
      "4  77461  29.38012  -95.80673       11352  Suburban      America/Chicago   \n",
      "\n",
      "                                 Job  Children  Age    Income    Marital  \\\n",
      "0  Environmental health practitioner         0   68  28561.99    Widowed   \n",
      "1             Programmer, multimedia         1   27  21704.77    Married   \n",
      "2            Chief Financial Officer         4   50   9609.57    Widowed   \n",
      "3                          Solicitor         1   48  18925.23    Married   \n",
      "4                Medical illustrator         0   83  40074.19  Separated   \n",
      "\n",
      "   Gender Churn  Outage_sec_perweek  Email  Contacts  Yearly_equip_failure  \\\n",
      "0    Male    No            7.978323     10         0                     1   \n",
      "1  Female   Yes           11.699080     12         0                     1   \n",
      "2  Female    No           10.752800      9         0                     1   \n",
      "3    Male    No           14.913540     15         2                     0   \n",
      "4    Male   Yes            8.147417     16         2                     1   \n",
      "\n",
      "  Techie        Contract Port_modem Tablet InternetService Phone Multiple  \\\n",
      "0     No        One year        Yes    Yes     Fiber Optic   Yes       No   \n",
      "1    Yes  Month-to-month         No    Yes     Fiber Optic   Yes      Yes   \n",
      "2    Yes        Two Year        Yes     No             DSL   Yes      Yes   \n",
      "3    Yes        Two Year         No     No             DSL   Yes       No   \n",
      "4     No  Month-to-month        Yes     No     Fiber Optic    No       No   \n",
      "\n",
      "  OnlineSecurity OnlineBackup DeviceProtection TechSupport StreamingTV  \\\n",
      "0            Yes          Yes               No          No          No   \n",
      "1            Yes           No               No          No         Yes   \n",
      "2             No           No               No          No          No   \n",
      "3            Yes           No               No          No         Yes   \n",
      "4             No           No               No         Yes         Yes   \n",
      "\n",
      "  StreamingMovies PaperlessBilling             PaymentMethod     Tenure  \\\n",
      "0             Yes              Yes   Credit Card (automatic)   6.795513   \n",
      "1             Yes              Yes  Bank Transfer(automatic)   1.156681   \n",
      "2             Yes              Yes   Credit Card (automatic)  15.754144   \n",
      "3              No              Yes              Mailed Check  17.087227   \n",
      "4              No               No              Mailed Check   1.670972   \n",
      "\n",
      "   MonthlyCharge  Bandwidth_GB_Year  Item1  Item2  Item3  Item4  Item5  Item6  \\\n",
      "0     172.455519         904.536110      5      5      5      3      4      4   \n",
      "1     242.632554         800.982766      3      4      3      3      4      3   \n",
      "2     159.947583        2054.706961      4      4      2      4      4      3   \n",
      "3     119.956840        2164.579412      4      4      4      2      5      4   \n",
      "4     149.948316         271.493436      4      4      4      3      4      4   \n",
      "\n",
      "   Item7  Item8  \n",
      "0      3      4  \n",
      "1      4      4  \n",
      "2      3      3  \n",
      "3      3      3  \n",
      "4      4      5  \n"
     ]
    },
    {
     "name": "stderr",
     "output_type": "stream",
     "text": [
      "/tmp/ipykernel_11288/645862620.py:4: FutureWarning: A value is trying to be set on a copy of a DataFrame or Series through chained assignment using an inplace method.\n",
      "The behavior will change in pandas 3.0. This inplace method will never work because the intermediate object on which we are setting values always behaves as a copy.\n",
      "\n",
      "For example, when doing 'df[col].method(value, inplace=True)', try using 'df.method({col: value}, inplace=True)' or df[col] = df[col].method(value) instead, to perform the operation inplace on the original object.\n",
      "\n",
      "\n",
      "  data['Income'].fillna(data['Income'].median(), inplace=True)\n",
      "/tmp/ipykernel_11288/645862620.py:5: FutureWarning: A value is trying to be set on a copy of a DataFrame or Series through chained assignment using an inplace method.\n",
      "The behavior will change in pandas 3.0. This inplace method will never work because the intermediate object on which we are setting values always behaves as a copy.\n",
      "\n",
      "For example, when doing 'df[col].method(value, inplace=True)', try using 'df.method({col: value}, inplace=True)' or df[col] = df[col].method(value) instead, to perform the operation inplace on the original object.\n",
      "\n",
      "\n",
      "  data[\"Tenure\"].fillna(data[\"Tenure\"].median(), inplace=True)\n",
      "/tmp/ipykernel_11288/645862620.py:6: FutureWarning: A value is trying to be set on a copy of a DataFrame or Series through chained assignment using an inplace method.\n",
      "The behavior will change in pandas 3.0. This inplace method will never work because the intermediate object on which we are setting values always behaves as a copy.\n",
      "\n",
      "For example, when doing 'df[col].method(value, inplace=True)', try using 'df.method({col: value}, inplace=True)' or df[col] = df[col].method(value) instead, to perform the operation inplace on the original object.\n",
      "\n",
      "\n",
      "  data[\"MonthlyCharge\"].fillna(data[\"MonthlyCharge\"].median(), inplace=True)\n",
      "/tmp/ipykernel_11288/645862620.py:7: FutureWarning: A value is trying to be set on a copy of a DataFrame or Series through chained assignment using an inplace method.\n",
      "The behavior will change in pandas 3.0. This inplace method will never work because the intermediate object on which we are setting values always behaves as a copy.\n",
      "\n",
      "For example, when doing 'df[col].method(value, inplace=True)', try using 'df.method({col: value}, inplace=True)' or df[col] = df[col].method(value) instead, to perform the operation inplace on the original object.\n",
      "\n",
      "\n",
      "  data[\"Email\"].fillna(data[\"Email\"].median(), inplace=True)\n",
      "/tmp/ipykernel_11288/645862620.py:8: FutureWarning: A value is trying to be set on a copy of a DataFrame or Series through chained assignment using an inplace method.\n",
      "The behavior will change in pandas 3.0. This inplace method will never work because the intermediate object on which we are setting values always behaves as a copy.\n",
      "\n",
      "For example, when doing 'df[col].method(value, inplace=True)', try using 'df.method({col: value}, inplace=True)' or df[col] = df[col].method(value) instead, to perform the operation inplace on the original object.\n",
      "\n",
      "\n",
      "  data[\"Contacts\"].fillna(data[\"Contacts\"].median(), inplace=True)\n",
      "/tmp/ipykernel_11288/645862620.py:9: FutureWarning: A value is trying to be set on a copy of a DataFrame or Series through chained assignment using an inplace method.\n",
      "The behavior will change in pandas 3.0. This inplace method will never work because the intermediate object on which we are setting values always behaves as a copy.\n",
      "\n",
      "For example, when doing 'df[col].method(value, inplace=True)', try using 'df.method({col: value}, inplace=True)' or df[col] = df[col].method(value) instead, to perform the operation inplace on the original object.\n",
      "\n",
      "\n",
      "  data[\"Age\"].fillna(data[\"Age\"].median(), inplace=True)\n",
      "/tmp/ipykernel_11288/645862620.py:10: FutureWarning: A value is trying to be set on a copy of a DataFrame or Series through chained assignment using an inplace method.\n",
      "The behavior will change in pandas 3.0. This inplace method will never work because the intermediate object on which we are setting values always behaves as a copy.\n",
      "\n",
      "For example, when doing 'df[col].method(value, inplace=True)', try using 'df.method({col: value}, inplace=True)' or df[col] = df[col].method(value) instead, to perform the operation inplace on the original object.\n",
      "\n",
      "\n",
      "  data[\"Bandwidth_GB_Year\"].fillna(data[\"Bandwidth_GB_Year\"].median(), inplace=True)\n"
     ]
    }
   ],
   "source": [
    "data = pd.read_csv(\"./Data Source/churn_clean.csv\")\n",
    "pd.set_option(\"display.max_columns\", None)\n",
    "print(data.head())\n",
    "data['Income'].fillna(data['Income'].median(), inplace=True)\n",
    "data[\"Tenure\"].fillna(data[\"Tenure\"].median(), inplace=True)\n",
    "data[\"MonthlyCharge\"].fillna(data[\"MonthlyCharge\"].median(), inplace=True)\n",
    "data[\"Email\"].fillna(data[\"Email\"].median(), inplace=True)\n",
    "data[\"Contacts\"].fillna(data[\"Contacts\"].median(), inplace=True)\n",
    "data[\"Age\"].fillna(data[\"Age\"].median(), inplace=True)\n",
    "data[\"Bandwidth_GB_Year\"].fillna(data[\"Bandwidth_GB_Year\"].median(), inplace=True)\n",
    "data.dropna(how='any',inplace=True)\n",
    "zscores = stats.zscore(data['Income'])\n",
    "data['IncomeZScore'] = zscores\n",
    "zscores = stats.zscore(data['Tenure'])\n",
    "data['TenureZScore'] = zscores\n",
    "zscores = stats.zscore(data['MonthlyCharge'])\n",
    "data['MonthlyChargeZScore'] = zscores\n",
    "zscores = stats.zscore(data['Email'])\n",
    "data['EmailZScore'] = zscores\n",
    "zscores = stats.zscore(data['Contacts'])\n",
    "data['ContactsZScore'] = zscores\n",
    "zscores = stats.zscore(data['Age'])\n",
    "data['AgeZScore'] = zscores\n",
    "zscores = stats.zscore(data['Bandwidth_GB_Year'])\n",
    "data['Bandwidth_GB_YearZScore'] = zscores\n",
    "data = data.query(\"(IncomeZScore < 3 & IncomeZScore > -3) & (TenureZScore < 3 & TenureZScore > -3) & (MonthlyChargeZScore < 3 & MonthlyChargeZScore > -3) & (Bandwidth_GB_YearZScore < 3 & Bandwidth_GB_YearZScore > -3) & (EmailZScore < 3 & EmailZScore > -3) &  (AgeZScore < 3 & AgeZScore > -3) & (ContactsZScore < 3 & ContactsZScore > -3)\")\n",
    "data = data.drop(columns=['IncomeZScore', 'TenureZScore', 'MonthlyChargeZScore', 'EmailZScore', 'ContactsZScore', 'AgeZScore', 'Bandwidth_GB_YearZScore', 'Customer_id'])\n",
    "data[\"Churn\"] = data[\"Churn\"].apply(lambda x: 1 if x == \"Yes\" else 0)\n"
   ]
  },
  {
   "cell_type": "code",
   "execution_count": 47,
   "metadata": {},
   "outputs": [],
   "source": [
    "# Select the columns for PCA\n",
    "pca_columns = ['Income', 'Tenure', 'Age', 'Bandwidth_GB_Year', 'Outage_sec_perweek']\n",
    "pca_data = data[pca_columns]\n",
    "\n",
    "# Standardize the data\n",
    "scaler = StandardScaler()\n",
    "pca_data_scaled = scaler.fit_transform(pca_data)\n",
    "\n"
   ]
  },
  {
   "cell_type": "markdown",
   "metadata": {},
   "source": [
    "<h4 id=\"D\">Analysis</h4>\n",
    "<h5>Principal Component Matrix</h5>\n",
    "Now, the data is standardized and cleaned, so we can begin reducing dimensionality using PCA. We will instantiate the PCA object below and use the fit_transform() function to both fit and transform the data"
   ]
  },
  {
   "cell_type": "code",
   "execution_count": 48,
   "metadata": {},
   "outputs": [
    {
     "name": "stdout",
     "output_type": "stream",
     "text": [
      "Cumulative variance ratio: [0.39825067 0.60446876 0.80430269 0.99832766 1.        ]\n"
     ]
    },
    {
     "data": {
      "text/html": [
       "<div>\n",
       "<style scoped>\n",
       "    .dataframe tbody tr th:only-of-type {\n",
       "        vertical-align: middle;\n",
       "    }\n",
       "\n",
       "    .dataframe tbody tr th {\n",
       "        vertical-align: top;\n",
       "    }\n",
       "\n",
       "    .dataframe thead th {\n",
       "        text-align: right;\n",
       "    }\n",
       "</style>\n",
       "<table border=\"1\" class=\"dataframe\">\n",
       "  <thead>\n",
       "    <tr style=\"text-align: right;\">\n",
       "      <th></th>\n",
       "      <th>PC1</th>\n",
       "      <th>PC2</th>\n",
       "      <th>PC3</th>\n",
       "      <th>PC4</th>\n",
       "      <th>PC5</th>\n",
       "    </tr>\n",
       "  </thead>\n",
       "  <tbody>\n",
       "    <tr>\n",
       "      <th>Income</th>\n",
       "      <td>-0.009065</td>\n",
       "      <td>-0.179614</td>\n",
       "      <td>0.978797</td>\n",
       "      <td>0.098034</td>\n",
       "      <td>-0.001371</td>\n",
       "    </tr>\n",
       "    <tr>\n",
       "      <th>Tenure</th>\n",
       "      <td>0.707035</td>\n",
       "      <td>-0.016867</td>\n",
       "      <td>0.001444</td>\n",
       "      <td>0.010172</td>\n",
       "      <td>-0.706902</td>\n",
       "    </tr>\n",
       "    <tr>\n",
       "      <th>Age</th>\n",
       "      <td>-0.003700</td>\n",
       "      <td>-0.692326</td>\n",
       "      <td>-0.196550</td>\n",
       "      <td>0.693929</td>\n",
       "      <td>0.022402</td>\n",
       "    </tr>\n",
       "    <tr>\n",
       "      <th>Bandwidth_GB_Year</th>\n",
       "      <td>0.707093</td>\n",
       "      <td>0.006002</td>\n",
       "      <td>0.009674</td>\n",
       "      <td>-0.010324</td>\n",
       "      <td>0.706954</td>\n",
       "    </tr>\n",
       "    <tr>\n",
       "      <th>Outage_sec_perweek</th>\n",
       "      <td>0.004998</td>\n",
       "      <td>0.698644</td>\n",
       "      <td>0.056818</td>\n",
       "      <td>0.713192</td>\n",
       "      <td>-0.001293</td>\n",
       "    </tr>\n",
       "  </tbody>\n",
       "</table>\n",
       "</div>"
      ],
      "text/plain": [
       "                         PC1       PC2       PC3       PC4       PC5\n",
       "Income             -0.009065 -0.179614  0.978797  0.098034 -0.001371\n",
       "Tenure              0.707035 -0.016867  0.001444  0.010172 -0.706902\n",
       "Age                -0.003700 -0.692326 -0.196550  0.693929  0.022402\n",
       "Bandwidth_GB_Year   0.707093  0.006002  0.009674 -0.010324  0.706954\n",
       "Outage_sec_perweek  0.004998  0.698644  0.056818  0.713192 -0.001293"
      ]
     },
     "execution_count": 48,
     "metadata": {},
     "output_type": "execute_result"
    }
   ],
   "source": [
    "# Perform PCA\n",
    "pca = PCA(n_components=5, random_state=400)\n",
    "pca_data_transformed = pca.fit_transform(pca_data_scaled)\n",
    "\n",
    "# Create a DataFrame with the PCA results\n",
    "pca_df = pd.DataFrame(pca_data_transformed, columns=[f'PC{i+1}' for i in range(pca_data_transformed.shape[1])])\n",
    "\n",
    "# Display the explained variance ratio\n",
    "explained_variance = pca.explained_variance_ratio_\n",
    "print('Cumulative variance ratio:', explained_variance.cumsum())\n",
    "\n",
    "# Add the PCA results back to the original dataframe\n",
    "data = pd.concat([data.reset_index(drop=True), pca_df.reset_index(drop=True)], axis=1)\n",
    "pca_loadings = pd.DataFrame(pca.components_.T, columns=[\"PC1\", \"PC2\", \"PC3\", \"PC4\", \"PC5\"], index = pca_columns)\n",
    "pca_loadings"
   ]
  },
  {
   "cell_type": "markdown",
   "metadata": {},
   "source": [
    "<p>With the PCA performed, we can now examine the matrix of the PCA loadings, indicating the weight that each feature contributes to the 5 principal components. For example, Tenure and Bandwidth_gb_year have a great deal of influence on PC1, whereas Age has very little influence on PC1. Each principal component can be interpreted based on these coefficients.</p>\n",
    "<h5>Number of Principal Components</h5>\n",
    "<p>The next step to perform is identifying the number of principal components to consider for this analysis. I will be doing so through the use of an elbow plot</p>"
   ]
  },
  {
   "cell_type": "code",
   "execution_count": 49,
   "metadata": {},
   "outputs": [
    {
     "data": {
      "image/png": "[encoded data removed]",
      "text/plain": [
       "<Figure size 1000x600 with 1 Axes>"
      ]
     },
     "metadata": {},
     "output_type": "display_data"
    }
   ],
   "source": [
    "\n",
    "# Plot the cumulative explained variance ratio\n",
    "plt.figure(figsize=(10, 6))\n",
    "plt.plot(range(1, len(explained_variance) + 1), explained_variance.cumsum(), marker='o', linestyle='--')\n",
    "plt.title('Elbow Plot')\n",
    "plt.xlabel('Number of Principal Components')\n",
    "plt.ylabel('Cumulative Explained Variance Ratio')\n",
    "plt.grid(True)\n",
    "plt.show()"
   ]
  },
  {
   "cell_type": "markdown",
   "metadata": {},
   "source": [
    "<p>As we can see in the scree plot above, we find that the variance explained continues to rise rapidly for the first few components. However, once we have reached 4 components, there is very little change. Therefore, the ideal number of principal components to use for this analysis would be 4. This is less than ideal, as this only reduces the number of dimensions considered by 1 (we used 5 variables to create these principal components). Even so, this is an improvement that could lead to a better model.</p>\n",
    "<h5>Variance of each principal component</h5>\n",
    "Now that we set the number of components to 4, we can identify the variance of each component. "
   ]
  },
  {
   "cell_type": "code",
   "execution_count": 50,
   "metadata": {},
   "outputs": [
    {
     "name": "stdout",
     "output_type": "stream",
     "text": [
      "Cumulative variance ratio: [0.39825067 0.20621809 0.19983394 0.19402497]\n"
     ]
    }
   ],
   "source": [
    "final_pca = PCA(n_components=4, random_state=500)\n",
    "final_pca.fit(pca_data_scaled)\n",
    "X_final_pca = final_pca.transform(pca_data_scaled)\n",
    "X_final_pca_loadings = pd.DataFrame(final_pca.components_.T, columns=[\"PC1\", \"PC2\", \"PC3\", \"PC4\"], index = pca_columns)\n",
    "explained_variance = final_pca.explained_variance_ratio_\n",
    "print('Cumulative variance ratio:', explained_variance)"
   ]
  },
  {
   "cell_type": "markdown",
   "metadata": {},
   "source": [
    "<p>Above, we see the variance accounted for with each principal component, starting with 39.8% with the first principal component, and ending with 19.4% with the final principal component</p>\n",
    "<h5>Total Variance</h5>\n",
    "<p>We have already determined the variance that each component takes into account, but a similarly important metric is the overall variance taken into account by the variances cumulatively.</p>"
   ]
  },
  {
   "cell_type": "code",
   "execution_count": 51,
   "metadata": {},
   "outputs": [
    {
     "name": "stdout",
     "output_type": "stream",
     "text": [
      "These 7 principal components cumilatively explain 99.83% of variance\n"
     ]
    }
   ],
   "source": [
    "print(f\"These 7 principal components cumilatively explain {round(sum(explained_variance * 100), 2)}% of variance\")"
   ]
  },
  {
   "cell_type": "markdown",
   "metadata": {},
   "source": [
    "<h5>Summary</h5>\n",
    "<p>With the PCA completed, we can now analyze the effectiveness of the PCA. We can see that principal components are capable of explaining 99.83% of variance, which is remarkably high. However, this only reduces the number of dimensions by 1, as there are 4 principal components and 5 dimensions being input. Ideally, we would have been able to reduce the number of dimensions by a greater margin. To summarize, these results would be sufficient for use in further analysis, and can be considered very reliable. However, the benefits are also limited, only reducing the dimensions by 1. As such, the improvement is present, but not as pronounced as I would like, and could potentially be improved if the dataset were to contain more continuous variables.</p>"
   ]
  },
  {
   "cell_type": "markdown",
   "metadata": {},
   "source": [
    "<h4 id=\"E\">Web Sources</h4>\n",
    "<p><a href=\"https://app.datacamp.com/learn/custom-tracks/custom-data-mining-ii\">Data Camp Tutorial Covering PCA</a></p>\n",
    "<h4 id=\"F\">Sources</h4>\n",
    "<p><a href=\"https://www.geeksforgeeks.org/reduce-data-dimentionality-using-pca-python/\">GeeksForGeeks information that covers the conceptual benefits of PCA</a></p>"
   ]
  }
 ],
 "metadata": {
  "kernelspec": {
   "display_name": "Python 3",
   "language": "python",
   "name": "python3"
  },
  "language_info": {
   "codemirror_mode": {
    "name": "ipython",
    "version": 3
   },
   "file_extension": ".py",
   "mimetype": "text/x-python",
   "name": "python",
   "nbconvert_exporter": "python",
   "pygments_lexer": "ipython3",
   "version": "3.12.8"
  }
 },
 "nbformat": 4,
 "nbformat_minor": 2
}
