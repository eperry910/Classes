{
 "cells": [
  {
   "cell_type": "markdown",
   "metadata": {},
   "source": [
    "## D212 Data Mining 2 PA 3\n",
    "##### Submitted By Edwin Perry\n",
    "### Table of Contents\n",
    "<ol>\n",
    "    <li><a href=\"#A\">Research Question</a></li>\n",
    "    <li><a href=\"#B\">Technique Justification</a></li>\n",
    "    <li><a href=\"#C\">Data Preparation and Analysis</a></li>\n",
    "    <li><a href=\"#D\">Data Summary And Implications</a></li>\n",
    "    <li><a href=\"#E\">Attachments</a></li>\n",
    "    <li><a href=\"#F\">Sources</a></li>\n",
    "</ol>\n",
    "<h4 id=\"A\">Research Question</h4>\n",
    "<h5>Providing Question</h5>\n",
    "<p>The research question that I have decided to use for this project is \"What product offerings are positively associated with the TP-Link AC1750 Smart WiFi Router?\" This can be used to items commonly purchased together to offer deals, discounts, and bundles.</p>\n",
    "<h5>Objectives and Goals</h5>\n",
    "<p>Determining common groupings of goods provided can assist the telecommunications business in creating bundles and discount groups, encouraging customers to purchase these goods from the business.If customers can purchase these bundles from our business, we can both improve customer satisfaction with the business, encouraging return customers, and ensure customers purchase our goods, rather than purhcasing these goods from competitors. I am specifically choosing to analyze the router because installing a new router is a serious technological change, which might necessitate the use of other pieces of equipment.</p>\n",
    "<h4 id=\"B\">Technique Justification</h4>\n",
    "<h5>Market Basket Description</h5>\n",
    "<p>Market Basket Analysis is a way to identify the most common groupings of products purchased. This is often used to create recommendations based on these groupings, allowing a business to create bundles or deals on the basis of these common groupings.\n",
    "\n",
    "The analysis is done by creating rules with an antecedent and consequent relationship. To put it in simple terms, we determine a value (the antecedent) and see if it has a causal relationship with the purchase of another item (the consequent).\n",
    "\n",
    "To bring it back to the research question, I would anticipate that the result of this analysis will reveal a relationship that could be formulated as \"If a customer purchases the router, then they are likely to purchase X\" or \"customers that purchase X are more likely to purchase a router</p>\n",
    "<h5>Example Transaction</h5>\n",
    "<p></p>\n",
    "<h5>Assumption</h5>\n"
   ]
  }
 ],
 "metadata": {
  "language_info": {
   "name": "python"
  }
 },
 "nbformat": 4,
 "nbformat_minor": 2
}
