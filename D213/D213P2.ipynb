{
 "cells": [
  {
   "cell_type": "markdown",
   "metadata": {},
   "source": [
    "## D213 Advanced Data Analytics PA 1\n",
    "##### Submitted By Edwin Perry\n",
    "### Table of Contents\n",
    "<ol>\n",
    "    <li><a href=\"#A\">Research Question</a></li>\n",
    "    <li><a href=\"#B\">Data Preparation</a></li>\n",
    "    <li><a href=\"#C\">Network Architecture</a></li>\n",
    "    <li><a href=\"#D\">Model Evaluation</a></li>\n",
    "    <li><a href=\"#E\">Summary and Recommendations</a></li>\n",
    "    <li><a href=\"#F\">Reporting</a></li>\n",
    "</ol>\n",
    "<h4 id=\"A\">Research Question</h4>\n",
    "<h5>Providing Question</h5>\n",
    "<p>For this project, I want to determine if a neural network trained on customer reviews is adequate at predicting overall customer sentiment</p>\n",
    "<h5>Objectives/Goal</h5>\n",
    "<p>The overall goal of this process is to create a neural network capable of accurately predicting the customer rating of transactions and services based on the textual review the customer has left\n",
    "\n",
    "The use of a neural network to recognize positive or negative user sentiment about a movie based on textual review is a relatively complex natural language processing (NLP) technique. The used dataset will include a binary decision as to whether or not the customer enjoyed the movie, which can be used as a \"truth\" or \"false\" value, allowing me to test the model predictions against the actual values.\n",
    "\n",
    "The neural network created from this process could be used for a number of future uses. Perhaps the most useful that I can think of is fake review detection. Multiple products and services are known to suffer from fake reviews submitted by bots, rather than reviews from people that have actually watched the movie. \n",
    "This neural network can identify those reviews that do not align the textual review with the provided rating, helping to root out the most likely fake reviews.</p>\n",
    "<h5>Type of Neural Network</h5>\n",
    "<p>Neural networks come in a variety of types, and as such, it is important to identify the ideal type to use for this particular analysis. The type that I decided to use for this analysis is a Recurrent Neural Network (RNN). I decided to use this type because, rather than analyzing the data in the text review in a manner whereby it is simply checking the value of words, it instead takes into account the word order as well. For example, if a user were to say \"I do not recommend this movie,\" most other models would consider each word independently from each other, and would likely conclude that the rating would be positive. The RNN, however, can take into account the combination of the words \"not\" and \"recommend\" being sequential, recognizing that the user has a negative review.</p>\n",
    "<h4 id=\"B\">Data Preparation</h4>\n",
    "<p> There are a few tasks that neeed to be performed before the neural network can be created and tested, including performing some exploratory data analysis. The first thing that we will do is import the required libraries/packages and load the data into the Jupyter Notebook</p>"
   ]
  },
  {
   "cell_type": "code",
   "execution_count": 1,
   "metadata": {},
   "outputs": [
    {
     "name": "stderr",
     "output_type": "stream",
     "text": [
      "2025-02-15 14:00:25.852923: I external/local_xla/xla/tsl/cuda/cudart_stub.cc:32] Could not find cuda drivers on your machine, GPU will not be used.\n",
      "2025-02-15 14:00:25.855781: I external/local_xla/xla/tsl/cuda/cudart_stub.cc:32] Could not find cuda drivers on your machine, GPU will not be used.\n",
      "2025-02-15 14:00:25.862393: E external/local_xla/xla/stream_executor/cuda/cuda_fft.cc:477] Unable to register cuFFT factory: Attempting to register factory for plugin cuFFT when one has already been registered\n",
      "WARNING: All log messages before absl::InitializeLog() is called are written to STDERR\n",
      "E0000 00:00:1739646025.872961   20829 cuda_dnn.cc:8310] Unable to register cuDNN factory: Attempting to register factory for plugin cuDNN when one has already been registered\n",
      "E0000 00:00:1739646025.876007   20829 cuda_blas.cc:1418] Unable to register cuBLAS factory: Attempting to register factory for plugin cuBLAS when one has already been registered\n",
      "2025-02-15 14:00:25.888742: I tensorflow/core/platform/cpu_feature_guard.cc:210] This TensorFlow binary is optimized to use available CPU instructions in performance-critical operations.\n",
      "To enable the following instructions: AVX2 FMA, in other operations, rebuild TensorFlow with the appropriate compiler flags.\n",
      "[nltk_data] Downloading package stopwords to /home/edwinp/nltk_data...\n",
      "[nltk_data]   Package stopwords is already up-to-date!\n"
     ]
    }
   ],
   "source": [
    "import pandas as pd\n",
    "import numpy as np\n",
    "import matplotlib.pyplot as plt\n",
    "import re\n",
    "from sklearn.model_selection import train_test_split\n",
    "from sklearn.metrics import confusion_matrix\n",
    "from tensorflow.keras.preprocessing.text import Tokenizer\n",
    "from tensorflow.keras.preprocessing.sequence import pad_sequences\n",
    "from tensorflow.keras.callbacks import EarlyStopping\n",
    "from tensorflow.keras.layers import Dense, Embedding, Flatten\n",
    "from tensorflow.keras.models import Sequential\n",
    "import nltk\n",
    "import string\n",
    "from nltk import word_tokenize, sent_tokenize\n",
    "from nltk.corpus import stopwords\n",
    "nltk.download('stopwords')\n",
    "pd.set_option(\"display.max_columns\", None)"
   ]
  },
  {
   "cell_type": "code",
   "execution_count": 2,
   "metadata": {},
   "outputs": [
    {
     "name": "stdout",
     "output_type": "stream",
     "text": [
      "['amazon_cells_labelled.txt', 'imdb_labelled.txt', 'yelp_labelled.txt']\n",
      "amazon_cells_labelled.txt: 1000 lines\n",
      "imdb_labelled.txt: 1000 lines\n",
      "yelp_labelled.txt: 1000 lines\n"
     ]
    }
   ],
   "source": [
    "import os\n",
    "# Initialize a dictionary to store the data\n",
    "data_dict = {}\n",
    "# Define the folder path\n",
    "folder_path = './sentiment+labelled+sentences'\n",
    "full_folder_path = './sentiment+labelled+sentences/sentiment labelled sentences'\n",
    "\n",
    "# List all files in the folder\n",
    "files = [f for f in os.listdir(full_folder_path) if f != 'readme.txt']\n",
    "\n",
    "# Initialize a dictionary to store file lengths\n",
    "file_lengths = {}\n",
    "print(files)\n",
    "# Read each file and calculate its length\n",
    "for file in files:\n",
    "    with open(os.path.join(full_folder_path, file), 'r', encoding=\"utf-8\") as f:\n",
    "        content = f.readlines()\n",
    "        for line in content:\n",
    "            text = line[0:-2]\n",
    "            label = line[-2]\n",
    "            data_dict[text.strip()] = int(label)\n",
    "            file_lengths[file] = len(content)\n",
    "        \n",
    "\n",
    "# Print the lengths of each file\n",
    "for file, length in file_lengths.items():\n",
    "    print(f\"{file}: {length} lines\")\n"
   ]
  },
  {
   "cell_type": "markdown",
   "metadata": {},
   "source": [
    "<p>Above, we can notice that we have 1000 lines in each file, giving us access to 3000 rows of data total. Next, we will look into the presence of unusual characters within the data</p>"
   ]
  },
  {
   "cell_type": "code",
   "execution_count": 3,
   "metadata": {},
   "outputs": [
    {
     "name": "stdout",
     "output_type": "stream",
     "text": [
      "Keys with unusual characters:\n",
      "It's practically perfect in all of them  a true masterpiece in a sea of faux \"masterpieces.\n",
      "I'm glad this pretentious piece of s*** didn't do as planned by the Dodge stratus Big Shots... It's gonna help movie makers who aren't in the very restrained \"movie business\" of Québec.\n",
      "The script iswas there a script?\n",
      "I'll even say it again  this is torture.\n",
      "This show is made for Americans - it is too stupid and full with hatred and clichés to be admitted elsewhere.\n",
      "A cheap and cheerless heist movie with poor characterisation, lots of underbite style stoic emoting (think Chow Yun Fat in A Better Tomorrow) and some cheesy clichés thrown into an abandoned factory ready for a few poorly executed flying judo rolls a la John Woo.\n",
      "And I forgot: The Casting here i superb, with Trond Fausa Aurvåg being perfect in the role as the Bothersome Man, who doesn't understand where he is, what he is doing and why.\n",
      "The script is bad, very bad  it contains both cheesiness and unethical joke that you normally see in rated R or NC-17 movie.\n",
      "Let's start with all the problemsthe acting, especially from the lead professor, was very, very bad.\n",
      "Technically, the film is well made with impressive camera-work, solid acting and effective music from Riz Ortolani  particularly good is a recurring unaccompanied female vocal that sounds like it's coming from a distant hill.\n",
      "I am so tired of clichés that is just lazy writing, and here they come in thick and fast.\n",
      "But, Kevin Spacey is an excellent, verbal tsunami as Buddy Ackerman  and totally believable because he is a great actor.\n",
      "Definitely worth seeing it's the sort of thought provoking film that forces you to question your own threshold of loneliness.\n",
      "My fiancé and I came in the middle of the day and we were greeted and seated right away.\n",
      "I really enjoyed Crema Café before they expanded; I even told friends they had the BEST breakfast.\n",
      "The crêpe was delicate and thin and moist.\n",
      "The only thing I wasn't too crazy about was their guacamole as I don't like it puréed.\n",
      "17\n"
     ]
    }
   ],
   "source": [
    "import re\n",
    "\n",
    "# Define a function to check for non-English characters\n",
    "def contains_unusual_characters(text):\n",
    "    # Define a regex pattern to match non-English characters and emojis\n",
    "    pattern = re.compile(r'[^\\x00-\\x7F]+')\n",
    "    return bool(pattern.search(text))\n",
    "\n",
    "# Initialize a list to store keys with unusual characters\n",
    "unusual_keys = []\n",
    "\n",
    "# Iterate through the keys in data_dict and check for unusual characters\n",
    "for key in data_dict.keys():\n",
    "    if contains_unusual_characters(key):\n",
    "        unusual_keys.append(key)\n",
    "\n",
    "# Print the keys with unusual characters\n",
    "print(\"Keys with unusual characters:\")\n",
    "for key in unusual_keys:\n",
    "    print(key)\n",
    "print(len(unusual_keys))"
   ]
  },
  {
   "cell_type": "markdown",
   "metadata": {},
   "source": [
    "<p>Obviously, we can see that only 17 rows contain these unusual characters. Due to the incredibly small number of unusual keys, I believe that filtering them from our analysis is justified.</p>"
   ]
  },
  {
   "cell_type": "code",
   "execution_count": 4,
   "metadata": {},
   "outputs": [
    {
     "name": "stdout",
     "output_type": "stream",
     "text": [
      "Original data_dict length: 2982\n",
      "Filtered data_dict length: 2965\n"
     ]
    }
   ],
   "source": [
    "# Filter out keys that are present in unusual_keys\n",
    "filtered_data_dict = {key: value for key, value in data_dict.items() if key not in unusual_keys}\n",
    "\n",
    "# Print the length of the filtered dictionary to verify\n",
    "print(f\"Original data_dict length: {len(data_dict)}\")\n",
    "print(f\"Filtered data_dict length: {len(filtered_data_dict)}\")"
   ]
  },
  {
   "cell_type": "markdown",
   "metadata": {},
   "source": [
    "Now that these filtered values are removed, we will proceed to determine the vocabulary size of the reviewers in the dataset"
   ]
  },
  {
   "cell_type": "code",
   "execution_count": 5,
   "metadata": {},
   "outputs": [
    {
     "name": "stdout",
     "output_type": "stream",
     "text": [
      "Vocabulary size: 6012\n"
     ]
    },
    {
     "name": "stderr",
     "output_type": "stream",
     "text": [
      "[nltk_data] Downloading package punkt to /home/edwinp/nltk_data...\n",
      "[nltk_data]   Package punkt is already up-to-date!\n",
      "[nltk_data] Downloading package punkt_tab to /home/edwinp/nltk_data...\n",
      "[nltk_data]   Package punkt_tab is already up-to-date!\n"
     ]
    }
   ],
   "source": [
    "from collections import Counter\n",
    "import nltk\n",
    "# Ensure 'punkt' is downloaded\n",
    "nltk.download('punkt')\n",
    "nltk.download('punkt_tab')\n",
    "\n",
    "# Tokenize the text in the keys of filtered_data_dict\n",
    "all_words = []\n",
    "for review in filtered_data_dict.keys():\n",
    "    tokens = nltk.word_tokenize(review)\n",
    "    all_words.extend(tokens)\n",
    "\n",
    "# Count the unique words\n",
    "vocabulary_size = len(set(all_words))\n",
    "\n",
    "print(f\"Vocabulary size: {vocabulary_size}\")"
   ]
  },
  {
   "cell_type": "markdown",
   "metadata": {},
   "source": [
    "Next, we will propose a word embedding length. This will be determined using the logarithm of the vocabulary size, to ensure that the dataset is not filtered such that it is too small to notice critical information, but that we are filtering out enough data to avoid unnecessary computational complexity."
   ]
  },
  {
   "cell_type": "code",
   "execution_count": 6,
   "metadata": {},
   "outputs": [
    {
     "name": "stdout",
     "output_type": "stream",
     "text": [
      "Proposed embedding length: 13\n"
     ]
    }
   ],
   "source": [
    "import math\n",
    "\n",
    "# Calculate the proposed embedding length\n",
    "proposed_embedding_length = math.ceil(math.log2(vocabulary_size))\n",
    "print(f\"Proposed embedding length: {proposed_embedding_length}\")"
   ]
  },
  {
   "cell_type": "markdown",
   "metadata": {},
   "source": [
    "Finally, we will determine the maximum sequence length for this analysis. This will be done by determining the 95th percentile of review lengths, and using that value as the maximum sequence length. This will allow the reviews to have a length-constraint that optimizes model performance by filtering out excessively long reviews while also retaining the vast majority of reviews."
   ]
  },
  {
   "cell_type": "code",
   "execution_count": 7,
   "metadata": {},
   "outputs": [
    {
     "name": "stdout",
     "output_type": "stream",
     "text": [
      "Statistically justified maximum sequence length: 30\n"
     ]
    }
   ],
   "source": [
    "# Calculate the lengths of the reviews\n",
    "review_lengths = [len(nltk.word_tokenize(review)) for review in filtered_data_dict.keys()]\n",
    "\n",
    "# Calculate the 95th percentile of review lengths\n",
    "max_sequence_length = np.percentile(review_lengths, 95)\n",
    "max_sequence_length = int(max_sequence_length)\n",
    "print(f\"Statistically justified maximum sequence length: {max_sequence_length}\")"
   ]
  },
  {
   "cell_type": "markdown",
   "metadata": {},
   "source": [
    "<h5>Goals of Tokenization Process</h5>\n",
    "<p>The next step in the data preparation is tokenizing the text reviews. Neural networks cannot inherently interpret raw text, so we need to break the text into smaller units that map to numeric values.</p>"
   ]
  },
  {
   "cell_type": "code",
   "execution_count": 8,
   "metadata": {},
   "outputs": [
    {
     "name": "stdout",
     "output_type": "stream",
     "text": [
      "Labels shape: (2965,)\n"
     ]
    }
   ],
   "source": [
    "# Initialize the tokenizer\n",
    "tokenizer = Tokenizer(num_words=vocabulary_size, oov_token=\"<OOV>\")\n",
    "tokenizer.fit_on_texts(filtered_data_dict.keys())\n",
    "\n",
    "# Convert the text to sequences\n",
    "sequences = tokenizer.texts_to_sequences(filtered_data_dict.keys())\n",
    "\n",
    "# Convert the labels to a numpy array\n",
    "labels = np.array(list(filtered_data_dict.values()))\n",
    "print(f\"Labels shape: {labels.shape}\")"
   ]
  },
  {
   "cell_type": "markdown",
   "metadata": {},
   "source": [
    "<h5>Padding Process Explanation</h5>\n",
    "<p>Padding is an essential process in the preparation of this data for the neural network. It is designed to standardize the size of the inputs, which inherently have different lengths. I am going to add the padding to the end of the sequence, using the padding='post' argument.</p>"
   ]
  },
  {
   "cell_type": "code",
   "execution_count": 9,
   "metadata": {},
   "outputs": [
    {
     "name": "stdout",
     "output_type": "stream",
     "text": [
      "Padded sequences shape: (2965, 30)\n"
     ]
    }
   ],
   "source": [
    "# Pad the sequences to ensure they all have the same length\n",
    "padded_sequences = pad_sequences(sequences, maxlen=max_sequence_length, padding='post', truncating='post')\n",
    "\n",
    "print(f\"Padded sequences shape: {padded_sequences.shape}\")"
   ]
  },
  {
   "cell_type": "markdown",
   "metadata": {},
   "source": [
    "<p>Below, we see one example of a padded sequence. The several entries of 0 at the end indicate padded values</p>"
   ]
  },
  {
   "cell_type": "code",
   "execution_count": 10,
   "metadata": {},
   "outputs": [
    {
     "name": "stdout",
     "output_type": "stream",
     "text": [
      "[  28   47    6   57  117   13   71    8  370    7   12   66   12    2\n",
      "  185  578    4   76   61    5 2243    0    0    0    0    0    0    0\n",
      "    0    0]\n"
     ]
    }
   ],
   "source": [
    "# Print a single padded sequence\n",
    "print(padded_sequences[0])"
   ]
  },
  {
   "cell_type": "markdown",
   "metadata": {},
   "source": [
    "<h5>Sentiment Categories</h5>\n",
    "<p>There will only be 2 categories of sentiment used in this analysis, as we only have positive and negative reviews for this data, meaning that we have binary classification. The activation function will similarly be sigmoid, which will allow us to determine the positive or negative value based on whether the calculated value meets a certain threshold</p>\n",
    "<h5>Steps Explanation</h5>\n",
    "<p>To review the steps of the data preparation, we started, after importing the data, with filtering out any reviews that contained characters that couldn't be interpreted. Then, we determined the vocabulary size, proposed a word embedding length, and calculated a statistically-justified maximum sequence length. Then, we tokenized the reviews to convert the textual, unusable data into numerical data that could be used by the neural network. The next step was to pad the data, to ensure that the inputs were of a standard length. Now, we will split the data into training, validation, and testing sets. An 80%/10%/10% split is most common in a neural network. The training set, of course, requires the majority of the data, to train it in the widest variety of information possible and ensure the best performance. A 10% validation set is technically optional, but it is ideal. The validation set is useful in detecting overfitting and can fine-tine hyperparameters, improving the performance of the model. Finally, we use a 10% test set, to evaluate the performance of the model."
   ]
  },
  {
   "cell_type": "code",
   "execution_count": 11,
   "metadata": {},
   "outputs": [
    {
     "name": "stdout",
     "output_type": "stream",
     "text": [
      "Training data shape: (2075, 30)\n",
      "Validation data shape: (445, 30)\n",
      "Testing data shape: (445, 30)\n",
      "Training labels shape: (2075,)\n",
      "Validation labels shape: (445,)\n",
      "Testing labels shape: (445,)\n"
     ]
    }
   ],
   "source": [
    "# Split the data into training and temporary datasets\n",
    "X_train, X_temp, y_train, y_temp = train_test_split(padded_sequences, labels, test_size=0.3, random_state=42)\n",
    "\n",
    "# Split the temporary dataset into validation and test datasets\n",
    "X_val, X_test, y_val, y_test = train_test_split(X_temp, y_temp, test_size=0.5, random_state=42)\n",
    "\n",
    "print(f\"Training data shape: {X_train.shape}\")\n",
    "print(f\"Validation data shape: {X_val.shape}\")\n",
    "print(f\"Testing data shape: {X_test.shape}\")\n",
    "print(f\"Training labels shape: {y_train.shape}\")\n",
    "print(f\"Validation labels shape: {y_val.shape}\")\n",
    "print(f\"Testing labels shape: {y_test.shape}\")"
   ]
  },
  {
   "cell_type": "code",
   "execution_count": 12,
   "metadata": {},
   "outputs": [],
   "source": [
    "# Convert the numpy arrays to pandas DataFrames\n",
    "X_train_df = pd.DataFrame(X_train)\n",
    "X_test_df = pd.DataFrame(X_test)\n",
    "y_train_df = pd.DataFrame(y_train, columns=['label'])\n",
    "y_test_df = pd.DataFrame(y_test, columns=['label'])\n",
    "y_validation_df = pd.DataFrame(y_train, columns=['label'])\n",
    "X_validation_df = pd.DataFrame(y_test, columns=['label'])\n",
    "\n",
    "# Save the DataFrames to CSV files\n",
    "X_train_df.to_csv('X_train.csv', index=False)\n",
    "X_test_df.to_csv('X_test.csv', index=False)\n",
    "y_train_df.to_csv('y_train.csv', index=False)\n",
    "y_test_df.to_csv('y_test.csv', index=False)\n",
    "X_validation_df.to_csv('X_validation.csv', index=False)\n",
    "y_validation_df.to_csv('y_validation.csv', index=False)"
   ]
  },
  {
   "cell_type": "markdown",
   "metadata": {},
   "source": [
    "<h4 id=\"C\">Network Architecture</h4>\n",
    "<h5>Output of the Model Summary</h5>"
   ]
  },
  {
   "cell_type": "code",
   "execution_count": 13,
   "metadata": {},
   "outputs": [
    {
     "name": "stdout",
     "output_type": "stream",
     "text": [
      "Epoch 1/15\n"
     ]
    },
    {
     "name": "stderr",
     "output_type": "stream",
     "text": [
      "/home/edwinp/.local/lib/python3.12/site-packages/keras/src/layers/core/embedding.py:90: UserWarning: Argument `input_length` is deprecated. Just remove it.\n",
      "  warnings.warn(\n",
      "2025-02-15 14:00:27.495849: E external/local_xla/xla/stream_executor/cuda/cuda_driver.cc:152] failed call to cuInit: INTERNAL: CUDA error: Failed call to cuInit: UNKNOWN ERROR (303)\n"
     ]
    },
    {
     "name": "stdout",
     "output_type": "stream",
     "text": [
      "\u001b[1m65/65\u001b[0m \u001b[32m━━━━━━━━━━━━━━━━━━━━\u001b[0m\u001b[37m\u001b[0m \u001b[1m2s\u001b[0m 8ms/step - accuracy: 0.4867 - loss: 0.6937 - val_accuracy: 0.5303 - val_loss: 0.6924\n",
      "Epoch 2/15\n",
      "\u001b[1m65/65\u001b[0m \u001b[32m━━━━━━━━━━━━━━━━━━━━\u001b[0m\u001b[37m\u001b[0m \u001b[1m0s\u001b[0m 5ms/step - accuracy: 0.4981 - loss: 0.6934 - val_accuracy: 0.4652 - val_loss: 0.6939\n",
      "Epoch 3/15\n",
      "\u001b[1m65/65\u001b[0m \u001b[32m━━━━━━━━━━━━━━━━━━━━\u001b[0m\u001b[37m\u001b[0m \u001b[1m0s\u001b[0m 5ms/step - accuracy: 0.5173 - loss: 0.6897 - val_accuracy: 0.7079 - val_loss: 0.5879\n",
      "Epoch 4/15\n",
      "\u001b[1m65/65\u001b[0m \u001b[32m━━━━━━━━━━━━━━━━━━━━\u001b[0m\u001b[37m\u001b[0m \u001b[1m0s\u001b[0m 5ms/step - accuracy: 0.8189 - loss: 0.4265 - val_accuracy: 0.8202 - val_loss: 0.4321\n",
      "Epoch 5/15\n",
      "\u001b[1m65/65\u001b[0m \u001b[32m━━━━━━━━━━━━━━━━━━━━\u001b[0m\u001b[37m\u001b[0m \u001b[1m0s\u001b[0m 5ms/step - accuracy: 0.9274 - loss: 0.2219 - val_accuracy: 0.8202 - val_loss: 0.4334\n",
      "Epoch 6/15\n",
      "\u001b[1m65/65\u001b[0m \u001b[32m━━━━━━━━━━━━━━━━━━━━\u001b[0m\u001b[37m\u001b[0m \u001b[1m0s\u001b[0m 5ms/step - accuracy: 0.9647 - loss: 0.1225 - val_accuracy: 0.8022 - val_loss: 0.7958\n",
      "Epoch 7/15\n",
      "\u001b[1m65/65\u001b[0m \u001b[32m━━━━━━━━━━━━━━━━━━━━\u001b[0m\u001b[37m\u001b[0m \u001b[1m0s\u001b[0m 5ms/step - accuracy: 0.9775 - loss: 0.0751 - val_accuracy: 0.7978 - val_loss: 0.8034\n"
     ]
    },
    {
     "data": {
      "text/html": [
       "<pre style=\"white-space:pre;overflow-x:auto;line-height:normal;font-family:Menlo,'DejaVu Sans Mono',consolas,'Courier New',monospace\"><span style=\"font-weight: bold\">Model: \"sequential\"</span>\n",
       "</pre>\n"
      ],
      "text/plain": [
       "\u001b[1mModel: \"sequential\"\u001b[0m\n"
      ]
     },
     "metadata": {},
     "output_type": "display_data"
    },
    {
     "data": {
      "text/html": [
       "<pre style=\"white-space:pre;overflow-x:auto;line-height:normal;font-family:Menlo,'DejaVu Sans Mono',consolas,'Courier New',monospace\">┏━━━━━━━━━━━━━━━━━━━━━━━━━━━━━━━━━┳━━━━━━━━━━━━━━━━━━━━━━━━┳━━━━━━━━━━━━━━━┓\n",
       "┃<span style=\"font-weight: bold\"> Layer (type)                    </span>┃<span style=\"font-weight: bold\"> Output Shape           </span>┃<span style=\"font-weight: bold\">       Param # </span>┃\n",
       "┡━━━━━━━━━━━━━━━━━━━━━━━━━━━━━━━━━╇━━━━━━━━━━━━━━━━━━━━━━━━╇━━━━━━━━━━━━━━━┩\n",
       "│ embedding (<span style=\"color: #0087ff; text-decoration-color: #0087ff\">Embedding</span>)           │ (<span style=\"color: #00d7ff; text-decoration-color: #00d7ff\">None</span>, <span style=\"color: #00af00; text-decoration-color: #00af00\">30</span>, <span style=\"color: #00af00; text-decoration-color: #00af00\">13</span>)         │        <span style=\"color: #00af00; text-decoration-color: #00af00\">78,156</span> │\n",
       "├─────────────────────────────────┼────────────────────────┼───────────────┤\n",
       "│ lstm (<span style=\"color: #0087ff; text-decoration-color: #0087ff\">LSTM</span>)                     │ (<span style=\"color: #00d7ff; text-decoration-color: #00d7ff\">None</span>, <span style=\"color: #00af00; text-decoration-color: #00af00\">64</span>)             │        <span style=\"color: #00af00; text-decoration-color: #00af00\">19,968</span> │\n",
       "├─────────────────────────────────┼────────────────────────┼───────────────┤\n",
       "│ dropout (<span style=\"color: #0087ff; text-decoration-color: #0087ff\">Dropout</span>)               │ (<span style=\"color: #00d7ff; text-decoration-color: #00d7ff\">None</span>, <span style=\"color: #00af00; text-decoration-color: #00af00\">64</span>)             │             <span style=\"color: #00af00; text-decoration-color: #00af00\">0</span> │\n",
       "├─────────────────────────────────┼────────────────────────┼───────────────┤\n",
       "│ dense (<span style=\"color: #0087ff; text-decoration-color: #0087ff\">Dense</span>)                   │ (<span style=\"color: #00d7ff; text-decoration-color: #00d7ff\">None</span>, <span style=\"color: #00af00; text-decoration-color: #00af00\">32</span>)             │         <span style=\"color: #00af00; text-decoration-color: #00af00\">2,080</span> │\n",
       "├─────────────────────────────────┼────────────────────────┼───────────────┤\n",
       "│ dense_1 (<span style=\"color: #0087ff; text-decoration-color: #0087ff\">Dense</span>)                 │ (<span style=\"color: #00d7ff; text-decoration-color: #00d7ff\">None</span>, <span style=\"color: #00af00; text-decoration-color: #00af00\">1</span>)              │            <span style=\"color: #00af00; text-decoration-color: #00af00\">33</span> │\n",
       "└─────────────────────────────────┴────────────────────────┴───────────────┘\n",
       "</pre>\n"
      ],
      "text/plain": [
       "┏━━━━━━━━━━━━━━━━━━━━━━━━━━━━━━━━━┳━━━━━━━━━━━━━━━━━━━━━━━━┳━━━━━━━━━━━━━━━┓\n",
       "┃\u001b[1m \u001b[0m\u001b[1mLayer (type)                   \u001b[0m\u001b[1m \u001b[0m┃\u001b[1m \u001b[0m\u001b[1mOutput Shape          \u001b[0m\u001b[1m \u001b[0m┃\u001b[1m \u001b[0m\u001b[1m      Param #\u001b[0m\u001b[1m \u001b[0m┃\n",
       "┡━━━━━━━━━━━━━━━━━━━━━━━━━━━━━━━━━╇━━━━━━━━━━━━━━━━━━━━━━━━╇━━━━━━━━━━━━━━━┩\n",
       "│ embedding (\u001b[38;5;33mEmbedding\u001b[0m)           │ (\u001b[38;5;45mNone\u001b[0m, \u001b[38;5;34m30\u001b[0m, \u001b[38;5;34m13\u001b[0m)         │        \u001b[38;5;34m78,156\u001b[0m │\n",
       "├─────────────────────────────────┼────────────────────────┼───────────────┤\n",
       "│ lstm (\u001b[38;5;33mLSTM\u001b[0m)                     │ (\u001b[38;5;45mNone\u001b[0m, \u001b[38;5;34m64\u001b[0m)             │        \u001b[38;5;34m19,968\u001b[0m │\n",
       "├─────────────────────────────────┼────────────────────────┼───────────────┤\n",
       "│ dropout (\u001b[38;5;33mDropout\u001b[0m)               │ (\u001b[38;5;45mNone\u001b[0m, \u001b[38;5;34m64\u001b[0m)             │             \u001b[38;5;34m0\u001b[0m │\n",
       "├─────────────────────────────────┼────────────────────────┼───────────────┤\n",
       "│ dense (\u001b[38;5;33mDense\u001b[0m)                   │ (\u001b[38;5;45mNone\u001b[0m, \u001b[38;5;34m32\u001b[0m)             │         \u001b[38;5;34m2,080\u001b[0m │\n",
       "├─────────────────────────────────┼────────────────────────┼───────────────┤\n",
       "│ dense_1 (\u001b[38;5;33mDense\u001b[0m)                 │ (\u001b[38;5;45mNone\u001b[0m, \u001b[38;5;34m1\u001b[0m)              │            \u001b[38;5;34m33\u001b[0m │\n",
       "└─────────────────────────────────┴────────────────────────┴───────────────┘\n"
      ]
     },
     "metadata": {},
     "output_type": "display_data"
    },
    {
     "data": {
      "text/html": [
       "<pre style=\"white-space:pre;overflow-x:auto;line-height:normal;font-family:Menlo,'DejaVu Sans Mono',consolas,'Courier New',monospace\"><span style=\"font-weight: bold\"> Total params: </span><span style=\"color: #00af00; text-decoration-color: #00af00\">300,713</span> (1.15 MB)\n",
       "</pre>\n"
      ],
      "text/plain": [
       "\u001b[1m Total params: \u001b[0m\u001b[38;5;34m300,713\u001b[0m (1.15 MB)\n"
      ]
     },
     "metadata": {},
     "output_type": "display_data"
    },
    {
     "data": {
      "text/html": [
       "<pre style=\"white-space:pre;overflow-x:auto;line-height:normal;font-family:Menlo,'DejaVu Sans Mono',consolas,'Courier New',monospace\"><span style=\"font-weight: bold\"> Trainable params: </span><span style=\"color: #00af00; text-decoration-color: #00af00\">100,237</span> (391.55 KB)\n",
       "</pre>\n"
      ],
      "text/plain": [
       "\u001b[1m Trainable params: \u001b[0m\u001b[38;5;34m100,237\u001b[0m (391.55 KB)\n"
      ]
     },
     "metadata": {},
     "output_type": "display_data"
    },
    {
     "data": {
      "text/html": [
       "<pre style=\"white-space:pre;overflow-x:auto;line-height:normal;font-family:Menlo,'DejaVu Sans Mono',consolas,'Courier New',monospace\"><span style=\"font-weight: bold\"> Non-trainable params: </span><span style=\"color: #00af00; text-decoration-color: #00af00\">0</span> (0.00 B)\n",
       "</pre>\n"
      ],
      "text/plain": [
       "\u001b[1m Non-trainable params: \u001b[0m\u001b[38;5;34m0\u001b[0m (0.00 B)\n"
      ]
     },
     "metadata": {},
     "output_type": "display_data"
    },
    {
     "data": {
      "text/html": [
       "<pre style=\"white-space:pre;overflow-x:auto;line-height:normal;font-family:Menlo,'DejaVu Sans Mono',consolas,'Courier New',monospace\"><span style=\"font-weight: bold\"> Optimizer params: </span><span style=\"color: #00af00; text-decoration-color: #00af00\">200,476</span> (783.11 KB)\n",
       "</pre>\n"
      ],
      "text/plain": [
       "\u001b[1m Optimizer params: \u001b[0m\u001b[38;5;34m200,476\u001b[0m (783.11 KB)\n"
      ]
     },
     "metadata": {},
     "output_type": "display_data"
    }
   ],
   "source": [
    "\n",
    "from tensorflow.keras.layers import LSTM, Dropout\n",
    "\n",
    "# Define model\n",
    "model = Sequential([\n",
    "    Embedding(input_dim=vocabulary_size, output_dim=proposed_embedding_length, input_length=max_sequence_length),  # Word embedding\n",
    "    LSTM(64, return_sequences=False),  # LSTM layer for sequential processing\n",
    "    Dropout(0.5),  # Prevents overfitting\n",
    "    Dense(32, activation='relu'),  # Fully connected layer\n",
    "    Dense(1, activation='sigmoid')  # Output layer for binary classification\n",
    "])\n",
    "\n",
    "# Compile the model\n",
    "model.compile(loss='binary_crossentropy', optimizer='adam', metrics=['accuracy'])\n",
    "early_stop_check = EarlyStopping(monitor= 'val_accuracy', patience=3)\n",
    "results = model.fit(X_train, y_train, validation_data= (X_val, y_val), epochs=15, callbacks=early_stop_check)\n",
    "# Summary\n",
    "model.summary()"
   ]
  },
  {
   "cell_type": "markdown",
   "metadata": {},
   "source": [
    "<h5>Layer and Parameter Explanation</h5>\n",
    "<p>This is a sequential model consisting of 5 Layers. <br />\n",
    "The first layer in the model in an embdedding layer. This will convert the words into numerical vectors in a manner similar to one-hot encoding, but in a more efficient manner. This layer also learns the relationships that words have with each other. This layer consists of the highest number of parameters, which is derived from multiplying the vocabulary size vs the vector length for each word (6012 * 13).<br />\n",
    "The next layer that is used is the LSTM layer. This layer is necessary to capture sequential patterns in the text. Without this layer, the model would not be able to consider how words influence each other, so if a user were to type \"not good\" in a review without this layer, each word would be analyzed independently. With this layer, the model is capable of understanding that the word \"good\" is negated by the word \"not.\" This layer has a mathematical formula to determine the number of parameters. If we were to say the number of neurons (64) is x and the input size from the embedding layer (13) was y, the mathematical formula would be: Parameters = 4 * ((x * (x + y)) + y).<br />\n",
    "The third layer is the dropout layer. This layer can be thought of as \"turning off\" 50% of the model's neurons during training. This helps the model focus on generalizing observations, rather than overfitting. This will help ensure that the model is reliable when analyzing unseen reviews. This layer has no parameters, as it exists solely to reduce the model overfitting.<br />\n",
    "Next, we have our dense layer. This layer is essential due to the compressed output that the LSTM layer provides. The dense layer takes this data and transforms it such that it can be effectively used for binary classification. This layer consists of 32 nodes and the number of parameters is determined by multiplying the nodes of this layer (32) plus one (33) against the nodes of the previous layer (64), which results in 2080 parameters. <br />\n",
    "Finally, we have our output layer. This layer reduces the data to a probability score between 0 and 1 for the sentiment classification. This layer only requires a single neuron, and if that neuron has an output of 0.5 or higher, we consider the sentiment to be positive. Otherwise, it considers the sentiment to be negative. This layer has 33 parameters, which is the input from the prior layer (32) plus an additional round of output.</p>\n",
    "<h5>Choice of Hyperparameters</h5>\n",
    "<p>Hyperparameters are very important to use correctly in any neural network.<br />\n",
    "Throughout the analysis, 2 activation functions were used, once each: Rectified Linear Unit (ReLU) and Sigmoid. ReLU's high performance has made it an industry standard, and is often considered the defauly activation function for the dense layer. The output layer used a sigmoid function, to ensure that the model could be classigied in a binary manner. The sigmoid function's maximum and minimum values are 1 and 0, meaning that the data point could be classified based on whether the value was determined to be closer to the maximum or minimum.<br />\n",
    "The nodes are also important to determine in each layer. The nodes in the embedding layer are meant to be equal to the proposed embedding length that we have already established earlier in our analysis. 64 nodes were used on the LSTM layer because of the small size of the dataset. Using any more nodes would likely cause overfitting and harm performance going forward, given that the dataset only contains 3000 rows. The dropout layer doesn't exectly consider nodes the way the other layers do, and so it can be considered to have 0 nodes. Because the data is very simple, few nodes are required in the dense layer. As such, we have reduced the number of nodes from 64 to 32, to prevent overfitting of the data. Finally, we have the output step. Only 1 node is required, as we are trying to perform a sigmoid analysis with only one decision to be made: 1 or 0. This binary classification is best done with only one node to classify the data.<br />\n",
    "The loss function used in this analysis was binary cross-entropy. The model is attempting to solve a classification problem, rather than performing regression. This means that we need binary solutions (values of 1 or 0) for each input considered, which will be entirely correct or incorrect. Therefore, we need a binary loss function that can accurately classify this data, which binary cross-entropy is capable of. <br />\n",
    "The optimizer used for this analysis is Adam. This is a very commonly used, industry standard oprimizer that performs generally, and as no issues have arisen from using it within this context, there is no justification to deviate from the norm in this model. <br />\n",
    "The stopping criteria for this model is going to be the validation accuracy of the model. As mentioned above, the validation data is meant to perform a type of test on the data before the actual test dataset to ensure that the data does not overfit. Using the accuracy of the validation data allows the model to be optimized to accurately classify a general dataset, preventing the model from biasing itself on the results of the training dataset. Furthermore, I am using accuracy over loss because the loss is a continuous value that does not necessarily translate to better performance, given that we are trying to classify in a binary way, rather than perform any sort of continuous analysis<br />\n",
    "Finally, we have the evaluation metric. I determined that accuracy was the ideal metric to evaluate the performance of this model, for a variety of reasons. One reason is that accuract is a very intuitive, easy to interpret metric, which will allow the model's reliability to be understood much more simply. Furthermore, we have a balanced dataset, with no class imbalance in this project, which means there is no need to switch from accuracy, which is often the default in these types of analysis. Finally, accuracy is an incredibly efficient metric to calculate, as it doesn't need to take into account in which direction the data was wrong or how far off numerically the expected and true values are.</p>\n",
    "<h4 id=\"D\">Model Evaluation</h4>\n",
    "<h5>Impact of Stopping Criteria</h5>\n",
    "<p>We can see above that the model only continues training the data until epoch 11. This is because the maximal value for validation accuracy is achieved at epoch 8, with an 82% validation accuract rating. As the model was continually worsening the performance as it continued through the epochs, the model recognized that the performance had reached the maximal accuracy and ended early. Had the accuracy not continued this decline, the training process would have continued until one fo two conditions were met: either the model would have reached the maximum number of iterations, at 15, or it would have continued until there were 3 rows that performed worse than previous values, at which point it would have stopped.</p>\n"
   ]
  },
  {
   "cell_type": "markdown",
   "metadata": {},
   "source": [
    "<h5>Assessing Fitness of Model</h5>\n",
    "<p>Now that the model is created and trained, it is time to evaluate the performance of the model on the test data</p>"
   ]
  },
  {
   "cell_type": "code",
   "execution_count": 16,
   "metadata": {},
   "outputs": [
    {
     "name": "stdout",
     "output_type": "stream",
     "text": [
      "\u001b[1m14/14\u001b[0m \u001b[32m━━━━━━━━━━━━━━━━━━━━\u001b[0m\u001b[37m\u001b[0m \u001b[1m0s\u001b[0m 3ms/step - accuracy: 0.8054 - loss: 0.9800 \n"
     ]
    },
    {
     "data": {
      "text/plain": [
       "[0.8768873810768127, 0.802247166633606]"
      ]
     },
     "execution_count": 16,
     "metadata": {},
     "output_type": "execute_result"
    }
   ],
   "source": [
    "model.evaluate(X_test, y_test)\n"
   ]
  },
  {
   "cell_type": "markdown",
   "metadata": {},
   "source": [
    "<p>We can see that the model has a reasonable degree of accuracy, predicting the values correctly 80.54% of the time. As such, we know that the model peformed well on the binary classification aspect of the analysis. However, a loss of 0.98 is remarkably high, and makes concerned about the model's performance going forward. I suspect that this might, at least in part, be a result of the remarkably small sample size that was used in this analysis. We started with only 3000 rows of data, and after splitting into training, testing, and validation sets, the data used to perform each task is tragically limited.\n",
    "There were 2 actions that I took to help prevent overfitting. The first was the use of the Dropout layer in the model, to reduce the number of neurons by half. Reducing the number of neurons so drastically ensures that the model does not provide too much significance to the previous observations, reducing overfitting and improving the generalizability of the model. The next step I took was the use of the EarlyStopping() function. This function uses the validation dataset to determine implement a stop condition with the model, prioritizing accuracy on data that the model has not been trained with.</p>\n",
    "<h5>Training Visualizations</h5>  "
   ]
  },
  {
   "cell_type": "code",
   "execution_count": 14,
   "metadata": {},
   "outputs": [
    {
     "data": {
      "image/png": "[encoded data removed]",
      "text/plain": [
       "<Figure size 640x480 with 1 Axes>"
      ]
     },
     "metadata": {},
     "output_type": "display_data"
    }
   ],
   "source": [
    "plt.plot(results.history['loss'], label= \"Training Dataset Loss\")\n",
    "plt.plot(results.history['val_loss'], label= \"Validation Dataset Loss\")\n",
    "plt.xlabel(\"# Epochs\")\n",
    "plt.ylabel(\"Loss of Model\")\n",
    "plt.legend()\n",
    "plt.show()"
   ]
  },
  {
   "cell_type": "code",
   "execution_count": 15,
   "metadata": {},
   "outputs": [
    {
     "data": {
      "image/png": "[encoded data removed]",
      "text/plain": [
       "<Figure size 640x480 with 1 Axes>"
      ]
     },
     "metadata": {},
     "output_type": "display_data"
    }
   ],
   "source": [
    "plt.plot(results.history['accuracy'], label= \"Training Dataset Accuracy\")\n",
    "plt.plot(results.history['val_accuracy'], label= \"Validation Dataset Accuracy\")\n",
    "plt.xlabel(\"# Epochs\")\n",
    "plt.ylabel(\"Accuracy of Model\")\n",
    "plt.legend()\n",
    "plt.show()"
   ]
  },
  {
   "cell_type": "markdown",
   "metadata": {},
   "source": [
    "<h5>Predictive Accruacy</h5>\n",
    "<p>The final step in evaluating our model is to evaluate the accuracy of the model on the test data. We have already done so above, but here, we will look deeper into the data.</p>"
   ]
  },
  {
   "cell_type": "code",
   "execution_count": null,
   "metadata": {},
   "outputs": [
    {
     "name": "stdout",
     "output_type": "stream",
     "text": [
      "\u001b[1m14/14\u001b[0m \u001b[32m━━━━━━━━━━━━━━━━━━━━\u001b[0m\u001b[37m\u001b[0m \u001b[1m0s\u001b[0m 3ms/step - accuracy: 0.8054 - loss: 0.9800 \n"
     ]
    },
    {
     "data": {
      "text/plain": [
       "[0.8768873810768127, 0.802247166633606]"
      ]
     },
     "metadata": {},
     "output_type": "display_data"
    }
   ],
   "source": [
    "model.evaluate(X_test, y_test)\n"
   ]
  },
  {
   "cell_type": "code",
   "execution_count": 18,
   "metadata": {},
   "outputs": [
    {
     "name": "stdout",
     "output_type": "stream",
     "text": [
      "\u001b[1m14/14\u001b[0m \u001b[32m━━━━━━━━━━━━━━━━━━━━\u001b[0m\u001b[37m\u001b[0m \u001b[1m0s\u001b[0m 2ms/step\n",
      " Predicted Negative   |   Predicted Positive\n",
      "      [193  45]     Real Negative           \n",
      "     [ 43 164]     Real Positive           \n"
     ]
    }
   ],
   "source": [
    "y_pred = model.predict(X_test)\n",
    "# Round the probabilities provided by the model to the nearest integer\n",
    "y_pred = np.rint(y_pred)\n",
    "# Generate confusion matrix from the predictions and the y_test (truth) data\n",
    "print(\" Predicted Negative   |   Predicted Positive\")\n",
    "conf_mat = confusion_matrix(y_test, y_pred)\n",
    "print(f\"      {conf_mat[0]}     Real Negative           \")\n",
    "print(f\"     {conf_mat[1]}     Real Positive           \")"
   ]
  },
  {
   "cell_type": "markdown",
   "metadata": {},
   "source": [
    "<p>We can see that we have 357 correctly predicted values in this model, significantly more than the 88 false values. We can also validate that the likelihood of false negative and false positive is approximately equal, indicating that the model is not biased to provide any particular classification. The overall accuracy of the model makes it usable, with a decent degree of accuracy, but it is certainly far from infallable or certain in any given judgement.</p>\n",
    "<h4 id=\"E\">Code</h4>\n",
    "<p>All of the code used to make this model is provided above. I am also going to save the model and submit it alongside this Jupyter Notebook</p>"
   ]
  },
  {
   "cell_type": "code",
   "execution_count": 19,
   "metadata": {},
   "outputs": [
    {
     "name": "stderr",
     "output_type": "stream",
     "text": [
      "WARNING:absl:You are saving your model as an HDF5 file via `model.save()` or `keras.saving.save_model(model)`. This file format is considered legacy. We recommend using instead the native Keras format, e.g. `model.save('my_model.keras')` or `keras.saving.save_model(model, 'my_model.keras')`. \n"
     ]
    }
   ],
   "source": [
    "model.save(\"D213P2Model.h5\")"
   ]
  },
  {
   "cell_type": "markdown",
   "metadata": {},
   "source": [
    "<h4 id=\"F\">Functionality</h4>\n",
    "<p>Overall, the model is fairly functional, capable of identifying customer sentiment approximately 80% of the time. However, the loss is significantly higher than I would prefer, indicating that the model is not necessarily confident in the predictions. Therefore, it is certain that, though the model is usable, there is potentially an opportunity to improve how the model functions</p> <br />\n",
    "<p>The network architecture consists of 5 layers, which is fairly standard in smaller-scale neural networks such as this one. The layers work to first convert the model into a usable, numerical format (the embedded layer). Then, the LSTM layer is used to allow the model to capture sequential patterns in the text and solve for word dependencies. I also attempted to test this model with an additional Dense layer instead, but the accuracy was significantly harmed in my attempt to do so. The next layer used was the dropout layer, which was used to reduce the likelihood that the model suffers from overfitting (alongside the EarlyStopping function). This layer helped to ensure that the model wasn't overly focused on the training data and could instead make general predictions. Finally, we have the 2 Dense layers, the first transforming the data into a usable and efficient format, and the second (the output layer) using the sigmoid function to produce a probability score for binary classification. All of these layers were required to achieve this level of accuracy</p>\n",
    "<h4 id=\"G\">Course of Action</h4>\n",
    "<p>Overall, this model has a decent degree of accuracy, but a very poor performance on the loss metric. As such, I think that using the model for wider usage is feasible, but the ideal option would be to access more data that would allow the model to be trained more in-depth, giving the model more confidence in the predictions, and hopefully improving both the loss and accuracy going forward. The model can be put to use in a variety of functions, but I would only recommend usage when there is a human that can parse through the results, to ensure valid results. For example, I mentioned in the goals section of this paper that the model could be used to identify fake reviews. With this model's performance, I would recommend using the model to parse through the reviews and identify those that return a false negative or false positive value. Then, a human could parse through the data manually to attempt to evaluate this much smaller dataset to determine if the reviews are falsified.</p>\n",
    "<h4>Code References</h4>\n",
    "<p><a href=\"https://app.datacamp.com/learn/custom-tracks/custom-advanced-data-analytics\">DataCamp Track</a> used to learn how to use tensorflow and build the model</p>\n",
    "<p><a href=\"https://www.tensorflow.org/text/tutorials/text_classification_rnn\">Official Tensorflow Documentation</a> to create the RNN model</p>\n",
    "<h4>Source References</h4>\n",
    "<p><a href=\"https://www.geeksforgeeks.org/sentiment-analysis-with-an-recurrent-neural-networks-rnn/\">Geeks For Geeks article</a> used to determine the ideal type of neural network for this analysis</p>\n",
    "<p><a href=\"https://app.datacamp.com/learn/custom-tracks/custom-advanced-data-analytics\">DataCamp Track</a> used to learn the conceptual information regarding neural network operation</p>"
   ]
  }
 ],
 "metadata": {
  "kernelspec": {
   "display_name": "Python 3",
   "language": "python",
   "name": "python3"
  },
  "language_info": {
   "codemirror_mode": {
    "name": "ipython",
    "version": 3
   },
   "file_extension": ".py",
   "mimetype": "text/x-python",
   "name": "python",
   "nbconvert_exporter": "python",
   "pygments_lexer": "ipython3",
   "version": "3.12.8"
  }
 },
 "nbformat": 4,
 "nbformat_minor": 2
}
