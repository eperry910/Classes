{
 "cells": [
  {
   "cell_type": "markdown",
   "metadata": {},
   "source": [
    "## D213 Advanced Data Analytics PA 1\n",
    "##### Submitted By Edwin Perry\n",
    "### Table of Contents\n",
    "<ol>\n",
    "    <li><a href=\"#A\">Research Question</a></li>\n",
    "    <li><a href=\"#B\">Data Preparation</a></li>\n",
    "    <li><a href=\"#C\">Network Architecture</a></li>\n",
    "    <li><a href=\"#D\">Model Evaluation</a></li>\n",
    "    <li><a href=\"#E\">Summary and Recommendations</a></li>\n",
    "    <li><a href=\"#F\">Reporting</a></li>\n",
    "</ol>\n",
    "<h4 id=\"A\">Research Question</h4>"
   ]
  }
 ],
 "metadata": {
  "language_info": {
   "name": "python"
  }
 },
 "nbformat": 4,
 "nbformat_minor": 2
}
